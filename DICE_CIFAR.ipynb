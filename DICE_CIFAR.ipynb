{
 "cells": [
  {
   "attachments": {},
   "cell_type": "markdown",
   "metadata": {},
   "source": [
    "# DICE\n",
    "[DICE: Leveraging Sparsification for Out-of-Distribution Detection](https://arxiv.org/abs/2111.09805)"
   ]
  },
  {
   "cell_type": "code",
   "execution_count": 1,
   "metadata": {},
   "outputs": [],
   "source": [
    "from typing import Dict, Tuple, Union\n",
    "\n",
    "import torch\n",
    "from torch import Tensor\n",
    "\n",
    "import torchvision\n",
    "import torchvision.transforms as transforms\n",
    "from torchvision.models.feature_extraction import get_graph_node_names, create_feature_extractor\n",
    "\n",
    "from torchmetrics import Metric, CatMetric, MetricCollection\n",
    "from torchmetrics.classification import BinaryROC, BinaryPrecisionRecallCurve\n",
    "from torchmetrics.utilities.data import dim_zero_cat\n",
    "from torchmetrics.functional.classification.precision_recall_curve import _binary_precision_recall_curve_compute\n",
    "\n",
    "import numpy as np\n",
    "import pandas as pd\n",
    "import matplotlib.pyplot as plt\n",
    "\n",
    "from tqdm.auto import tqdm\n",
    "\n",
    "from models.densenet import DenseNet3\n",
    "import util.svhn_loader as svhn"
   ]
  },
  {
   "cell_type": "code",
   "execution_count": 2,
   "metadata": {},
   "outputs": [
    {
     "name": "stdout",
     "output_type": "stream",
     "text": [
      "Files already downloaded and verified\n",
      "Files already downloaded and verified\n",
      "Files already downloaded and verified\n"
     ]
    }
   ],
   "source": [
    "transform_cifar = transforms.Compose([\n",
    "  transforms.Resize(32),\n",
    "  transforms.CenterCrop(32),\n",
    "  transforms.ToTensor(),\n",
    "  transforms.Normalize((0.4914, 0.4822, 0.4465), (0.2023, 0.1994, 0.2010)),\n",
    "])\n",
    "\n",
    "datasets = {\n",
    "  'CIFAR-10': torchvision.datasets.CIFAR10(root='./datasets/id_datasets/', train=False, download=True, transform=transform_cifar),\n",
    "  'CIFAR-100': torchvision.datasets.CIFAR100(root='./datasets/id_datasets/', train=False, download=True, transform=transform_cifar), \n",
    "  'SVHN': svhn.SVHN('datasets/ood_datasets/svhn/', split='test', transform=transform_cifar, download=False),\n",
    "  'dtd': torchvision.datasets.ImageFolder(root=\"datasets/ood_datasets/dtd/images\", transform=transform_cifar),\n",
    "  'places365': torchvision.datasets.ImageFolder(root=\"datasets/ood_datasets/places365/\", transform=transform_cifar),\n",
    "  'celebA': torchvision.datasets.CelebA(root='datasets/ood_datasets/', split='test', download=True, transform=transform_cifar),\n",
    "  'iSUN': torchvision.datasets.ImageFolder(\"./datasets/ood_datasets/iSUN\", transform=transform_cifar),\n",
    "  'LSUN': torchvision.datasets.ImageFolder(\"./datasets/ood_datasets/LSUN\", transform=transform_cifar),\n",
    "  'LSUN_resize': torchvision.datasets.ImageFolder(\"./datasets/ood_datasets/LSUN_resize\", transform=transform_cifar),\n",
    "}\n",
    "\n",
    "dataloaders = {\n",
    "  k: torch.utils.data.DataLoader(v, batch_size=512, shuffle=False) for k,v in datasets.items()\n",
    "}\n",
    "\n",
    "ood_dls = ['SVHN', 'LSUN', 'LSUN_resize', 'iSUN', 'dtd', 'places365']\n",
    "\n",
    "device = 'cuda:0'\n",
    "result_dfs = {}"
   ]
  },
  {
   "cell_type": "code",
   "execution_count": 3,
   "metadata": {},
   "outputs": [],
   "source": [
    "class BinaryPrecisionRecallCurveOut(BinaryPrecisionRecallCurve):\n",
    "  def compute(self) -> Tuple[Tensor, Tensor, Tensor]:\n",
    "    if self.thresholds is None:\n",
    "      state = [1-dim_zero_cat(self.preds), 1-dim_zero_cat(self.target)]\n",
    "    else:\n",
    "      state = self.confmat.flip((1,2))\n",
    "    return _binary_precision_recall_curve_compute(state, self.thresholds)"
   ]
  },
  {
   "cell_type": "code",
   "execution_count": 4,
   "metadata": {},
   "outputs": [],
   "source": [
    "curves = MetricCollection({\n",
    "  'roc': BinaryROC(compute_on_cpu=True),\n",
    "  'prc_in': BinaryPrecisionRecallCurve(compute_on_cpu=True),\n",
    "  'prc_out': BinaryPrecisionRecallCurveOut(compute_on_cpu=True)\n",
    "})"
   ]
  },
  {
   "cell_type": "code",
   "execution_count": 5,
   "metadata": {},
   "outputs": [],
   "source": [
    "def compute_metrics(curves:MetricCollection) -> Dict[str, float]:\n",
    "  res = curves.compute()\n",
    "\n",
    "  fpr, tpr, _ = res['roc']\n",
    "  p_in, r_in, _ = res['prc_in']\n",
    "  p_out, r_out, _ = res['prc_out']\n",
    "\n",
    "  return {\n",
    "    'FPR@95': fpr[tpr <= 0.95].max().item(),\n",
    "    'DTErr': ((1-tpr+fpr)/2).min().item(),\n",
    "    'AUROC': torch.trapz(tpr, fpr).item(),\n",
    "    'AUPR_In': -torch.trapz(p_in, r_in).item(),\n",
    "    'AUPR_Out': -torch.trapz(p_out, r_out).item(),\n",
    "  }\n",
    "\n",
    "def run(\n",
    "  extractor:torch.fx.GraphModule,\n",
    "  dataloader:torch.utils.data.DataLoader,\n",
    "  is_ood:bool,\n",
    "  curves:MetricCollection,\n",
    "  device:str='cuda:0'\n",
    ") -> Dict[str, Union[Tuple[Tensor, Tensor], MetricCollection]]:\n",
    "  features = CatMetric(compute_on_cpu=True)\n",
    "  for x, _ in tqdm(dataloader):\n",
    "    with torch.no_grad():\n",
    "      res = extractor(x.to(device))\n",
    "      energy = torch.logsumexp(res['logit'], -1)/1000.0  # make sure that the value in [0,1] interval.\n",
    "      target = torch.tensor([not is_ood]*energy.shape[0], dtype=torch.int)  # 1 for ID, 0 for OOD.\n",
    "      features.update(res['feature'])\n",
    "      curves.update(energy, target)\n",
    "  return {\n",
    "    'features': (features.compute().mean(dim=0), features.compute().std(dim=0)),\n",
    "    'curves': curves\n",
    "  }"
   ]
  },
  {
   "attachments": {},
   "cell_type": "markdown",
   "metadata": {},
   "source": [
    "## CIFAR-100"
   ]
  },
  {
   "attachments": {},
   "cell_type": "markdown",
   "metadata": {},
   "source": [
    "* No Sparsity"
   ]
  },
  {
   "cell_type": "code",
   "execution_count": 6,
   "metadata": {},
   "outputs": [
    {
     "data": {
      "text/plain": [
       "['x',\n",
       " 'conv1',\n",
       " 'block1.layer.0.bn1',\n",
       " 'block1.layer.0.relu',\n",
       " 'block1.layer.0.conv1',\n",
       " 'block1.layer.0.bn2',\n",
       " 'block1.layer.0.relu_1',\n",
       " 'block1.layer.0.conv2',\n",
       " 'block1.layer.0.cat',\n",
       " 'block1.layer.1.bn1',\n",
       " 'block1.layer.1.relu',\n",
       " 'block1.layer.1.conv1',\n",
       " 'block1.layer.1.bn2',\n",
       " 'block1.layer.1.relu_1',\n",
       " 'block1.layer.1.conv2',\n",
       " 'block1.layer.1.cat',\n",
       " 'block1.layer.2.bn1',\n",
       " 'block1.layer.2.relu',\n",
       " 'block1.layer.2.conv1',\n",
       " 'block1.layer.2.bn2',\n",
       " 'block1.layer.2.relu_1',\n",
       " 'block1.layer.2.conv2',\n",
       " 'block1.layer.2.cat',\n",
       " 'block1.layer.3.bn1',\n",
       " 'block1.layer.3.relu',\n",
       " 'block1.layer.3.conv1',\n",
       " 'block1.layer.3.bn2',\n",
       " 'block1.layer.3.relu_1',\n",
       " 'block1.layer.3.conv2',\n",
       " 'block1.layer.3.cat',\n",
       " 'block1.layer.4.bn1',\n",
       " 'block1.layer.4.relu',\n",
       " 'block1.layer.4.conv1',\n",
       " 'block1.layer.4.bn2',\n",
       " 'block1.layer.4.relu_1',\n",
       " 'block1.layer.4.conv2',\n",
       " 'block1.layer.4.cat',\n",
       " 'block1.layer.5.bn1',\n",
       " 'block1.layer.5.relu',\n",
       " 'block1.layer.5.conv1',\n",
       " 'block1.layer.5.bn2',\n",
       " 'block1.layer.5.relu_1',\n",
       " 'block1.layer.5.conv2',\n",
       " 'block1.layer.5.cat',\n",
       " 'block1.layer.6.bn1',\n",
       " 'block1.layer.6.relu',\n",
       " 'block1.layer.6.conv1',\n",
       " 'block1.layer.6.bn2',\n",
       " 'block1.layer.6.relu_1',\n",
       " 'block1.layer.6.conv2',\n",
       " 'block1.layer.6.cat',\n",
       " 'block1.layer.7.bn1',\n",
       " 'block1.layer.7.relu',\n",
       " 'block1.layer.7.conv1',\n",
       " 'block1.layer.7.bn2',\n",
       " 'block1.layer.7.relu_1',\n",
       " 'block1.layer.7.conv2',\n",
       " 'block1.layer.7.cat',\n",
       " 'block1.layer.8.bn1',\n",
       " 'block1.layer.8.relu',\n",
       " 'block1.layer.8.conv1',\n",
       " 'block1.layer.8.bn2',\n",
       " 'block1.layer.8.relu_1',\n",
       " 'block1.layer.8.conv2',\n",
       " 'block1.layer.8.cat',\n",
       " 'block1.layer.9.bn1',\n",
       " 'block1.layer.9.relu',\n",
       " 'block1.layer.9.conv1',\n",
       " 'block1.layer.9.bn2',\n",
       " 'block1.layer.9.relu_1',\n",
       " 'block1.layer.9.conv2',\n",
       " 'block1.layer.9.cat',\n",
       " 'block1.layer.10.bn1',\n",
       " 'block1.layer.10.relu',\n",
       " 'block1.layer.10.conv1',\n",
       " 'block1.layer.10.bn2',\n",
       " 'block1.layer.10.relu_1',\n",
       " 'block1.layer.10.conv2',\n",
       " 'block1.layer.10.cat',\n",
       " 'block1.layer.11.bn1',\n",
       " 'block1.layer.11.relu',\n",
       " 'block1.layer.11.conv1',\n",
       " 'block1.layer.11.bn2',\n",
       " 'block1.layer.11.relu_1',\n",
       " 'block1.layer.11.conv2',\n",
       " 'block1.layer.11.cat',\n",
       " 'block1.layer.12.bn1',\n",
       " 'block1.layer.12.relu',\n",
       " 'block1.layer.12.conv1',\n",
       " 'block1.layer.12.bn2',\n",
       " 'block1.layer.12.relu_1',\n",
       " 'block1.layer.12.conv2',\n",
       " 'block1.layer.12.cat',\n",
       " 'block1.layer.13.bn1',\n",
       " 'block1.layer.13.relu',\n",
       " 'block1.layer.13.conv1',\n",
       " 'block1.layer.13.bn2',\n",
       " 'block1.layer.13.relu_1',\n",
       " 'block1.layer.13.conv2',\n",
       " 'block1.layer.13.cat',\n",
       " 'block1.layer.14.bn1',\n",
       " 'block1.layer.14.relu',\n",
       " 'block1.layer.14.conv1',\n",
       " 'block1.layer.14.bn2',\n",
       " 'block1.layer.14.relu_1',\n",
       " 'block1.layer.14.conv2',\n",
       " 'block1.layer.14.cat',\n",
       " 'block1.layer.15.bn1',\n",
       " 'block1.layer.15.relu',\n",
       " 'block1.layer.15.conv1',\n",
       " 'block1.layer.15.bn2',\n",
       " 'block1.layer.15.relu_1',\n",
       " 'block1.layer.15.conv2',\n",
       " 'block1.layer.15.cat',\n",
       " 'trans1.bn1',\n",
       " 'trans1.relu',\n",
       " 'trans1.conv1',\n",
       " 'trans1.avg_pool2d',\n",
       " 'block2.layer.0.bn1',\n",
       " 'block2.layer.0.relu',\n",
       " 'block2.layer.0.conv1',\n",
       " 'block2.layer.0.bn2',\n",
       " 'block2.layer.0.relu_1',\n",
       " 'block2.layer.0.conv2',\n",
       " 'block2.layer.0.cat',\n",
       " 'block2.layer.1.bn1',\n",
       " 'block2.layer.1.relu',\n",
       " 'block2.layer.1.conv1',\n",
       " 'block2.layer.1.bn2',\n",
       " 'block2.layer.1.relu_1',\n",
       " 'block2.layer.1.conv2',\n",
       " 'block2.layer.1.cat',\n",
       " 'block2.layer.2.bn1',\n",
       " 'block2.layer.2.relu',\n",
       " 'block2.layer.2.conv1',\n",
       " 'block2.layer.2.bn2',\n",
       " 'block2.layer.2.relu_1',\n",
       " 'block2.layer.2.conv2',\n",
       " 'block2.layer.2.cat',\n",
       " 'block2.layer.3.bn1',\n",
       " 'block2.layer.3.relu',\n",
       " 'block2.layer.3.conv1',\n",
       " 'block2.layer.3.bn2',\n",
       " 'block2.layer.3.relu_1',\n",
       " 'block2.layer.3.conv2',\n",
       " 'block2.layer.3.cat',\n",
       " 'block2.layer.4.bn1',\n",
       " 'block2.layer.4.relu',\n",
       " 'block2.layer.4.conv1',\n",
       " 'block2.layer.4.bn2',\n",
       " 'block2.layer.4.relu_1',\n",
       " 'block2.layer.4.conv2',\n",
       " 'block2.layer.4.cat',\n",
       " 'block2.layer.5.bn1',\n",
       " 'block2.layer.5.relu',\n",
       " 'block2.layer.5.conv1',\n",
       " 'block2.layer.5.bn2',\n",
       " 'block2.layer.5.relu_1',\n",
       " 'block2.layer.5.conv2',\n",
       " 'block2.layer.5.cat',\n",
       " 'block2.layer.6.bn1',\n",
       " 'block2.layer.6.relu',\n",
       " 'block2.layer.6.conv1',\n",
       " 'block2.layer.6.bn2',\n",
       " 'block2.layer.6.relu_1',\n",
       " 'block2.layer.6.conv2',\n",
       " 'block2.layer.6.cat',\n",
       " 'block2.layer.7.bn1',\n",
       " 'block2.layer.7.relu',\n",
       " 'block2.layer.7.conv1',\n",
       " 'block2.layer.7.bn2',\n",
       " 'block2.layer.7.relu_1',\n",
       " 'block2.layer.7.conv2',\n",
       " 'block2.layer.7.cat',\n",
       " 'block2.layer.8.bn1',\n",
       " 'block2.layer.8.relu',\n",
       " 'block2.layer.8.conv1',\n",
       " 'block2.layer.8.bn2',\n",
       " 'block2.layer.8.relu_1',\n",
       " 'block2.layer.8.conv2',\n",
       " 'block2.layer.8.cat',\n",
       " 'block2.layer.9.bn1',\n",
       " 'block2.layer.9.relu',\n",
       " 'block2.layer.9.conv1',\n",
       " 'block2.layer.9.bn2',\n",
       " 'block2.layer.9.relu_1',\n",
       " 'block2.layer.9.conv2',\n",
       " 'block2.layer.9.cat',\n",
       " 'block2.layer.10.bn1',\n",
       " 'block2.layer.10.relu',\n",
       " 'block2.layer.10.conv1',\n",
       " 'block2.layer.10.bn2',\n",
       " 'block2.layer.10.relu_1',\n",
       " 'block2.layer.10.conv2',\n",
       " 'block2.layer.10.cat',\n",
       " 'block2.layer.11.bn1',\n",
       " 'block2.layer.11.relu',\n",
       " 'block2.layer.11.conv1',\n",
       " 'block2.layer.11.bn2',\n",
       " 'block2.layer.11.relu_1',\n",
       " 'block2.layer.11.conv2',\n",
       " 'block2.layer.11.cat',\n",
       " 'block2.layer.12.bn1',\n",
       " 'block2.layer.12.relu',\n",
       " 'block2.layer.12.conv1',\n",
       " 'block2.layer.12.bn2',\n",
       " 'block2.layer.12.relu_1',\n",
       " 'block2.layer.12.conv2',\n",
       " 'block2.layer.12.cat',\n",
       " 'block2.layer.13.bn1',\n",
       " 'block2.layer.13.relu',\n",
       " 'block2.layer.13.conv1',\n",
       " 'block2.layer.13.bn2',\n",
       " 'block2.layer.13.relu_1',\n",
       " 'block2.layer.13.conv2',\n",
       " 'block2.layer.13.cat',\n",
       " 'block2.layer.14.bn1',\n",
       " 'block2.layer.14.relu',\n",
       " 'block2.layer.14.conv1',\n",
       " 'block2.layer.14.bn2',\n",
       " 'block2.layer.14.relu_1',\n",
       " 'block2.layer.14.conv2',\n",
       " 'block2.layer.14.cat',\n",
       " 'block2.layer.15.bn1',\n",
       " 'block2.layer.15.relu',\n",
       " 'block2.layer.15.conv1',\n",
       " 'block2.layer.15.bn2',\n",
       " 'block2.layer.15.relu_1',\n",
       " 'block2.layer.15.conv2',\n",
       " 'block2.layer.15.cat',\n",
       " 'trans2.bn1',\n",
       " 'trans2.relu',\n",
       " 'trans2.conv1',\n",
       " 'trans2.avg_pool2d',\n",
       " 'block3.layer.0.bn1',\n",
       " 'block3.layer.0.relu',\n",
       " 'block3.layer.0.conv1',\n",
       " 'block3.layer.0.bn2',\n",
       " 'block3.layer.0.relu_1',\n",
       " 'block3.layer.0.conv2',\n",
       " 'block3.layer.0.cat',\n",
       " 'block3.layer.1.bn1',\n",
       " 'block3.layer.1.relu',\n",
       " 'block3.layer.1.conv1',\n",
       " 'block3.layer.1.bn2',\n",
       " 'block3.layer.1.relu_1',\n",
       " 'block3.layer.1.conv2',\n",
       " 'block3.layer.1.cat',\n",
       " 'block3.layer.2.bn1',\n",
       " 'block3.layer.2.relu',\n",
       " 'block3.layer.2.conv1',\n",
       " 'block3.layer.2.bn2',\n",
       " 'block3.layer.2.relu_1',\n",
       " 'block3.layer.2.conv2',\n",
       " 'block3.layer.2.cat',\n",
       " 'block3.layer.3.bn1',\n",
       " 'block3.layer.3.relu',\n",
       " 'block3.layer.3.conv1',\n",
       " 'block3.layer.3.bn2',\n",
       " 'block3.layer.3.relu_1',\n",
       " 'block3.layer.3.conv2',\n",
       " 'block3.layer.3.cat',\n",
       " 'block3.layer.4.bn1',\n",
       " 'block3.layer.4.relu',\n",
       " 'block3.layer.4.conv1',\n",
       " 'block3.layer.4.bn2',\n",
       " 'block3.layer.4.relu_1',\n",
       " 'block3.layer.4.conv2',\n",
       " 'block3.layer.4.cat',\n",
       " 'block3.layer.5.bn1',\n",
       " 'block3.layer.5.relu',\n",
       " 'block3.layer.5.conv1',\n",
       " 'block3.layer.5.bn2',\n",
       " 'block3.layer.5.relu_1',\n",
       " 'block3.layer.5.conv2',\n",
       " 'block3.layer.5.cat',\n",
       " 'block3.layer.6.bn1',\n",
       " 'block3.layer.6.relu',\n",
       " 'block3.layer.6.conv1',\n",
       " 'block3.layer.6.bn2',\n",
       " 'block3.layer.6.relu_1',\n",
       " 'block3.layer.6.conv2',\n",
       " 'block3.layer.6.cat',\n",
       " 'block3.layer.7.bn1',\n",
       " 'block3.layer.7.relu',\n",
       " 'block3.layer.7.conv1',\n",
       " 'block3.layer.7.bn2',\n",
       " 'block3.layer.7.relu_1',\n",
       " 'block3.layer.7.conv2',\n",
       " 'block3.layer.7.cat',\n",
       " 'block3.layer.8.bn1',\n",
       " 'block3.layer.8.relu',\n",
       " 'block3.layer.8.conv1',\n",
       " 'block3.layer.8.bn2',\n",
       " 'block3.layer.8.relu_1',\n",
       " 'block3.layer.8.conv2',\n",
       " 'block3.layer.8.cat',\n",
       " 'block3.layer.9.bn1',\n",
       " 'block3.layer.9.relu',\n",
       " 'block3.layer.9.conv1',\n",
       " 'block3.layer.9.bn2',\n",
       " 'block3.layer.9.relu_1',\n",
       " 'block3.layer.9.conv2',\n",
       " 'block3.layer.9.cat',\n",
       " 'block3.layer.10.bn1',\n",
       " 'block3.layer.10.relu',\n",
       " 'block3.layer.10.conv1',\n",
       " 'block3.layer.10.bn2',\n",
       " 'block3.layer.10.relu_1',\n",
       " 'block3.layer.10.conv2',\n",
       " 'block3.layer.10.cat',\n",
       " 'block3.layer.11.bn1',\n",
       " 'block3.layer.11.relu',\n",
       " 'block3.layer.11.conv1',\n",
       " 'block3.layer.11.bn2',\n",
       " 'block3.layer.11.relu_1',\n",
       " 'block3.layer.11.conv2',\n",
       " 'block3.layer.11.cat',\n",
       " 'block3.layer.12.bn1',\n",
       " 'block3.layer.12.relu',\n",
       " 'block3.layer.12.conv1',\n",
       " 'block3.layer.12.bn2',\n",
       " 'block3.layer.12.relu_1',\n",
       " 'block3.layer.12.conv2',\n",
       " 'block3.layer.12.cat',\n",
       " 'block3.layer.13.bn1',\n",
       " 'block3.layer.13.relu',\n",
       " 'block3.layer.13.conv1',\n",
       " 'block3.layer.13.bn2',\n",
       " 'block3.layer.13.relu_1',\n",
       " 'block3.layer.13.conv2',\n",
       " 'block3.layer.13.cat',\n",
       " 'block3.layer.14.bn1',\n",
       " 'block3.layer.14.relu',\n",
       " 'block3.layer.14.conv1',\n",
       " 'block3.layer.14.bn2',\n",
       " 'block3.layer.14.relu_1',\n",
       " 'block3.layer.14.conv2',\n",
       " 'block3.layer.14.cat',\n",
       " 'block3.layer.15.bn1',\n",
       " 'block3.layer.15.relu',\n",
       " 'block3.layer.15.conv1',\n",
       " 'block3.layer.15.bn2',\n",
       " 'block3.layer.15.relu_1',\n",
       " 'block3.layer.15.conv2',\n",
       " 'block3.layer.15.cat',\n",
       " 'bn1',\n",
       " 'relu',\n",
       " 'avg_pool2d',\n",
       " 'view',\n",
       " 'fc']"
      ]
     },
     "execution_count": 6,
     "metadata": {},
     "output_type": "execute_result"
    }
   ],
   "source": [
    "densenet = DenseNet3(100, 100, 12, reduction=0.5, bottleneck=True, dropRate=0.0, normalizer=None, p=None, info=None)\n",
    "checkpoint = torch.load(\"./checkpoints/CIFAR-100/densenet/checkpoint_100.pth.tar\", \"cpu\")\n",
    "densenet.load_state_dict(checkpoint['state_dict'])\n",
    "densenet.eval()\n",
    "\n",
    "get_graph_node_names(densenet)[1]"
   ]
  },
  {
   "cell_type": "code",
   "execution_count": 7,
   "metadata": {},
   "outputs": [],
   "source": [
    "return_nodes = {'view': 'feature', 'fc': 'logit'}\n",
    "extractor = create_feature_extractor(densenet, return_nodes).to(device)"
   ]
  },
  {
   "cell_type": "code",
   "execution_count": 8,
   "metadata": {},
   "outputs": [
    {
     "data": {
      "application/vnd.jupyter.widget-view+json": {
       "model_id": "6740899060dc4510bf23d119ed8c013f",
       "version_major": 2,
       "version_minor": 0
      },
      "text/plain": [
       "  0%|          | 0/20 [00:00<?, ?it/s]"
      ]
     },
     "metadata": {},
     "output_type": "display_data"
    }
   ],
   "source": [
    "curves.reset()\n",
    "\n",
    "res_id = run(extractor, dataloaders['CIFAR-100'], False, curves)\n",
    "\n",
    "id_avg, id_std = res_id['features']\n",
    "id_curves = res_id['curves']"
   ]
  },
  {
   "cell_type": "code",
   "execution_count": 9,
   "metadata": {},
   "outputs": [
    {
     "data": {
      "application/vnd.jupyter.widget-view+json": {
       "model_id": "832e815260ee49598fba699ea8f433e6",
       "version_major": 2,
       "version_minor": 0
      },
      "text/plain": [
       "  0%|          | 0/20 [00:00<?, ?it/s]"
      ]
     },
     "metadata": {},
     "output_type": "display_data"
    },
    {
     "data": {
      "application/vnd.jupyter.widget-view+json": {
       "model_id": "4c854b8483404ea98608246e3a6638d3",
       "version_major": 2,
       "version_minor": 0
      },
      "text/plain": [
       "  0%|          | 0/20 [00:00<?, ?it/s]"
      ]
     },
     "metadata": {},
     "output_type": "display_data"
    },
    {
     "data": {
      "application/vnd.jupyter.widget-view+json": {
       "model_id": "da4cdc2e53984630933fa2568e650c01",
       "version_major": 2,
       "version_minor": 0
      },
      "text/plain": [
       "  0%|          | 0/20 [00:00<?, ?it/s]"
      ]
     },
     "metadata": {},
     "output_type": "display_data"
    },
    {
     "data": {
      "application/vnd.jupyter.widget-view+json": {
       "model_id": "02ea32f806b1472e8de5eae83aa82cd3",
       "version_major": 2,
       "version_minor": 0
      },
      "text/plain": [
       "  0%|          | 0/18 [00:00<?, ?it/s]"
      ]
     },
     "metadata": {},
     "output_type": "display_data"
    },
    {
     "data": {
      "application/vnd.jupyter.widget-view+json": {
       "model_id": "9cc7e80487734c27b5b4e83d446dfae4",
       "version_major": 2,
       "version_minor": 0
      },
      "text/plain": [
       "  0%|          | 0/12 [00:00<?, ?it/s]"
      ]
     },
     "metadata": {},
     "output_type": "display_data"
    },
    {
     "data": {
      "application/vnd.jupyter.widget-view+json": {
       "model_id": "065f903f659e4767ad248af3e9d91218",
       "version_major": 2,
       "version_minor": 0
      },
      "text/plain": [
       "  0%|          | 0/642 [00:00<?, ?it/s]"
      ]
     },
     "metadata": {},
     "output_type": "display_data"
    }
   ],
   "source": [
    "ood_features = {}\n",
    "ood_metrics = {}\n",
    "\n",
    "for nm in ood_dls:\n",
    "  curves = id_curves.clone()\n",
    "\n",
    "  res_ood = run(extractor, dataloaders[nm], True, curves)\n",
    "\n",
    "  ood_features[nm] = res_ood['features']\n",
    "  ood_metrics[nm] = compute_metrics(res_ood['curves'])"
   ]
  },
  {
   "cell_type": "code",
   "execution_count": 10,
   "metadata": {},
   "outputs": [
    {
     "data": {
      "text/html": [
       "<div>\n",
       "<style scoped>\n",
       "    .dataframe tbody tr th:only-of-type {\n",
       "        vertical-align: middle;\n",
       "    }\n",
       "\n",
       "    .dataframe tbody tr th {\n",
       "        vertical-align: top;\n",
       "    }\n",
       "\n",
       "    .dataframe thead th {\n",
       "        text-align: right;\n",
       "    }\n",
       "</style>\n",
       "<table border=\"1\" class=\"dataframe\">\n",
       "  <thead>\n",
       "    <tr style=\"text-align: right;\">\n",
       "      <th></th>\n",
       "      <th>FPR@95</th>\n",
       "      <th>AUROC</th>\n",
       "      <th>AUPR_In</th>\n",
       "    </tr>\n",
       "  </thead>\n",
       "  <tbody>\n",
       "    <tr>\n",
       "      <th>SVHN</th>\n",
       "      <td>0.875400</td>\n",
       "      <td>0.818515</td>\n",
       "      <td>0.863067</td>\n",
       "    </tr>\n",
       "    <tr>\n",
       "      <th>LSUN</th>\n",
       "      <td>0.147800</td>\n",
       "      <td>0.974348</td>\n",
       "      <td>0.976312</td>\n",
       "    </tr>\n",
       "    <tr>\n",
       "      <th>LSUN_resize</th>\n",
       "      <td>0.707300</td>\n",
       "      <td>0.801376</td>\n",
       "      <td>0.814240</td>\n",
       "    </tr>\n",
       "    <tr>\n",
       "      <th>iSUN</th>\n",
       "      <td>0.746106</td>\n",
       "      <td>0.789539</td>\n",
       "      <td>0.817554</td>\n",
       "    </tr>\n",
       "    <tr>\n",
       "      <th>dtd</th>\n",
       "      <td>0.843617</td>\n",
       "      <td>0.710096</td>\n",
       "      <td>0.765005</td>\n",
       "    </tr>\n",
       "    <tr>\n",
       "      <th>places365</th>\n",
       "      <td>0.782843</td>\n",
       "      <td>0.781495</td>\n",
       "      <td>0.141730</td>\n",
       "    </tr>\n",
       "    <tr>\n",
       "      <th>Avg.</th>\n",
       "      <td>0.683844</td>\n",
       "      <td>0.812562</td>\n",
       "      <td>0.729651</td>\n",
       "    </tr>\n",
       "  </tbody>\n",
       "</table>\n",
       "</div>"
      ],
      "text/plain": [
       "               FPR@95     AUROC   AUPR_In\n",
       "SVHN         0.875400  0.818515  0.863067\n",
       "LSUN         0.147800  0.974348  0.976312\n",
       "LSUN_resize  0.707300  0.801376  0.814240\n",
       "iSUN         0.746106  0.789539  0.817554\n",
       "dtd          0.843617  0.710096  0.765005\n",
       "places365    0.782843  0.781495  0.141730\n",
       "Avg.         0.683844  0.812562  0.729651"
      ]
     },
     "execution_count": 10,
     "metadata": {},
     "output_type": "execute_result"
    }
   ],
   "source": [
    "df = pd.DataFrame(ood_metrics)\n",
    "df['Avg.'] = df.mean(axis=1)\n",
    "result_dfs['CIFAR-100_energy'] = df.T\n",
    "\n",
    "df.T[['FPR@95', 'AUROC', 'AUPR_In']]"
   ]
  },
  {
   "attachments": {},
   "cell_type": "markdown",
   "metadata": {},
   "source": [
    "* With Sparsity $p=90$"
   ]
  },
  {
   "cell_type": "code",
   "execution_count": 11,
   "metadata": {},
   "outputs": [
    {
     "data": {
      "image/png": "[encoded data removed]",
      "text/plain": [
       "<Figure size 640x480 with 1 Axes>"
      ]
     },
     "metadata": {},
     "output_type": "display_data"
    }
   ],
   "source": [
    "idx = id_avg.argsort()\n",
    "\n",
    "plt.title('Features')\n",
    "plt.plot(range(len(idx)), id_avg[idx], color='red', label='CIFAR-100')\n",
    "plt.fill_between(\n",
    "  range(len(idx)),\n",
    "  id_avg[idx] - 2*id_std[idx],\n",
    "  id_avg[idx] + 2*id_std[idx],\n",
    "  color='red', alpha=.1\n",
    ")\n",
    "\n",
    "for k, (avg, std) in ood_features.items():\n",
    "  plt.scatter(range(len(idx)), avg[idx], s=1, label=k)\n",
    "  # plt.fill_between(range(len(idx)), avg[idx] - 2*std[idx], avg[idx] + 2*std[idx], alpha=.1)\n",
    "\n",
    "plt.legend()\n",
    "plt.show()"
   ]
  },
  {
   "cell_type": "code",
   "execution_count": 12,
   "metadata": {},
   "outputs": [],
   "source": [
    "weight = extractor.fc.weight.data.cpu()\n",
    "contrib = id_avg * weight\n",
    "thresh = np.percentile(contrib, 90)\n",
    "mask = contrib > thresh\n",
    "extractor.fc.weight.data = (mask * weight).to(device)"
   ]
  },
  {
   "cell_type": "code",
   "execution_count": 13,
   "metadata": {},
   "outputs": [
    {
     "data": {
      "image/png": "[encoded data removed]",
      "text/plain": [
       "<Figure size 640x480 with 1 Axes>"
      ]
     },
     "metadata": {},
     "output_type": "display_data"
    }
   ],
   "source": [
    "id_avg = (id_avg * weight).flatten()\n",
    "id_std = (id_std * weight).flatten()\n",
    "idx = id_avg.argsort()\n",
    "\n",
    "plt.title('Contribution')\n",
    "plt.plot(range(len(idx)), id_avg[idx], color='red', label='CIFAR-100')\n",
    "plt.fill_between(\n",
    "  range(len(idx)),\n",
    "  id_avg[idx] - 2*id_std[idx],\n",
    "  id_avg[idx] + 2*id_std[idx],\n",
    "  color='red', alpha=.1\n",
    ")\n",
    "\n",
    "for k, (avg, std) in ood_features.items():\n",
    "  avg, std = (avg * weight).flatten(), (std * weight).flatten()\n",
    "  plt.scatter(range(len(idx)), avg[idx], s=1, label=k)\n",
    "  # plt.fill_between(range(len(idx)), avg[idx] - 2*std[idx], avg[idx] + 2*std[idx], alpha=.1)\n",
    "\n",
    "plt.legend()\n",
    "plt.show()"
   ]
  },
  {
   "cell_type": "code",
   "execution_count": 14,
   "metadata": {},
   "outputs": [
    {
     "data": {
      "application/vnd.jupyter.widget-view+json": {
       "model_id": "c504fbfabe71427cb1411b7dfea7d9b1",
       "version_major": 2,
       "version_minor": 0
      },
      "text/plain": [
       "  0%|          | 0/20 [00:00<?, ?it/s]"
      ]
     },
     "metadata": {},
     "output_type": "display_data"
    }
   ],
   "source": [
    "curves.reset()\n",
    "\n",
    "res_id = run(extractor, dataloaders['CIFAR-100'], False, curves)\n",
    "\n",
    "id_avg, id_std = res_id['features']\n",
    "id_curves = res_id['curves']"
   ]
  },
  {
   "cell_type": "code",
   "execution_count": 15,
   "metadata": {},
   "outputs": [
    {
     "data": {
      "application/vnd.jupyter.widget-view+json": {
       "model_id": "12726d4c9c8e48ad9234967b67f4f069",
       "version_major": 2,
       "version_minor": 0
      },
      "text/plain": [
       "  0%|          | 0/20 [00:00<?, ?it/s]"
      ]
     },
     "metadata": {},
     "output_type": "display_data"
    },
    {
     "data": {
      "application/vnd.jupyter.widget-view+json": {
       "model_id": "4be5d71a98364304a6887c7c12784956",
       "version_major": 2,
       "version_minor": 0
      },
      "text/plain": [
       "  0%|          | 0/20 [00:00<?, ?it/s]"
      ]
     },
     "metadata": {},
     "output_type": "display_data"
    },
    {
     "data": {
      "application/vnd.jupyter.widget-view+json": {
       "model_id": "b7704ab0a2264125876983d9d9f976d2",
       "version_major": 2,
       "version_minor": 0
      },
      "text/plain": [
       "  0%|          | 0/20 [00:00<?, ?it/s]"
      ]
     },
     "metadata": {},
     "output_type": "display_data"
    },
    {
     "data": {
      "application/vnd.jupyter.widget-view+json": {
       "model_id": "bdcca6ed084149e1b6afd0fd33b4dc1b",
       "version_major": 2,
       "version_minor": 0
      },
      "text/plain": [
       "  0%|          | 0/18 [00:00<?, ?it/s]"
      ]
     },
     "metadata": {},
     "output_type": "display_data"
    },
    {
     "data": {
      "application/vnd.jupyter.widget-view+json": {
       "model_id": "bef991498ef14368ac26fc0750f11d3d",
       "version_major": 2,
       "version_minor": 0
      },
      "text/plain": [
       "  0%|          | 0/12 [00:00<?, ?it/s]"
      ]
     },
     "metadata": {},
     "output_type": "display_data"
    },
    {
     "data": {
      "application/vnd.jupyter.widget-view+json": {
       "model_id": "02c907f26d474c96a329b22d62ee29af",
       "version_major": 2,
       "version_minor": 0
      },
      "text/plain": [
       "  0%|          | 0/642 [00:00<?, ?it/s]"
      ]
     },
     "metadata": {},
     "output_type": "display_data"
    }
   ],
   "source": [
    "ood_features = {}\n",
    "ood_metrics = {}\n",
    "\n",
    "for nm in ood_dls:\n",
    "  curves = id_curves.clone()\n",
    "\n",
    "  res_ood = run(extractor, dataloaders[nm], True, curves)\n",
    "\n",
    "  ood_features[nm] = res_ood['features']\n",
    "  ood_metrics[nm] = compute_metrics(res_ood['curves'])"
   ]
  },
  {
   "cell_type": "code",
   "execution_count": 16,
   "metadata": {},
   "outputs": [
    {
     "data": {
      "text/html": [
       "<div>\n",
       "<style scoped>\n",
       "    .dataframe tbody tr th:only-of-type {\n",
       "        vertical-align: middle;\n",
       "    }\n",
       "\n",
       "    .dataframe tbody tr th {\n",
       "        vertical-align: top;\n",
       "    }\n",
       "\n",
       "    .dataframe thead th {\n",
       "        text-align: right;\n",
       "    }\n",
       "</style>\n",
       "<table border=\"1\" class=\"dataframe\">\n",
       "  <thead>\n",
       "    <tr style=\"text-align: right;\">\n",
       "      <th></th>\n",
       "      <th>FPR@95</th>\n",
       "      <th>AUROC</th>\n",
       "      <th>AUPR_In</th>\n",
       "    </tr>\n",
       "  </thead>\n",
       "  <tbody>\n",
       "    <tr>\n",
       "      <th>SVHN</th>\n",
       "      <td>0.591500</td>\n",
       "      <td>0.886079</td>\n",
       "      <td>0.903695</td>\n",
       "    </tr>\n",
       "    <tr>\n",
       "      <th>LSUN</th>\n",
       "      <td>0.009200</td>\n",
       "      <td>0.997392</td>\n",
       "      <td>0.997412</td>\n",
       "    </tr>\n",
       "    <tr>\n",
       "      <th>LSUN_resize</th>\n",
       "      <td>0.516800</td>\n",
       "      <td>0.893147</td>\n",
       "      <td>0.902909</td>\n",
       "    </tr>\n",
       "    <tr>\n",
       "      <th>iSUN</th>\n",
       "      <td>0.494006</td>\n",
       "      <td>0.894948</td>\n",
       "      <td>0.909927</td>\n",
       "    </tr>\n",
       "    <tr>\n",
       "      <th>dtd</th>\n",
       "      <td>0.612234</td>\n",
       "      <td>0.771527</td>\n",
       "      <td>0.793554</td>\n",
       "    </tr>\n",
       "    <tr>\n",
       "      <th>places365</th>\n",
       "      <td>0.802904</td>\n",
       "      <td>0.774476</td>\n",
       "      <td>0.140147</td>\n",
       "    </tr>\n",
       "    <tr>\n",
       "      <th>Avg.</th>\n",
       "      <td>0.504441</td>\n",
       "      <td>0.869595</td>\n",
       "      <td>0.774607</td>\n",
       "    </tr>\n",
       "  </tbody>\n",
       "</table>\n",
       "</div>"
      ],
      "text/plain": [
       "               FPR@95     AUROC   AUPR_In\n",
       "SVHN         0.591500  0.886079  0.903695\n",
       "LSUN         0.009200  0.997392  0.997412\n",
       "LSUN_resize  0.516800  0.893147  0.902909\n",
       "iSUN         0.494006  0.894948  0.909927\n",
       "dtd          0.612234  0.771527  0.793554\n",
       "places365    0.802904  0.774476  0.140147\n",
       "Avg.         0.504441  0.869595  0.774607"
      ]
     },
     "execution_count": 16,
     "metadata": {},
     "output_type": "execute_result"
    }
   ],
   "source": [
    "df = pd.DataFrame(ood_metrics)\n",
    "df['Avg.'] = df.mean(axis=1)\n",
    "result_dfs['CIFAR-100_dice'] = df.T\n",
    "\n",
    "df.T[['FPR@95', 'AUROC', 'AUPR_In']]"
   ]
  },
  {
   "attachments": {},
   "cell_type": "markdown",
   "metadata": {},
   "source": [
    "## CIFAR-10"
   ]
  },
  {
   "cell_type": "markdown",
   "metadata": {},
   "source": [
    "* No Sparsity"
   ]
  },
  {
   "cell_type": "code",
   "execution_count": 17,
   "metadata": {},
   "outputs": [],
   "source": [
    "densenet = DenseNet3(100, 10, 12, reduction=0.5, bottleneck=True, dropRate=0.0, normalizer=None, p=None, info=None)\n",
    "checkpoint = torch.load(\"./checkpoints/CIFAR-10/densenet/checkpoint_100.pth.tar\", \"cpu\")\n",
    "densenet.load_state_dict(checkpoint['state_dict'])\n",
    "densenet.eval()\n",
    "\n",
    "return_nodes = {'view': 'feature', 'fc': 'logit'}\n",
    "extractor = create_feature_extractor(densenet, return_nodes).to(device)"
   ]
  },
  {
   "cell_type": "code",
   "execution_count": 18,
   "metadata": {},
   "outputs": [
    {
     "data": {
      "application/vnd.jupyter.widget-view+json": {
       "model_id": "c5d8dbf612554f10815f386763351362",
       "version_major": 2,
       "version_minor": 0
      },
      "text/plain": [
       "  0%|          | 0/20 [00:00<?, ?it/s]"
      ]
     },
     "metadata": {},
     "output_type": "display_data"
    }
   ],
   "source": [
    "curves.reset()\n",
    "\n",
    "res_id = run(extractor, dataloaders['CIFAR-10'], False, curves)\n",
    "\n",
    "id_avg, id_std = res_id['features']\n",
    "id_curves = res_id['curves']"
   ]
  },
  {
   "cell_type": "code",
   "execution_count": 19,
   "metadata": {},
   "outputs": [
    {
     "data": {
      "application/vnd.jupyter.widget-view+json": {
       "model_id": "265dc2161cd548ce9c4d41443229a41c",
       "version_major": 2,
       "version_minor": 0
      },
      "text/plain": [
       "  0%|          | 0/20 [00:00<?, ?it/s]"
      ]
     },
     "metadata": {},
     "output_type": "display_data"
    },
    {
     "data": {
      "application/vnd.jupyter.widget-view+json": {
       "model_id": "9cf238832e52458aae437f3ffc6881c2",
       "version_major": 2,
       "version_minor": 0
      },
      "text/plain": [
       "  0%|          | 0/20 [00:00<?, ?it/s]"
      ]
     },
     "metadata": {},
     "output_type": "display_data"
    },
    {
     "data": {
      "application/vnd.jupyter.widget-view+json": {
       "model_id": "3e8bae9532e249529af1bb541c6f2165",
       "version_major": 2,
       "version_minor": 0
      },
      "text/plain": [
       "  0%|          | 0/20 [00:00<?, ?it/s]"
      ]
     },
     "metadata": {},
     "output_type": "display_data"
    },
    {
     "data": {
      "application/vnd.jupyter.widget-view+json": {
       "model_id": "8ed6be4bb4774057bb2b198be1e53512",
       "version_major": 2,
       "version_minor": 0
      },
      "text/plain": [
       "  0%|          | 0/18 [00:00<?, ?it/s]"
      ]
     },
     "metadata": {},
     "output_type": "display_data"
    },
    {
     "data": {
      "application/vnd.jupyter.widget-view+json": {
       "model_id": "acb2a94abda544218c29793e46682d70",
       "version_major": 2,
       "version_minor": 0
      },
      "text/plain": [
       "  0%|          | 0/12 [00:00<?, ?it/s]"
      ]
     },
     "metadata": {},
     "output_type": "display_data"
    },
    {
     "data": {
      "application/vnd.jupyter.widget-view+json": {
       "model_id": "40fc59c94ec84f13b9a2373c81701f7d",
       "version_major": 2,
       "version_minor": 0
      },
      "text/plain": [
       "  0%|          | 0/642 [00:00<?, ?it/s]"
      ]
     },
     "metadata": {},
     "output_type": "display_data"
    }
   ],
   "source": [
    "ood_features = {}\n",
    "ood_metrics = {}\n",
    "\n",
    "for nm in ood_dls:\n",
    "  curves = id_curves.clone()\n",
    "\n",
    "  res_ood = run(extractor, dataloaders[nm], True, curves)\n",
    "\n",
    "  ood_features[nm] = res_ood['features']\n",
    "  ood_metrics[nm] = compute_metrics(res_ood['curves'])"
   ]
  },
  {
   "cell_type": "code",
   "execution_count": 20,
   "metadata": {},
   "outputs": [
    {
     "data": {
      "text/html": [
       "<div>\n",
       "<style scoped>\n",
       "    .dataframe tbody tr th:only-of-type {\n",
       "        vertical-align: middle;\n",
       "    }\n",
       "\n",
       "    .dataframe tbody tr th {\n",
       "        vertical-align: top;\n",
       "    }\n",
       "\n",
       "    .dataframe thead th {\n",
       "        text-align: right;\n",
       "    }\n",
       "</style>\n",
       "<table border=\"1\" class=\"dataframe\">\n",
       "  <thead>\n",
       "    <tr style=\"text-align: right;\">\n",
       "      <th></th>\n",
       "      <th>FPR@95</th>\n",
       "      <th>AUROC</th>\n",
       "      <th>AUPR_In</th>\n",
       "    </tr>\n",
       "  </thead>\n",
       "  <tbody>\n",
       "    <tr>\n",
       "      <th>SVHN</th>\n",
       "      <td>0.406300</td>\n",
       "      <td>0.939926</td>\n",
       "      <td>0.953340</td>\n",
       "    </tr>\n",
       "    <tr>\n",
       "      <th>LSUN</th>\n",
       "      <td>0.038100</td>\n",
       "      <td>0.991504</td>\n",
       "      <td>0.992562</td>\n",
       "    </tr>\n",
       "    <tr>\n",
       "      <th>LSUN_resize</th>\n",
       "      <td>0.092800</td>\n",
       "      <td>0.981238</td>\n",
       "      <td>0.984919</td>\n",
       "    </tr>\n",
       "    <tr>\n",
       "      <th>iSUN</th>\n",
       "      <td>0.100616</td>\n",
       "      <td>0.980683</td>\n",
       "      <td>0.986024</td>\n",
       "    </tr>\n",
       "    <tr>\n",
       "      <th>dtd</th>\n",
       "      <td>0.563121</td>\n",
       "      <td>0.864202</td>\n",
       "      <td>0.898692</td>\n",
       "    </tr>\n",
       "    <tr>\n",
       "      <th>places365</th>\n",
       "      <td>0.397665</td>\n",
       "      <td>0.918054</td>\n",
       "      <td>0.385097</td>\n",
       "    </tr>\n",
       "    <tr>\n",
       "      <th>Avg.</th>\n",
       "      <td>0.266434</td>\n",
       "      <td>0.945935</td>\n",
       "      <td>0.866772</td>\n",
       "    </tr>\n",
       "  </tbody>\n",
       "</table>\n",
       "</div>"
      ],
      "text/plain": [
       "               FPR@95     AUROC   AUPR_In\n",
       "SVHN         0.406300  0.939926  0.953340\n",
       "LSUN         0.038100  0.991504  0.992562\n",
       "LSUN_resize  0.092800  0.981238  0.984919\n",
       "iSUN         0.100616  0.980683  0.986024\n",
       "dtd          0.563121  0.864202  0.898692\n",
       "places365    0.397665  0.918054  0.385097\n",
       "Avg.         0.266434  0.945935  0.866772"
      ]
     },
     "execution_count": 20,
     "metadata": {},
     "output_type": "execute_result"
    }
   ],
   "source": [
    "df = pd.DataFrame(ood_metrics)\n",
    "df['Avg.'] = df.mean(axis=1)\n",
    "result_dfs['CIFAR-10_energy'] = df.T\n",
    "\n",
    "df.T[['FPR@95', 'AUROC', 'AUPR_In']]"
   ]
  },
  {
   "cell_type": "markdown",
   "metadata": {},
   "source": [
    "* With Sparsity $p=90$"
   ]
  },
  {
   "cell_type": "code",
   "execution_count": 21,
   "metadata": {},
   "outputs": [
    {
     "data": {
      "image/png": "[encoded data removed]",
      "text/plain": [
       "<Figure size 640x480 with 1 Axes>"
      ]
     },
     "metadata": {},
     "output_type": "display_data"
    }
   ],
   "source": [
    "idx = id_avg.argsort()\n",
    "\n",
    "plt.title('Features')\n",
    "plt.plot(range(len(idx)), id_avg[idx], color='red', label='CIFAR-10')\n",
    "plt.fill_between(\n",
    "  range(len(idx)),\n",
    "  id_avg[idx] - 2*id_std[idx],\n",
    "  id_avg[idx] + 2*id_std[idx],\n",
    "  color='red', alpha=.1\n",
    ")\n",
    "\n",
    "for k, (avg, std) in ood_features.items():\n",
    "  plt.scatter(range(len(idx)), avg[idx], s=1, label=k)\n",
    "  # plt.fill_between(range(len(idx)), avg[idx] - 2*std[idx], avg[idx] + 2*std[idx], alpha=.1)\n",
    "\n",
    "plt.legend()\n",
    "plt.show()"
   ]
  },
  {
   "cell_type": "code",
   "execution_count": 22,
   "metadata": {},
   "outputs": [],
   "source": [
    "weight = extractor.fc.weight.data.cpu()\n",
    "contrib = id_avg * weight\n",
    "thresh = np.percentile(contrib, 90)\n",
    "mask = contrib > thresh\n",
    "extractor.fc.weight.data = (mask * weight).to(device)"
   ]
  },
  {
   "cell_type": "code",
   "execution_count": 23,
   "metadata": {},
   "outputs": [
    {
     "data": {
      "image/png": "[encoded data removed]",
      "text/plain": [
       "<Figure size 640x480 with 1 Axes>"
      ]
     },
     "metadata": {},
     "output_type": "display_data"
    }
   ],
   "source": [
    "id_avg = (id_avg * weight).flatten()\n",
    "id_std = (id_std * weight).flatten()\n",
    "idx = id_avg.argsort()\n",
    "\n",
    "plt.title('Contribution')\n",
    "plt.plot(range(len(idx)), id_avg[idx], color='red', label='CIFAR-10')\n",
    "plt.fill_between(\n",
    "  range(len(idx)),\n",
    "  id_avg[idx] - 2*id_std[idx],\n",
    "  id_avg[idx] + 2*id_std[idx],\n",
    "  color='red', alpha=.1\n",
    ")\n",
    "\n",
    "for k, (avg, std) in ood_features.items():\n",
    "  avg, std = (avg * weight).flatten(), (std * weight).flatten()\n",
    "  plt.scatter(range(len(idx)), avg[idx], s=1, label=k)\n",
    "  # plt.fill_between(range(len(idx)), avg[idx] - 2*std[idx], avg[idx] + 2*std[idx], alpha=.1)\n",
    "\n",
    "plt.legend()\n",
    "plt.show()"
   ]
  },
  {
   "cell_type": "code",
   "execution_count": 24,
   "metadata": {},
   "outputs": [
    {
     "data": {
      "application/vnd.jupyter.widget-view+json": {
       "model_id": "fe0623e0c9a64952bfb3cff581f8b089",
       "version_major": 2,
       "version_minor": 0
      },
      "text/plain": [
       "  0%|          | 0/20 [00:00<?, ?it/s]"
      ]
     },
     "metadata": {},
     "output_type": "display_data"
    }
   ],
   "source": [
    "curves.reset()\n",
    "\n",
    "res_id = run(extractor, dataloaders['CIFAR-10'], False, curves)\n",
    "\n",
    "id_avg, id_std = res_id['features']\n",
    "id_curves = res_id['curves']"
   ]
  },
  {
   "cell_type": "code",
   "execution_count": 25,
   "metadata": {},
   "outputs": [
    {
     "data": {
      "application/vnd.jupyter.widget-view+json": {
       "model_id": "65a8f246c8d9412894290d253800b293",
       "version_major": 2,
       "version_minor": 0
      },
      "text/plain": [
       "  0%|          | 0/20 [00:00<?, ?it/s]"
      ]
     },
     "metadata": {},
     "output_type": "display_data"
    },
    {
     "data": {
      "application/vnd.jupyter.widget-view+json": {
       "model_id": "0a8515d38b7e4f33ac7e211b8ab08654",
       "version_major": 2,
       "version_minor": 0
      },
      "text/plain": [
       "  0%|          | 0/20 [00:00<?, ?it/s]"
      ]
     },
     "metadata": {},
     "output_type": "display_data"
    },
    {
     "data": {
      "application/vnd.jupyter.widget-view+json": {
       "model_id": "957eef5f489b4d61b0c11f89d39396f0",
       "version_major": 2,
       "version_minor": 0
      },
      "text/plain": [
       "  0%|          | 0/20 [00:00<?, ?it/s]"
      ]
     },
     "metadata": {},
     "output_type": "display_data"
    },
    {
     "data": {
      "application/vnd.jupyter.widget-view+json": {
       "model_id": "af1cd78fe3284545a9935a1a65520702",
       "version_major": 2,
       "version_minor": 0
      },
      "text/plain": [
       "  0%|          | 0/18 [00:00<?, ?it/s]"
      ]
     },
     "metadata": {},
     "output_type": "display_data"
    },
    {
     "data": {
      "application/vnd.jupyter.widget-view+json": {
       "model_id": "46c7f226ea5b4cf291d9b875638255e2",
       "version_major": 2,
       "version_minor": 0
      },
      "text/plain": [
       "  0%|          | 0/12 [00:00<?, ?it/s]"
      ]
     },
     "metadata": {},
     "output_type": "display_data"
    },
    {
     "data": {
      "application/vnd.jupyter.widget-view+json": {
       "model_id": "199a516bb28c4abab481d23a193e7966",
       "version_major": 2,
       "version_minor": 0
      },
      "text/plain": [
       "  0%|          | 0/642 [00:00<?, ?it/s]"
      ]
     },
     "metadata": {},
     "output_type": "display_data"
    }
   ],
   "source": [
    "ood_features = {}\n",
    "ood_metrics = {}\n",
    "\n",
    "for nm in ood_dls:\n",
    "  curves = id_curves.clone()\n",
    "\n",
    "  res_ood = run(extractor, dataloaders[nm], True, curves)\n",
    "\n",
    "  ood_features[nm] = res_ood['features']\n",
    "  ood_metrics[nm] = compute_metrics(res_ood['curves'])"
   ]
  },
  {
   "cell_type": "code",
   "execution_count": 26,
   "metadata": {},
   "outputs": [
    {
     "data": {
      "text/html": [
       "<div>\n",
       "<style scoped>\n",
       "    .dataframe tbody tr th:only-of-type {\n",
       "        vertical-align: middle;\n",
       "    }\n",
       "\n",
       "    .dataframe tbody tr th {\n",
       "        vertical-align: top;\n",
       "    }\n",
       "\n",
       "    .dataframe thead th {\n",
       "        text-align: right;\n",
       "    }\n",
       "</style>\n",
       "<table border=\"1\" class=\"dataframe\">\n",
       "  <thead>\n",
       "    <tr style=\"text-align: right;\">\n",
       "      <th></th>\n",
       "      <th>FPR@95</th>\n",
       "      <th>AUROC</th>\n",
       "      <th>AUPR_In</th>\n",
       "    </tr>\n",
       "  </thead>\n",
       "  <tbody>\n",
       "    <tr>\n",
       "      <th>SVHN</th>\n",
       "      <td>0.297000</td>\n",
       "      <td>0.946658</td>\n",
       "      <td>0.952062</td>\n",
       "    </tr>\n",
       "    <tr>\n",
       "      <th>LSUN</th>\n",
       "      <td>0.003800</td>\n",
       "      <td>0.998986</td>\n",
       "      <td>0.998997</td>\n",
       "    </tr>\n",
       "    <tr>\n",
       "      <th>LSUN_resize</th>\n",
       "      <td>0.044700</td>\n",
       "      <td>0.990291</td>\n",
       "      <td>0.991147</td>\n",
       "    </tr>\n",
       "    <tr>\n",
       "      <th>iSUN</th>\n",
       "      <td>0.051541</td>\n",
       "      <td>0.989713</td>\n",
       "      <td>0.991639</td>\n",
       "    </tr>\n",
       "    <tr>\n",
       "      <th>dtd</th>\n",
       "      <td>0.459220</td>\n",
       "      <td>0.869672</td>\n",
       "      <td>0.888168</td>\n",
       "    </tr>\n",
       "    <tr>\n",
       "      <th>places365</th>\n",
       "      <td>0.451291</td>\n",
       "      <td>0.901546</td>\n",
       "      <td>0.333267</td>\n",
       "    </tr>\n",
       "    <tr>\n",
       "      <th>Avg.</th>\n",
       "      <td>0.217925</td>\n",
       "      <td>0.949478</td>\n",
       "      <td>0.859213</td>\n",
       "    </tr>\n",
       "  </tbody>\n",
       "</table>\n",
       "</div>"
      ],
      "text/plain": [
       "               FPR@95     AUROC   AUPR_In\n",
       "SVHN         0.297000  0.946658  0.952062\n",
       "LSUN         0.003800  0.998986  0.998997\n",
       "LSUN_resize  0.044700  0.990291  0.991147\n",
       "iSUN         0.051541  0.989713  0.991639\n",
       "dtd          0.459220  0.869672  0.888168\n",
       "places365    0.451291  0.901546  0.333267\n",
       "Avg.         0.217925  0.949478  0.859213"
      ]
     },
     "execution_count": 26,
     "metadata": {},
     "output_type": "execute_result"
    }
   ],
   "source": [
    "df = pd.DataFrame(ood_metrics)\n",
    "df['Avg.'] = df.mean(axis=1)\n",
    "result_dfs['CIFAR-10_dice'] = df.T\n",
    "\n",
    "df.T[['FPR@95', 'AUROC', 'AUPR_In']]"
   ]
  },
  {
   "cell_type": "markdown",
   "metadata": {},
   "source": [
    "## Results"
   ]
  },
  {
   "cell_type": "code",
   "execution_count": 27,
   "metadata": {},
   "outputs": [
    {
     "data": {
      "text/html": [
       "<div>\n",
       "<style scoped>\n",
       "    .dataframe tbody tr th:only-of-type {\n",
       "        vertical-align: middle;\n",
       "    }\n",
       "\n",
       "    .dataframe tbody tr th {\n",
       "        vertical-align: top;\n",
       "    }\n",
       "\n",
       "    .dataframe thead th {\n",
       "        text-align: right;\n",
       "    }\n",
       "</style>\n",
       "<table border=\"1\" class=\"dataframe\">\n",
       "  <thead>\n",
       "    <tr style=\"text-align: right;\">\n",
       "      <th></th>\n",
       "      <th>FPR@95</th>\n",
       "      <th>AUROC</th>\n",
       "      <th>AUPR_In</th>\n",
       "    </tr>\n",
       "  </thead>\n",
       "  <tbody>\n",
       "    <tr>\n",
       "      <th>SVHN</th>\n",
       "      <td>0.875400</td>\n",
       "      <td>0.818515</td>\n",
       "      <td>0.863067</td>\n",
       "    </tr>\n",
       "    <tr>\n",
       "      <th>LSUN</th>\n",
       "      <td>0.147800</td>\n",
       "      <td>0.974348</td>\n",
       "      <td>0.976312</td>\n",
       "    </tr>\n",
       "    <tr>\n",
       "      <th>LSUN_resize</th>\n",
       "      <td>0.707300</td>\n",
       "      <td>0.801376</td>\n",
       "      <td>0.814240</td>\n",
       "    </tr>\n",
       "    <tr>\n",
       "      <th>iSUN</th>\n",
       "      <td>0.746106</td>\n",
       "      <td>0.789539</td>\n",
       "      <td>0.817554</td>\n",
       "    </tr>\n",
       "    <tr>\n",
       "      <th>dtd</th>\n",
       "      <td>0.843617</td>\n",
       "      <td>0.710096</td>\n",
       "      <td>0.765005</td>\n",
       "    </tr>\n",
       "    <tr>\n",
       "      <th>places365</th>\n",
       "      <td>0.782843</td>\n",
       "      <td>0.781495</td>\n",
       "      <td>0.141730</td>\n",
       "    </tr>\n",
       "    <tr>\n",
       "      <th>Avg.</th>\n",
       "      <td>0.683844</td>\n",
       "      <td>0.812562</td>\n",
       "      <td>0.729651</td>\n",
       "    </tr>\n",
       "  </tbody>\n",
       "</table>\n",
       "</div>"
      ],
      "text/plain": [
       "               FPR@95     AUROC   AUPR_In\n",
       "SVHN         0.875400  0.818515  0.863067\n",
       "LSUN         0.147800  0.974348  0.976312\n",
       "LSUN_resize  0.707300  0.801376  0.814240\n",
       "iSUN         0.746106  0.789539  0.817554\n",
       "dtd          0.843617  0.710096  0.765005\n",
       "places365    0.782843  0.781495  0.141730\n",
       "Avg.         0.683844  0.812562  0.729651"
      ]
     },
     "execution_count": 27,
     "metadata": {},
     "output_type": "execute_result"
    }
   ],
   "source": [
    "result_dfs['CIFAR-100_energy'][['FPR@95', 'AUROC', 'AUPR_In']]"
   ]
  },
  {
   "cell_type": "code",
   "execution_count": 28,
   "metadata": {},
   "outputs": [
    {
     "data": {
      "text/html": [
       "<div>\n",
       "<style scoped>\n",
       "    .dataframe tbody tr th:only-of-type {\n",
       "        vertical-align: middle;\n",
       "    }\n",
       "\n",
       "    .dataframe tbody tr th {\n",
       "        vertical-align: top;\n",
       "    }\n",
       "\n",
       "    .dataframe thead th {\n",
       "        text-align: right;\n",
       "    }\n",
       "</style>\n",
       "<table border=\"1\" class=\"dataframe\">\n",
       "  <thead>\n",
       "    <tr style=\"text-align: right;\">\n",
       "      <th></th>\n",
       "      <th>FPR@95</th>\n",
       "      <th>AUROC</th>\n",
       "      <th>AUPR_In</th>\n",
       "    </tr>\n",
       "  </thead>\n",
       "  <tbody>\n",
       "    <tr>\n",
       "      <th>SVHN</th>\n",
       "      <td>0.591500</td>\n",
       "      <td>0.886079</td>\n",
       "      <td>0.903695</td>\n",
       "    </tr>\n",
       "    <tr>\n",
       "      <th>LSUN</th>\n",
       "      <td>0.009200</td>\n",
       "      <td>0.997392</td>\n",
       "      <td>0.997412</td>\n",
       "    </tr>\n",
       "    <tr>\n",
       "      <th>LSUN_resize</th>\n",
       "      <td>0.516800</td>\n",
       "      <td>0.893147</td>\n",
       "      <td>0.902909</td>\n",
       "    </tr>\n",
       "    <tr>\n",
       "      <th>iSUN</th>\n",
       "      <td>0.494006</td>\n",
       "      <td>0.894948</td>\n",
       "      <td>0.909927</td>\n",
       "    </tr>\n",
       "    <tr>\n",
       "      <th>dtd</th>\n",
       "      <td>0.612234</td>\n",
       "      <td>0.771527</td>\n",
       "      <td>0.793554</td>\n",
       "    </tr>\n",
       "    <tr>\n",
       "      <th>places365</th>\n",
       "      <td>0.802904</td>\n",
       "      <td>0.774476</td>\n",
       "      <td>0.140147</td>\n",
       "    </tr>\n",
       "    <tr>\n",
       "      <th>Avg.</th>\n",
       "      <td>0.504441</td>\n",
       "      <td>0.869595</td>\n",
       "      <td>0.774607</td>\n",
       "    </tr>\n",
       "  </tbody>\n",
       "</table>\n",
       "</div>"
      ],
      "text/plain": [
       "               FPR@95     AUROC   AUPR_In\n",
       "SVHN         0.591500  0.886079  0.903695\n",
       "LSUN         0.009200  0.997392  0.997412\n",
       "LSUN_resize  0.516800  0.893147  0.902909\n",
       "iSUN         0.494006  0.894948  0.909927\n",
       "dtd          0.612234  0.771527  0.793554\n",
       "places365    0.802904  0.774476  0.140147\n",
       "Avg.         0.504441  0.869595  0.774607"
      ]
     },
     "execution_count": 28,
     "metadata": {},
     "output_type": "execute_result"
    }
   ],
   "source": [
    "result_dfs['CIFAR-100_dice'][['FPR@95', 'AUROC', 'AUPR_In']]"
   ]
  },
  {
   "cell_type": "code",
   "execution_count": 29,
   "metadata": {},
   "outputs": [
    {
     "data": {
      "text/html": [
       "<div>\n",
       "<style scoped>\n",
       "    .dataframe tbody tr th:only-of-type {\n",
       "        vertical-align: middle;\n",
       "    }\n",
       "\n",
       "    .dataframe tbody tr th {\n",
       "        vertical-align: top;\n",
       "    }\n",
       "\n",
       "    .dataframe thead th {\n",
       "        text-align: right;\n",
       "    }\n",
       "</style>\n",
       "<table border=\"1\" class=\"dataframe\">\n",
       "  <thead>\n",
       "    <tr style=\"text-align: right;\">\n",
       "      <th></th>\n",
       "      <th>FPR@95</th>\n",
       "      <th>AUROC</th>\n",
       "      <th>AUPR_In</th>\n",
       "    </tr>\n",
       "  </thead>\n",
       "  <tbody>\n",
       "    <tr>\n",
       "      <th>SVHN</th>\n",
       "      <td>0.406300</td>\n",
       "      <td>0.939926</td>\n",
       "      <td>0.953340</td>\n",
       "    </tr>\n",
       "    <tr>\n",
       "      <th>LSUN</th>\n",
       "      <td>0.038100</td>\n",
       "      <td>0.991504</td>\n",
       "      <td>0.992562</td>\n",
       "    </tr>\n",
       "    <tr>\n",
       "      <th>LSUN_resize</th>\n",
       "      <td>0.092800</td>\n",
       "      <td>0.981238</td>\n",
       "      <td>0.984919</td>\n",
       "    </tr>\n",
       "    <tr>\n",
       "      <th>iSUN</th>\n",
       "      <td>0.100616</td>\n",
       "      <td>0.980683</td>\n",
       "      <td>0.986024</td>\n",
       "    </tr>\n",
       "    <tr>\n",
       "      <th>dtd</th>\n",
       "      <td>0.563121</td>\n",
       "      <td>0.864202</td>\n",
       "      <td>0.898692</td>\n",
       "    </tr>\n",
       "    <tr>\n",
       "      <th>places365</th>\n",
       "      <td>0.397665</td>\n",
       "      <td>0.918054</td>\n",
       "      <td>0.385097</td>\n",
       "    </tr>\n",
       "    <tr>\n",
       "      <th>Avg.</th>\n",
       "      <td>0.266434</td>\n",
       "      <td>0.945935</td>\n",
       "      <td>0.866772</td>\n",
       "    </tr>\n",
       "  </tbody>\n",
       "</table>\n",
       "</div>"
      ],
      "text/plain": [
       "               FPR@95     AUROC   AUPR_In\n",
       "SVHN         0.406300  0.939926  0.953340\n",
       "LSUN         0.038100  0.991504  0.992562\n",
       "LSUN_resize  0.092800  0.981238  0.984919\n",
       "iSUN         0.100616  0.980683  0.986024\n",
       "dtd          0.563121  0.864202  0.898692\n",
       "places365    0.397665  0.918054  0.385097\n",
       "Avg.         0.266434  0.945935  0.866772"
      ]
     },
     "execution_count": 29,
     "metadata": {},
     "output_type": "execute_result"
    }
   ],
   "source": [
    "result_dfs['CIFAR-10_energy'][['FPR@95', 'AUROC', 'AUPR_In']]"
   ]
  },
  {
   "cell_type": "code",
   "execution_count": 30,
   "metadata": {},
   "outputs": [
    {
     "data": {
      "text/html": [
       "<div>\n",
       "<style scoped>\n",
       "    .dataframe tbody tr th:only-of-type {\n",
       "        vertical-align: middle;\n",
       "    }\n",
       "\n",
       "    .dataframe tbody tr th {\n",
       "        vertical-align: top;\n",
       "    }\n",
       "\n",
       "    .dataframe thead th {\n",
       "        text-align: right;\n",
       "    }\n",
       "</style>\n",
       "<table border=\"1\" class=\"dataframe\">\n",
       "  <thead>\n",
       "    <tr style=\"text-align: right;\">\n",
       "      <th></th>\n",
       "      <th>FPR@95</th>\n",
       "      <th>AUROC</th>\n",
       "      <th>AUPR_In</th>\n",
       "    </tr>\n",
       "  </thead>\n",
       "  <tbody>\n",
       "    <tr>\n",
       "      <th>SVHN</th>\n",
       "      <td>0.297000</td>\n",
       "      <td>0.946658</td>\n",
       "      <td>0.952062</td>\n",
       "    </tr>\n",
       "    <tr>\n",
       "      <th>LSUN</th>\n",
       "      <td>0.003800</td>\n",
       "      <td>0.998986</td>\n",
       "      <td>0.998997</td>\n",
       "    </tr>\n",
       "    <tr>\n",
       "      <th>LSUN_resize</th>\n",
       "      <td>0.044700</td>\n",
       "      <td>0.990291</td>\n",
       "      <td>0.991147</td>\n",
       "    </tr>\n",
       "    <tr>\n",
       "      <th>iSUN</th>\n",
       "      <td>0.051541</td>\n",
       "      <td>0.989713</td>\n",
       "      <td>0.991639</td>\n",
       "    </tr>\n",
       "    <tr>\n",
       "      <th>dtd</th>\n",
       "      <td>0.459220</td>\n",
       "      <td>0.869672</td>\n",
       "      <td>0.888168</td>\n",
       "    </tr>\n",
       "    <tr>\n",
       "      <th>places365</th>\n",
       "      <td>0.451291</td>\n",
       "      <td>0.901546</td>\n",
       "      <td>0.333267</td>\n",
       "    </tr>\n",
       "    <tr>\n",
       "      <th>Avg.</th>\n",
       "      <td>0.217925</td>\n",
       "      <td>0.949478</td>\n",
       "      <td>0.859213</td>\n",
       "    </tr>\n",
       "  </tbody>\n",
       "</table>\n",
       "</div>"
      ],
      "text/plain": [
       "               FPR@95     AUROC   AUPR_In\n",
       "SVHN         0.297000  0.946658  0.952062\n",
       "LSUN         0.003800  0.998986  0.998997\n",
       "LSUN_resize  0.044700  0.990291  0.991147\n",
       "iSUN         0.051541  0.989713  0.991639\n",
       "dtd          0.459220  0.869672  0.888168\n",
       "places365    0.451291  0.901546  0.333267\n",
       "Avg.         0.217925  0.949478  0.859213"
      ]
     },
     "execution_count": 30,
     "metadata": {},
     "output_type": "execute_result"
    }
   ],
   "source": [
    "result_dfs['CIFAR-10_dice'][['FPR@95', 'AUROC', 'AUPR_In']]"
   ]
  }
 ],
 "metadata": {
  "kernelspec": {
   "display_name": "jax",
   "language": "python",
   "name": "python3"
  },
  "language_info": {
   "codemirror_mode": {
    "name": "ipython",
    "version": 3
   },
   "file_extension": ".py",
   "mimetype": "text/x-python",
   "name": "python",
   "nbconvert_exporter": "python",
   "pygments_lexer": "ipython3",
   "version": "3.10.9"
  },
  "orig_nbformat": 4,
  "vscode": {
   "interpreter": {
    "hash": "3fa6689b546259a140f700df87133380835e0a96e9af08af581bf45c0ff0ee88"
   }
  }
 },
 "nbformat": 4,
 "nbformat_minor": 2
}
