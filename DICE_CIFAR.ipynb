{
 "cells": [
  {
   "attachments": {},
   "cell_type": "markdown",
   "metadata": {},
   "source": [
    "# DICE\n",
    "[DICE: Leveraging Sparsification for Out-of-Distribution Detection](https://arxiv.org/abs/2111.09805)"
   ]
  },
  {
   "cell_type": "code",
   "execution_count": 1,
   "metadata": {},
   "outputs": [],
   "source": [
    "import torch\n",
    "import torchvision\n",
    "import torchvision.transforms as transforms\n",
    "\n",
    "import numpy as np\n",
    "import pandas as pd\n",
    "\n",
    "from models.densenet import DenseNet3\n",
    "import util.svhn_loader as svhn"
   ]
  },
  {
   "cell_type": "code",
   "execution_count": 2,
   "metadata": {},
   "outputs": [
    {
     "name": "stdout",
     "output_type": "stream",
     "text": [
      "Files already downloaded and verified\n",
      "Files already downloaded and verified\n",
      "Files already downloaded and verified\n"
     ]
    }
   ],
   "source": [
    "transform_cifar = transforms.Compose([\n",
    "  transforms.Resize(32),\n",
    "  transforms.CenterCrop(32),\n",
    "  transforms.ToTensor(),\n",
    "  transforms.Normalize((0.4914, 0.4822, 0.4465), (0.2023, 0.1994, 0.2010)),\n",
    "])\n",
    "\n",
    "datasets = {\n",
    "  'CIFAR-10': torchvision.datasets.CIFAR10(root='./datasets/id_datasets/', train=False, download=True, transform=transform_cifar),\n",
    "  'CIFAR-100': torchvision.datasets.CIFAR100(root='./datasets/id_datasets/', train=False, download=True, transform=transform_cifar), \n",
    "  'SVHN': svhn.SVHN('datasets/ood_datasets/svhn/', split='test', transform=transform_cifar, download=False),\n",
    "  'dtd': torchvision.datasets.ImageFolder(root=\"datasets/ood_datasets/dtd/images\", transform=transform_cifar),\n",
    "  'places365': torchvision.datasets.ImageFolder(root=\"datasets/ood_datasets/places365/\", transform=transform_cifar),\n",
    "  'celebA': torchvision.datasets.CelebA(root='datasets/ood_datasets/', split='test', download=True, transform=transform_cifar),\n",
    "  'iSUN': torchvision.datasets.ImageFolder(\"./datasets/ood_datasets/iSUN\", transform=transform_cifar),\n",
    "  'LSUN': torchvision.datasets.ImageFolder(\"./datasets/ood_datasets/LSUN\", transform=transform_cifar),\n",
    "  'LSUN_resize': torchvision.datasets.ImageFolder(\"./datasets/ood_datasets/LSUN_resize\", transform=transform_cifar),\n",
    "}\n",
    "\n",
    "dataloaders = {\n",
    "  k: torch.utils.data.DataLoader(v, batch_size=512, shuffle=False) for k,v in datasets.items()\n",
    "}\n",
    "\n",
    "ood_dls = ['SVHN', 'LSUN', 'LSUN_resize', 'iSUN', 'dtd', 'places365']"
   ]
  },
  {
   "cell_type": "code",
   "execution_count": 3,
   "metadata": {},
   "outputs": [],
   "source": [
    "import sys\n",
    "sys.path.append('./code/')\n",
    "\n",
    "from metrics import BinaryMetrics, Runner\n",
    "from stats import Stats\n",
    "from dice import DICE\n",
    "\n",
    "device = 'cuda:0'\n",
    "result_dfs = {}"
   ]
  },
  {
   "attachments": {},
   "cell_type": "markdown",
   "metadata": {},
   "source": [
    "## CIFAR-100"
   ]
  },
  {
   "attachments": {},
   "cell_type": "markdown",
   "metadata": {},
   "source": [
    "* No Sparsity"
   ]
  },
  {
   "cell_type": "code",
   "execution_count": 4,
   "metadata": {},
   "outputs": [],
   "source": [
    "densenet = DenseNet3(100, 100, 12, reduction=0.5, bottleneck=True, dropRate=0.0, normalizer=None, p=None, info=None)\n",
    "checkpoint = torch.load(\"./checkpoints/CIFAR-100/densenet/checkpoint_100.pth.tar\")\n",
    "densenet.load_state_dict(checkpoint['state_dict'])\n",
    "densenet.eval()\n",
    "\n",
    "model = DICE(densenet, device, mode='energy')"
   ]
  },
  {
   "cell_type": "code",
   "execution_count": 5,
   "metadata": {},
   "outputs": [
    {
     "data": {
      "application/vnd.jupyter.widget-view+json": {
       "model_id": "85822673e9094fa79aa332e7effda234",
       "version_major": 2,
       "version_minor": 0
      },
      "text/plain": [
       "In-dist:   0%|          | 0/20 [00:00<?, ?it/s]"
      ]
     },
     "metadata": {},
     "output_type": "display_data"
    },
    {
     "name": "stderr",
     "output_type": "stream",
     "text": [
      "/home/bckim/miniconda3/envs/jax/lib/python3.10/site-packages/torchmetrics/utilities/prints.py:36: UserWarning: No negative samples in targets, false positive value should be meaningless. Returning zero tensor in false positive score\n",
      "  warnings.warn(*args, **kwargs)\n"
     ]
    },
    {
     "data": {
      "application/vnd.jupyter.widget-view+json": {
       "model_id": "888816d49dc64910a17fc941db95dd71",
       "version_major": 2,
       "version_minor": 0
      },
      "text/plain": [
       "Out-of-dist:   0%|          | 0/20 [00:00<?, ?it/s]"
      ]
     },
     "metadata": {},
     "output_type": "display_data"
    },
    {
     "name": "stderr",
     "output_type": "stream",
     "text": [
      "/home/bckim/miniconda3/envs/jax/lib/python3.10/site-packages/torchmetrics/utilities/prints.py:36: UserWarning: No positive samples in targets, true positive value should be meaningless. Returning zero tensor in true positive score\n",
      "  warnings.warn(*args, **kwargs)\n"
     ]
    },
    {
     "data": {
      "application/vnd.jupyter.widget-view+json": {
       "model_id": "a579d6e45bc148809da57543f0b4a3bc",
       "version_major": 2,
       "version_minor": 0
      },
      "text/plain": [
       "Out-of-dist:   0%|          | 0/20 [00:00<?, ?it/s]"
      ]
     },
     "metadata": {},
     "output_type": "display_data"
    },
    {
     "data": {
      "application/vnd.jupyter.widget-view+json": {
       "model_id": "16a0db6134174a2ea3c77058750f9627",
       "version_major": 2,
       "version_minor": 0
      },
      "text/plain": [
       "Out-of-dist:   0%|          | 0/20 [00:00<?, ?it/s]"
      ]
     },
     "metadata": {},
     "output_type": "display_data"
    },
    {
     "data": {
      "application/vnd.jupyter.widget-view+json": {
       "model_id": "3d8b40bdb1084b53ae2456cf4fdcf00c",
       "version_major": 2,
       "version_minor": 0
      },
      "text/plain": [
       "Out-of-dist:   0%|          | 0/18 [00:00<?, ?it/s]"
      ]
     },
     "metadata": {},
     "output_type": "display_data"
    },
    {
     "data": {
      "application/vnd.jupyter.widget-view+json": {
       "model_id": "389bfcaa02884b42bebdeff7c88246a4",
       "version_major": 2,
       "version_minor": 0
      },
      "text/plain": [
       "Out-of-dist:   0%|          | 0/12 [00:00<?, ?it/s]"
      ]
     },
     "metadata": {},
     "output_type": "display_data"
    },
    {
     "data": {
      "application/vnd.jupyter.widget-view+json": {
       "model_id": "fa7c3668b10b4af9915c8c079cdc1400",
       "version_major": 2,
       "version_minor": 0
      },
      "text/plain": [
       "Out-of-dist:   0%|          | 0/642 [00:00<?, ?it/s]"
      ]
     },
     "metadata": {},
     "output_type": "display_data"
    }
   ],
   "source": [
    "energy_metrics = BinaryMetrics()\n",
    "energy = Runner(model, energy_metrics, dataloaders['CIFAR-100'], device)\n",
    "\n",
    "dict_energy_metrics = {}\n",
    "for nm_dl in ood_dls:\n",
    "  dict_energy_metrics[nm_dl] = energy.run(dataloaders[nm_dl])\n",
    "\n",
    "energy_df = pd.DataFrame(dict_energy_metrics)\n",
    "energy_df['Avg.'] = energy_df.mean(axis=1)\n",
    "result_dfs['CIFAR-100_energy'] = energy_df\n",
    "\n",
    "# energy_df.T[['FPR@95', 'AUROC', 'AUPR_In']]"
   ]
  },
  {
   "attachments": {},
   "cell_type": "markdown",
   "metadata": {},
   "source": [
    "* With Sparsity $p=90$"
   ]
  },
  {
   "cell_type": "code",
   "execution_count": 6,
   "metadata": {},
   "outputs": [
    {
     "data": {
      "application/vnd.jupyter.widget-view+json": {
       "model_id": "42f96867566a42c79d647f0bd305e0d1",
       "version_major": 2,
       "version_minor": 0
      },
      "text/plain": [
       "  0%|          | 0/20 [00:00<?, ?it/s]"
      ]
     },
     "metadata": {},
     "output_type": "display_data"
    }
   ],
   "source": [
    "return_nodes = {\n",
    "  'view': 'feature',\n",
    "  # 'fc': 'logit',\n",
    "}\n",
    "s = Stats(densenet, return_nodes, device)\n",
    "s.run(dataloaders['CIFAR-100'])\n",
    "avg_features = s.compute()['feature']\n",
    "\n",
    "model.set_dice_(avg_features.to(device), p=90)"
   ]
  },
  {
   "cell_type": "code",
   "execution_count": 7,
   "metadata": {},
   "outputs": [
    {
     "data": {
      "application/vnd.jupyter.widget-view+json": {
       "model_id": "bbce49dc82d942cca0267c140b01cbfd",
       "version_major": 2,
       "version_minor": 0
      },
      "text/plain": [
       "In-dist:   0%|          | 0/20 [00:00<?, ?it/s]"
      ]
     },
     "metadata": {},
     "output_type": "display_data"
    },
    {
     "name": "stderr",
     "output_type": "stream",
     "text": [
      "/home/bckim/miniconda3/envs/jax/lib/python3.10/site-packages/torchmetrics/utilities/prints.py:36: UserWarning: No negative samples in targets, false positive value should be meaningless. Returning zero tensor in false positive score\n",
      "  warnings.warn(*args, **kwargs)\n"
     ]
    },
    {
     "data": {
      "application/vnd.jupyter.widget-view+json": {
       "model_id": "d88bf7b9170a4515b109aa2749b51aa0",
       "version_major": 2,
       "version_minor": 0
      },
      "text/plain": [
       "Out-of-dist:   0%|          | 0/20 [00:00<?, ?it/s]"
      ]
     },
     "metadata": {},
     "output_type": "display_data"
    },
    {
     "name": "stderr",
     "output_type": "stream",
     "text": [
      "/home/bckim/miniconda3/envs/jax/lib/python3.10/site-packages/torchmetrics/utilities/prints.py:36: UserWarning: No positive samples in targets, true positive value should be meaningless. Returning zero tensor in true positive score\n",
      "  warnings.warn(*args, **kwargs)\n"
     ]
    },
    {
     "data": {
      "application/vnd.jupyter.widget-view+json": {
       "model_id": "8afac415901b4f17a88f956b5489e03a",
       "version_major": 2,
       "version_minor": 0
      },
      "text/plain": [
       "Out-of-dist:   0%|          | 0/20 [00:00<?, ?it/s]"
      ]
     },
     "metadata": {},
     "output_type": "display_data"
    },
    {
     "data": {
      "application/vnd.jupyter.widget-view+json": {
       "model_id": "ee6bdbc457504282844e980673bf9228",
       "version_major": 2,
       "version_minor": 0
      },
      "text/plain": [
       "Out-of-dist:   0%|          | 0/20 [00:00<?, ?it/s]"
      ]
     },
     "metadata": {},
     "output_type": "display_data"
    },
    {
     "data": {
      "application/vnd.jupyter.widget-view+json": {
       "model_id": "ecc82e86ef98498397d2063d6a19605b",
       "version_major": 2,
       "version_minor": 0
      },
      "text/plain": [
       "Out-of-dist:   0%|          | 0/18 [00:00<?, ?it/s]"
      ]
     },
     "metadata": {},
     "output_type": "display_data"
    },
    {
     "data": {
      "application/vnd.jupyter.widget-view+json": {
       "model_id": "b6ae461311c0422685ed76669a9a8c06",
       "version_major": 2,
       "version_minor": 0
      },
      "text/plain": [
       "Out-of-dist:   0%|          | 0/12 [00:00<?, ?it/s]"
      ]
     },
     "metadata": {},
     "output_type": "display_data"
    },
    {
     "data": {
      "application/vnd.jupyter.widget-view+json": {
       "model_id": "35718377a6be4c6db40a972a243cb2f6",
       "version_major": 2,
       "version_minor": 0
      },
      "text/plain": [
       "Out-of-dist:   0%|          | 0/642 [00:00<?, ?it/s]"
      ]
     },
     "metadata": {},
     "output_type": "display_data"
    }
   ],
   "source": [
    "dice_metrics = BinaryMetrics()\n",
    "dice = Runner(model, dice_metrics, dataloaders['CIFAR-100'], device)\n",
    "\n",
    "dict_dice_metrics = {}\n",
    "for nm_dl in ood_dls:\n",
    "  dict_dice_metrics[nm_dl] = dice.run(dataloaders[nm_dl])\n",
    "\n",
    "dice_df = pd.DataFrame(dict_dice_metrics)\n",
    "dice_df['Avg.'] = dice_df.mean(axis=1)\n",
    "result_dfs['CIFAR-100_dice'] = dice_df\n",
    "\n",
    "# dice_df.T[['FPR@95', 'AUROC', 'AUPR_In']]"
   ]
  },
  {
   "attachments": {},
   "cell_type": "markdown",
   "metadata": {},
   "source": [
    "## CIFAR-10"
   ]
  },
  {
   "attachments": {},
   "cell_type": "markdown",
   "metadata": {},
   "source": [
    "* No Sparsity"
   ]
  },
  {
   "cell_type": "code",
   "execution_count": 8,
   "metadata": {},
   "outputs": [],
   "source": [
    "densenet = DenseNet3(100, 10, 12, reduction=0.5, bottleneck=True, dropRate=0.0, normalizer=None, p=None, info=None)\n",
    "checkpoint = torch.load(\"./checkpoints/CIFAR-10/densenet/checkpoint_100.pth.tar\")\n",
    "densenet.load_state_dict(checkpoint['state_dict'])\n",
    "densenet.eval()\n",
    "\n",
    "model = DICE(densenet, device, mode='energy')"
   ]
  },
  {
   "cell_type": "code",
   "execution_count": 9,
   "metadata": {},
   "outputs": [
    {
     "data": {
      "application/vnd.jupyter.widget-view+json": {
       "model_id": "07c719fb786845318925796e223617c0",
       "version_major": 2,
       "version_minor": 0
      },
      "text/plain": [
       "In-dist:   0%|          | 0/20 [00:00<?, ?it/s]"
      ]
     },
     "metadata": {},
     "output_type": "display_data"
    },
    {
     "name": "stderr",
     "output_type": "stream",
     "text": [
      "/home/bckim/miniconda3/envs/jax/lib/python3.10/site-packages/torchmetrics/utilities/prints.py:36: UserWarning: No negative samples in targets, false positive value should be meaningless. Returning zero tensor in false positive score\n",
      "  warnings.warn(*args, **kwargs)\n"
     ]
    },
    {
     "data": {
      "application/vnd.jupyter.widget-view+json": {
       "model_id": "0bcb76a529cf4e519826908459f67940",
       "version_major": 2,
       "version_minor": 0
      },
      "text/plain": [
       "Out-of-dist:   0%|          | 0/20 [00:00<?, ?it/s]"
      ]
     },
     "metadata": {},
     "output_type": "display_data"
    },
    {
     "name": "stderr",
     "output_type": "stream",
     "text": [
      "/home/bckim/miniconda3/envs/jax/lib/python3.10/site-packages/torchmetrics/utilities/prints.py:36: UserWarning: No positive samples in targets, true positive value should be meaningless. Returning zero tensor in true positive score\n",
      "  warnings.warn(*args, **kwargs)\n"
     ]
    },
    {
     "data": {
      "application/vnd.jupyter.widget-view+json": {
       "model_id": "20d12b1f2b6c49b5a4a5db6764e3d42b",
       "version_major": 2,
       "version_minor": 0
      },
      "text/plain": [
       "Out-of-dist:   0%|          | 0/20 [00:00<?, ?it/s]"
      ]
     },
     "metadata": {},
     "output_type": "display_data"
    },
    {
     "data": {
      "application/vnd.jupyter.widget-view+json": {
       "model_id": "8b457e10d9e74c358aaa37242b7c35f1",
       "version_major": 2,
       "version_minor": 0
      },
      "text/plain": [
       "Out-of-dist:   0%|          | 0/20 [00:00<?, ?it/s]"
      ]
     },
     "metadata": {},
     "output_type": "display_data"
    },
    {
     "data": {
      "application/vnd.jupyter.widget-view+json": {
       "model_id": "017ebefe8fca400fa4de04fdc4f56f0b",
       "version_major": 2,
       "version_minor": 0
      },
      "text/plain": [
       "Out-of-dist:   0%|          | 0/18 [00:00<?, ?it/s]"
      ]
     },
     "metadata": {},
     "output_type": "display_data"
    },
    {
     "data": {
      "application/vnd.jupyter.widget-view+json": {
       "model_id": "cd5f0cde4905435db30993d1785863aa",
       "version_major": 2,
       "version_minor": 0
      },
      "text/plain": [
       "Out-of-dist:   0%|          | 0/12 [00:00<?, ?it/s]"
      ]
     },
     "metadata": {},
     "output_type": "display_data"
    },
    {
     "data": {
      "application/vnd.jupyter.widget-view+json": {
       "model_id": "5c52f4f01f9d46839640a825bd59aa3b",
       "version_major": 2,
       "version_minor": 0
      },
      "text/plain": [
       "Out-of-dist:   0%|          | 0/642 [00:00<?, ?it/s]"
      ]
     },
     "metadata": {},
     "output_type": "display_data"
    }
   ],
   "source": [
    "energy_metrics = BinaryMetrics()\n",
    "energy = Runner(model, energy_metrics, dataloaders['CIFAR-10'], device)\n",
    "\n",
    "dict_energy_metrics = {}\n",
    "for nm_dl in ood_dls:\n",
    "  dict_energy_metrics[nm_dl] = energy.run(dataloaders[nm_dl])\n",
    "\n",
    "energy_df = pd.DataFrame(dict_energy_metrics)\n",
    "energy_df['Avg.'] = energy_df.mean(axis=1)\n",
    "result_dfs['CIFAR-10_energy'] = energy_df\n",
    "\n",
    "# energy_df.T[['FPR@95', 'AUROC', 'AUPR_In']]"
   ]
  },
  {
   "cell_type": "code",
   "execution_count": 10,
   "metadata": {},
   "outputs": [],
   "source": [
    "# msp_metrics = BinaryMetrics()\n",
    "# msp = Runner(model, msp_metrics, dataloaders['CIFAR-10'], device)\n",
    "\n",
    "# dict_msp_metrics = {}\n",
    "# for nm_dl in ood_dls:\n",
    "#   dict_msp_metrics[nm_dl] = msp.run(dataloaders[nm_dl])\n",
    "\n",
    "# msp_df = pd.DataFrame(dict_msp_metrics)\n",
    "# msp_df['Avg.'] = msp_df.mean(axis=1)\n",
    "# result_dfs['CIFAR-10_msp'] = msp_df\n",
    "\n",
    "# msp_df.T[['FPR@95', 'AUROC', 'AUPR_In']]"
   ]
  },
  {
   "attachments": {},
   "cell_type": "markdown",
   "metadata": {},
   "source": [
    "* With Sparsity $p=90$"
   ]
  },
  {
   "cell_type": "code",
   "execution_count": 11,
   "metadata": {},
   "outputs": [
    {
     "data": {
      "application/vnd.jupyter.widget-view+json": {
       "model_id": "19f0ac81a1254431b9bfc8a9b82b34b0",
       "version_major": 2,
       "version_minor": 0
      },
      "text/plain": [
       "  0%|          | 0/20 [00:00<?, ?it/s]"
      ]
     },
     "metadata": {},
     "output_type": "display_data"
    }
   ],
   "source": [
    "return_nodes = {\n",
    "  'view': 'feature',\n",
    "  # 'fc': 'logit',\n",
    "}\n",
    "s = Stats(densenet, return_nodes, device)\n",
    "s.run(dataloaders['CIFAR-10'])\n",
    "avg_features = s.compute()['feature']\n",
    "\n",
    "model.set_dice_(avg_features.to(device), p=90)"
   ]
  },
  {
   "cell_type": "code",
   "execution_count": 12,
   "metadata": {},
   "outputs": [
    {
     "data": {
      "application/vnd.jupyter.widget-view+json": {
       "model_id": "b4d3cee1bd3e45e49f9431105520ae1d",
       "version_major": 2,
       "version_minor": 0
      },
      "text/plain": [
       "In-dist:   0%|          | 0/20 [00:00<?, ?it/s]"
      ]
     },
     "metadata": {},
     "output_type": "display_data"
    },
    {
     "name": "stderr",
     "output_type": "stream",
     "text": [
      "/home/bckim/miniconda3/envs/jax/lib/python3.10/site-packages/torchmetrics/utilities/prints.py:36: UserWarning: No negative samples in targets, false positive value should be meaningless. Returning zero tensor in false positive score\n",
      "  warnings.warn(*args, **kwargs)\n"
     ]
    },
    {
     "data": {
      "application/vnd.jupyter.widget-view+json": {
       "model_id": "426a85aedeb4416986f9375784ff20b3",
       "version_major": 2,
       "version_minor": 0
      },
      "text/plain": [
       "Out-of-dist:   0%|          | 0/20 [00:00<?, ?it/s]"
      ]
     },
     "metadata": {},
     "output_type": "display_data"
    },
    {
     "name": "stderr",
     "output_type": "stream",
     "text": [
      "/home/bckim/miniconda3/envs/jax/lib/python3.10/site-packages/torchmetrics/utilities/prints.py:36: UserWarning: No positive samples in targets, true positive value should be meaningless. Returning zero tensor in true positive score\n",
      "  warnings.warn(*args, **kwargs)\n"
     ]
    },
    {
     "data": {
      "application/vnd.jupyter.widget-view+json": {
       "model_id": "7c437f9b19334b13bf15aefeaf984d54",
       "version_major": 2,
       "version_minor": 0
      },
      "text/plain": [
       "Out-of-dist:   0%|          | 0/20 [00:00<?, ?it/s]"
      ]
     },
     "metadata": {},
     "output_type": "display_data"
    },
    {
     "data": {
      "application/vnd.jupyter.widget-view+json": {
       "model_id": "16cdec778c5f42b98b998d38a7fbe34f",
       "version_major": 2,
       "version_minor": 0
      },
      "text/plain": [
       "Out-of-dist:   0%|          | 0/20 [00:00<?, ?it/s]"
      ]
     },
     "metadata": {},
     "output_type": "display_data"
    },
    {
     "data": {
      "application/vnd.jupyter.widget-view+json": {
       "model_id": "9216362b073a47b7b0551ce18e17dcb8",
       "version_major": 2,
       "version_minor": 0
      },
      "text/plain": [
       "Out-of-dist:   0%|          | 0/18 [00:00<?, ?it/s]"
      ]
     },
     "metadata": {},
     "output_type": "display_data"
    },
    {
     "data": {
      "application/vnd.jupyter.widget-view+json": {
       "model_id": "95472f09bfce48d2958d1f15a591e415",
       "version_major": 2,
       "version_minor": 0
      },
      "text/plain": [
       "Out-of-dist:   0%|          | 0/12 [00:00<?, ?it/s]"
      ]
     },
     "metadata": {},
     "output_type": "display_data"
    },
    {
     "data": {
      "application/vnd.jupyter.widget-view+json": {
       "model_id": "f59d46445fc44fe78448493ddb41579a",
       "version_major": 2,
       "version_minor": 0
      },
      "text/plain": [
       "Out-of-dist:   0%|          | 0/642 [00:00<?, ?it/s]"
      ]
     },
     "metadata": {},
     "output_type": "display_data"
    }
   ],
   "source": [
    "dice_metrics = BinaryMetrics()\n",
    "dice = Runner(model, dice_metrics, dataloaders['CIFAR-10'], device)\n",
    "\n",
    "dict_dice_metrics = {}\n",
    "for nm_dl in ood_dls:\n",
    "  dict_dice_metrics[nm_dl] = dice.run(dataloaders[nm_dl])\n",
    "\n",
    "dice_df = pd.DataFrame(dict_dice_metrics)\n",
    "dice_df['Avg.'] = dice_df.mean(axis=1)\n",
    "result_dfs['CIFAR-10_dice'] = dice_df\n",
    "\n",
    "# dice_df.T[['FPR@95', 'AUROC', 'AUPR_In']]"
   ]
  },
  {
   "attachments": {},
   "cell_type": "markdown",
   "metadata": {},
   "source": [
    "## Results"
   ]
  },
  {
   "cell_type": "code",
   "execution_count": 13,
   "metadata": {},
   "outputs": [
    {
     "data": {
      "text/html": [
       "<div>\n",
       "<style scoped>\n",
       "    .dataframe tbody tr th:only-of-type {\n",
       "        vertical-align: middle;\n",
       "    }\n",
       "\n",
       "    .dataframe tbody tr th {\n",
       "        vertical-align: top;\n",
       "    }\n",
       "\n",
       "    .dataframe thead th {\n",
       "        text-align: right;\n",
       "    }\n",
       "</style>\n",
       "<table border=\"1\" class=\"dataframe\">\n",
       "  <thead>\n",
       "    <tr style=\"text-align: right;\">\n",
       "      <th></th>\n",
       "      <th>FPR@95</th>\n",
       "      <th>AUROC</th>\n",
       "      <th>AUPR_In</th>\n",
       "    </tr>\n",
       "  </thead>\n",
       "  <tbody>\n",
       "    <tr>\n",
       "      <th>SVHN</th>\n",
       "      <td>0.875400</td>\n",
       "      <td>0.818515</td>\n",
       "      <td>0.863067</td>\n",
       "    </tr>\n",
       "    <tr>\n",
       "      <th>LSUN</th>\n",
       "      <td>0.147800</td>\n",
       "      <td>0.974348</td>\n",
       "      <td>0.976312</td>\n",
       "    </tr>\n",
       "    <tr>\n",
       "      <th>LSUN_resize</th>\n",
       "      <td>0.707300</td>\n",
       "      <td>0.801376</td>\n",
       "      <td>0.814240</td>\n",
       "    </tr>\n",
       "    <tr>\n",
       "      <th>iSUN</th>\n",
       "      <td>0.746106</td>\n",
       "      <td>0.789539</td>\n",
       "      <td>0.817554</td>\n",
       "    </tr>\n",
       "    <tr>\n",
       "      <th>dtd</th>\n",
       "      <td>0.843617</td>\n",
       "      <td>0.710096</td>\n",
       "      <td>0.765005</td>\n",
       "    </tr>\n",
       "    <tr>\n",
       "      <th>places365</th>\n",
       "      <td>0.782843</td>\n",
       "      <td>0.781495</td>\n",
       "      <td>0.141730</td>\n",
       "    </tr>\n",
       "    <tr>\n",
       "      <th>Avg.</th>\n",
       "      <td>0.683844</td>\n",
       "      <td>0.812562</td>\n",
       "      <td>0.729651</td>\n",
       "    </tr>\n",
       "  </tbody>\n",
       "</table>\n",
       "</div>"
      ],
      "text/plain": [
       "               FPR@95     AUROC   AUPR_In\n",
       "SVHN         0.875400  0.818515  0.863067\n",
       "LSUN         0.147800  0.974348  0.976312\n",
       "LSUN_resize  0.707300  0.801376  0.814240\n",
       "iSUN         0.746106  0.789539  0.817554\n",
       "dtd          0.843617  0.710096  0.765005\n",
       "places365    0.782843  0.781495  0.141730\n",
       "Avg.         0.683844  0.812562  0.729651"
      ]
     },
     "execution_count": 13,
     "metadata": {},
     "output_type": "execute_result"
    }
   ],
   "source": [
    "result_dfs['CIFAR-100_energy'].T[['FPR@95', 'AUROC', 'AUPR_In']]"
   ]
  },
  {
   "cell_type": "code",
   "execution_count": 14,
   "metadata": {},
   "outputs": [
    {
     "data": {
      "text/html": [
       "<div>\n",
       "<style scoped>\n",
       "    .dataframe tbody tr th:only-of-type {\n",
       "        vertical-align: middle;\n",
       "    }\n",
       "\n",
       "    .dataframe tbody tr th {\n",
       "        vertical-align: top;\n",
       "    }\n",
       "\n",
       "    .dataframe thead th {\n",
       "        text-align: right;\n",
       "    }\n",
       "</style>\n",
       "<table border=\"1\" class=\"dataframe\">\n",
       "  <thead>\n",
       "    <tr style=\"text-align: right;\">\n",
       "      <th></th>\n",
       "      <th>FPR@95</th>\n",
       "      <th>AUROC</th>\n",
       "      <th>AUPR_In</th>\n",
       "    </tr>\n",
       "  </thead>\n",
       "  <tbody>\n",
       "    <tr>\n",
       "      <th>SVHN</th>\n",
       "      <td>0.591500</td>\n",
       "      <td>0.886079</td>\n",
       "      <td>0.903695</td>\n",
       "    </tr>\n",
       "    <tr>\n",
       "      <th>LSUN</th>\n",
       "      <td>0.009200</td>\n",
       "      <td>0.997392</td>\n",
       "      <td>0.997412</td>\n",
       "    </tr>\n",
       "    <tr>\n",
       "      <th>LSUN_resize</th>\n",
       "      <td>0.516800</td>\n",
       "      <td>0.893147</td>\n",
       "      <td>0.902909</td>\n",
       "    </tr>\n",
       "    <tr>\n",
       "      <th>iSUN</th>\n",
       "      <td>0.494006</td>\n",
       "      <td>0.894949</td>\n",
       "      <td>0.909927</td>\n",
       "    </tr>\n",
       "    <tr>\n",
       "      <th>dtd</th>\n",
       "      <td>0.612234</td>\n",
       "      <td>0.771527</td>\n",
       "      <td>0.793554</td>\n",
       "    </tr>\n",
       "    <tr>\n",
       "      <th>places365</th>\n",
       "      <td>0.802904</td>\n",
       "      <td>0.774476</td>\n",
       "      <td>0.140147</td>\n",
       "    </tr>\n",
       "    <tr>\n",
       "      <th>Avg.</th>\n",
       "      <td>0.504441</td>\n",
       "      <td>0.869595</td>\n",
       "      <td>0.774607</td>\n",
       "    </tr>\n",
       "  </tbody>\n",
       "</table>\n",
       "</div>"
      ],
      "text/plain": [
       "               FPR@95     AUROC   AUPR_In\n",
       "SVHN         0.591500  0.886079  0.903695\n",
       "LSUN         0.009200  0.997392  0.997412\n",
       "LSUN_resize  0.516800  0.893147  0.902909\n",
       "iSUN         0.494006  0.894949  0.909927\n",
       "dtd          0.612234  0.771527  0.793554\n",
       "places365    0.802904  0.774476  0.140147\n",
       "Avg.         0.504441  0.869595  0.774607"
      ]
     },
     "execution_count": 14,
     "metadata": {},
     "output_type": "execute_result"
    }
   ],
   "source": [
    "result_dfs['CIFAR-100_dice'].T[['FPR@95', 'AUROC', 'AUPR_In']]"
   ]
  },
  {
   "cell_type": "code",
   "execution_count": 15,
   "metadata": {},
   "outputs": [
    {
     "data": {
      "text/html": [
       "<div>\n",
       "<style scoped>\n",
       "    .dataframe tbody tr th:only-of-type {\n",
       "        vertical-align: middle;\n",
       "    }\n",
       "\n",
       "    .dataframe tbody tr th {\n",
       "        vertical-align: top;\n",
       "    }\n",
       "\n",
       "    .dataframe thead th {\n",
       "        text-align: right;\n",
       "    }\n",
       "</style>\n",
       "<table border=\"1\" class=\"dataframe\">\n",
       "  <thead>\n",
       "    <tr style=\"text-align: right;\">\n",
       "      <th></th>\n",
       "      <th>FPR@95</th>\n",
       "      <th>AUROC</th>\n",
       "      <th>AUPR_In</th>\n",
       "    </tr>\n",
       "  </thead>\n",
       "  <tbody>\n",
       "    <tr>\n",
       "      <th>SVHN</th>\n",
       "      <td>0.406300</td>\n",
       "      <td>0.939926</td>\n",
       "      <td>0.953340</td>\n",
       "    </tr>\n",
       "    <tr>\n",
       "      <th>LSUN</th>\n",
       "      <td>0.038100</td>\n",
       "      <td>0.991504</td>\n",
       "      <td>0.992562</td>\n",
       "    </tr>\n",
       "    <tr>\n",
       "      <th>LSUN_resize</th>\n",
       "      <td>0.092800</td>\n",
       "      <td>0.981238</td>\n",
       "      <td>0.984918</td>\n",
       "    </tr>\n",
       "    <tr>\n",
       "      <th>iSUN</th>\n",
       "      <td>0.100616</td>\n",
       "      <td>0.980683</td>\n",
       "      <td>0.986024</td>\n",
       "    </tr>\n",
       "    <tr>\n",
       "      <th>dtd</th>\n",
       "      <td>0.563121</td>\n",
       "      <td>0.864202</td>\n",
       "      <td>0.898692</td>\n",
       "    </tr>\n",
       "    <tr>\n",
       "      <th>places365</th>\n",
       "      <td>0.397665</td>\n",
       "      <td>0.918054</td>\n",
       "      <td>0.385097</td>\n",
       "    </tr>\n",
       "    <tr>\n",
       "      <th>Avg.</th>\n",
       "      <td>0.266434</td>\n",
       "      <td>0.945935</td>\n",
       "      <td>0.866772</td>\n",
       "    </tr>\n",
       "  </tbody>\n",
       "</table>\n",
       "</div>"
      ],
      "text/plain": [
       "               FPR@95     AUROC   AUPR_In\n",
       "SVHN         0.406300  0.939926  0.953340\n",
       "LSUN         0.038100  0.991504  0.992562\n",
       "LSUN_resize  0.092800  0.981238  0.984918\n",
       "iSUN         0.100616  0.980683  0.986024\n",
       "dtd          0.563121  0.864202  0.898692\n",
       "places365    0.397665  0.918054  0.385097\n",
       "Avg.         0.266434  0.945935  0.866772"
      ]
     },
     "execution_count": 15,
     "metadata": {},
     "output_type": "execute_result"
    }
   ],
   "source": [
    "result_dfs['CIFAR-10_energy'].T[['FPR@95', 'AUROC', 'AUPR_In']]"
   ]
  },
  {
   "cell_type": "code",
   "execution_count": 16,
   "metadata": {},
   "outputs": [
    {
     "data": {
      "text/html": [
       "<div>\n",
       "<style scoped>\n",
       "    .dataframe tbody tr th:only-of-type {\n",
       "        vertical-align: middle;\n",
       "    }\n",
       "\n",
       "    .dataframe tbody tr th {\n",
       "        vertical-align: top;\n",
       "    }\n",
       "\n",
       "    .dataframe thead th {\n",
       "        text-align: right;\n",
       "    }\n",
       "</style>\n",
       "<table border=\"1\" class=\"dataframe\">\n",
       "  <thead>\n",
       "    <tr style=\"text-align: right;\">\n",
       "      <th></th>\n",
       "      <th>FPR@95</th>\n",
       "      <th>AUROC</th>\n",
       "      <th>AUPR_In</th>\n",
       "    </tr>\n",
       "  </thead>\n",
       "  <tbody>\n",
       "    <tr>\n",
       "      <th>SVHN</th>\n",
       "      <td>0.297000</td>\n",
       "      <td>0.946658</td>\n",
       "      <td>0.952062</td>\n",
       "    </tr>\n",
       "    <tr>\n",
       "      <th>LSUN</th>\n",
       "      <td>0.003800</td>\n",
       "      <td>0.998986</td>\n",
       "      <td>0.998997</td>\n",
       "    </tr>\n",
       "    <tr>\n",
       "      <th>LSUN_resize</th>\n",
       "      <td>0.044700</td>\n",
       "      <td>0.990291</td>\n",
       "      <td>0.991147</td>\n",
       "    </tr>\n",
       "    <tr>\n",
       "      <th>iSUN</th>\n",
       "      <td>0.051541</td>\n",
       "      <td>0.989713</td>\n",
       "      <td>0.991639</td>\n",
       "    </tr>\n",
       "    <tr>\n",
       "      <th>dtd</th>\n",
       "      <td>0.459220</td>\n",
       "      <td>0.869672</td>\n",
       "      <td>0.888168</td>\n",
       "    </tr>\n",
       "    <tr>\n",
       "      <th>places365</th>\n",
       "      <td>0.451291</td>\n",
       "      <td>0.901546</td>\n",
       "      <td>0.333267</td>\n",
       "    </tr>\n",
       "    <tr>\n",
       "      <th>Avg.</th>\n",
       "      <td>0.217925</td>\n",
       "      <td>0.949478</td>\n",
       "      <td>0.859213</td>\n",
       "    </tr>\n",
       "  </tbody>\n",
       "</table>\n",
       "</div>"
      ],
      "text/plain": [
       "               FPR@95     AUROC   AUPR_In\n",
       "SVHN         0.297000  0.946658  0.952062\n",
       "LSUN         0.003800  0.998986  0.998997\n",
       "LSUN_resize  0.044700  0.990291  0.991147\n",
       "iSUN         0.051541  0.989713  0.991639\n",
       "dtd          0.459220  0.869672  0.888168\n",
       "places365    0.451291  0.901546  0.333267\n",
       "Avg.         0.217925  0.949478  0.859213"
      ]
     },
     "execution_count": 16,
     "metadata": {},
     "output_type": "execute_result"
    }
   ],
   "source": [
    "result_dfs['CIFAR-10_dice'].T[['FPR@95', 'AUROC', 'AUPR_In']]"
   ]
  }
 ],
 "metadata": {
  "kernelspec": {
   "display_name": "jax",
   "language": "python",
   "name": "python3"
  },
  "language_info": {
   "codemirror_mode": {
    "name": "ipython",
    "version": 3
   },
   "file_extension": ".py",
   "mimetype": "text/x-python",
   "name": "python",
   "nbconvert_exporter": "python",
   "pygments_lexer": "ipython3",
   "version": "3.10.9"
  },
  "orig_nbformat": 4,
  "vscode": {
   "interpreter": {
    "hash": "3fa6689b546259a140f700df87133380835e0a96e9af08af581bf45c0ff0ee88"
   }
  }
 },
 "nbformat": 4,
 "nbformat_minor": 2
}
