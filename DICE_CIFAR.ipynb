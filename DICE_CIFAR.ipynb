{
 "cells": [
  {
   "attachments": {},
   "cell_type": "markdown",
   "metadata": {},
   "source": [
    "# DICE\n",
    "[DICE: Leveraging Sparsification for Out-of-Distribution Detection](https://arxiv.org/abs/2111.09805)"
   ]
  },
  {
   "cell_type": "code",
   "execution_count": 1,
   "metadata": {},
   "outputs": [],
   "source": [
    "import torch\n",
    "import torch.nn.functional as F\n",
    "import torchvision\n",
    "import torchvision.transforms as transforms\n",
    "from torchvision.models.feature_extraction import get_graph_node_names, create_feature_extractor\n",
    "\n",
    "import numpy as np\n",
    "import pandas as pd\n",
    "import matplotlib.pyplot as plt\n",
    "from tqdm.auto import tqdm\n",
    "\n",
    "from models.densenet import DenseNet3\n",
    "import util.svhn_loader as svhn"
   ]
  },
  {
   "cell_type": "code",
   "execution_count": 2,
   "metadata": {},
   "outputs": [
    {
     "name": "stdout",
     "output_type": "stream",
     "text": [
      "Files already downloaded and verified\n",
      "Files already downloaded and verified\n",
      "Files already downloaded and verified\n"
     ]
    }
   ],
   "source": [
    "transform_cifar = transforms.Compose([\n",
    "  transforms.Resize(32),\n",
    "  transforms.CenterCrop(32),\n",
    "  transforms.ToTensor(),\n",
    "  transforms.Normalize((0.4914, 0.4822, 0.4465), (0.2023, 0.1994, 0.2010)),\n",
    "])\n",
    "\n",
    "datasets = {\n",
    "  'CIFAR-10': torchvision.datasets.CIFAR10(root='./datasets/id_datasets/', train=False, download=True, transform=transform_cifar),\n",
    "  'CIFAR-100': torchvision.datasets.CIFAR100(root='./datasets/id_datasets/', train=False, download=True, transform=transform_cifar), \n",
    "  'SVHN': svhn.SVHN('datasets/ood_datasets/svhn/', split='test', transform=transform_cifar, download=False),\n",
    "  'dtd': torchvision.datasets.ImageFolder(root=\"datasets/ood_datasets/dtd/images\", transform=transform_cifar),\n",
    "  'places365': torchvision.datasets.ImageFolder(root=\"datasets/ood_datasets/places365/\", transform=transform_cifar),\n",
    "  'celebA': torchvision.datasets.CelebA(root='datasets/ood_datasets/', split='test', download=True, transform=transform_cifar),\n",
    "  'iSUN': torchvision.datasets.ImageFolder(\"./datasets/ood_datasets/iSUN\", transform=transform_cifar),\n",
    "  'LSUN': torchvision.datasets.ImageFolder(\"./datasets/ood_datasets/LSUN\", transform=transform_cifar),\n",
    "  'LSUN_resize': torchvision.datasets.ImageFolder(\"./datasets/ood_datasets/LSUN_resize\", transform=transform_cifar),\n",
    "}\n",
    "\n",
    "dataloaders = {\n",
    "  k: torch.utils.data.DataLoader(v, batch_size=512, shuffle=False) for k,v in datasets.items()\n",
    "}\n",
    "\n",
    "ood_dls = ['SVHN', 'LSUN', 'LSUN_resize', 'iSUN', 'dtd', 'places365']"
   ]
  },
  {
   "cell_type": "code",
   "execution_count": 3,
   "metadata": {},
   "outputs": [],
   "source": [
    "import sys\n",
    "sys.path.append('./code/')\n",
    "\n",
    "from metrics import BinaryMetrics, Runner\n",
    "\n",
    "device = 'cuda:0'\n",
    "result_dfs = {}"
   ]
  },
  {
   "attachments": {},
   "cell_type": "markdown",
   "metadata": {},
   "source": [
    "## CIFAR-100"
   ]
  },
  {
   "attachments": {},
   "cell_type": "markdown",
   "metadata": {},
   "source": [
    "* No Sparsity"
   ]
  },
  {
   "cell_type": "code",
   "execution_count": 4,
   "metadata": {},
   "outputs": [],
   "source": [
    "densenet = DenseNet3(100, 100, 12, reduction=0.5, bottleneck=True, dropRate=0.0, normalizer=None, p=None, info=None)\n",
    "checkpoint = torch.load(\"./checkpoints/CIFAR-100/densenet/checkpoint_100.pth.tar\")\n",
    "densenet.load_state_dict(checkpoint['state_dict'])\n",
    "densenet.eval()\n",
    "densenet.to(device);"
   ]
  },
  {
   "cell_type": "code",
   "execution_count": 5,
   "metadata": {},
   "outputs": [
    {
     "data": {
      "application/vnd.jupyter.widget-view+json": {
       "model_id": "ea6009ef3f524814bff9445c8d0c2b34",
       "version_major": 2,
       "version_minor": 0
      },
      "text/plain": [
       "In-dist:   0%|          | 0/20 [00:00<?, ?it/s]"
      ]
     },
     "metadata": {},
     "output_type": "display_data"
    },
    {
     "name": "stderr",
     "output_type": "stream",
     "text": [
      "/home/bckim/miniconda3/envs/jax/lib/python3.10/site-packages/torchmetrics/utilities/prints.py:36: UserWarning: No negative samples in targets, false positive value should be meaningless. Returning zero tensor in false positive score\n",
      "  warnings.warn(*args, **kwargs)\n"
     ]
    },
    {
     "data": {
      "application/vnd.jupyter.widget-view+json": {
       "model_id": "63730caeb95847168d787fae92555e28",
       "version_major": 2,
       "version_minor": 0
      },
      "text/plain": [
       "Out-of-dist:   0%|          | 0/20 [00:00<?, ?it/s]"
      ]
     },
     "metadata": {},
     "output_type": "display_data"
    },
    {
     "name": "stderr",
     "output_type": "stream",
     "text": [
      "/home/bckim/miniconda3/envs/jax/lib/python3.10/site-packages/torchmetrics/utilities/prints.py:36: UserWarning: No positive samples in targets, true positive value should be meaningless. Returning zero tensor in true positive score\n",
      "  warnings.warn(*args, **kwargs)\n"
     ]
    },
    {
     "data": {
      "application/vnd.jupyter.widget-view+json": {
       "model_id": "122d06a5cd4d49a3b3cb5beef9656ae1",
       "version_major": 2,
       "version_minor": 0
      },
      "text/plain": [
       "Out-of-dist:   0%|          | 0/20 [00:00<?, ?it/s]"
      ]
     },
     "metadata": {},
     "output_type": "display_data"
    },
    {
     "data": {
      "application/vnd.jupyter.widget-view+json": {
       "model_id": "90b3b851f4e5410fa7e5b96b7b86aba1",
       "version_major": 2,
       "version_minor": 0
      },
      "text/plain": [
       "Out-of-dist:   0%|          | 0/20 [00:00<?, ?it/s]"
      ]
     },
     "metadata": {},
     "output_type": "display_data"
    },
    {
     "data": {
      "application/vnd.jupyter.widget-view+json": {
       "model_id": "13b4dcec26534d298768e049b550cc13",
       "version_major": 2,
       "version_minor": 0
      },
      "text/plain": [
       "Out-of-dist:   0%|          | 0/18 [00:00<?, ?it/s]"
      ]
     },
     "metadata": {},
     "output_type": "display_data"
    },
    {
     "data": {
      "application/vnd.jupyter.widget-view+json": {
       "model_id": "d279c27da95546b991e8dd75aaa1be7b",
       "version_major": 2,
       "version_minor": 0
      },
      "text/plain": [
       "Out-of-dist:   0%|          | 0/12 [00:00<?, ?it/s]"
      ]
     },
     "metadata": {},
     "output_type": "display_data"
    },
    {
     "data": {
      "application/vnd.jupyter.widget-view+json": {
       "model_id": "5503dfc6e33e43c6861d7943a5f7536f",
       "version_major": 2,
       "version_minor": 0
      },
      "text/plain": [
       "Out-of-dist:   0%|          | 0/642 [00:00<?, ?it/s]"
      ]
     },
     "metadata": {},
     "output_type": "display_data"
    }
   ],
   "source": [
    "energy_metrics = BinaryMetrics()\n",
    "energy = Runner(lambda x: torch.logsumexp(densenet.forward(x), -1)/1000.0, energy_metrics, dataloaders['CIFAR-100'], device)\n",
    "\n",
    "dict_energy_metrics = {}\n",
    "for nm_dl in ood_dls:\n",
    "  dict_energy_metrics[nm_dl] = energy.run(dataloaders[nm_dl])\n",
    "\n",
    "energy_df = pd.DataFrame(dict_energy_metrics)\n",
    "energy_df['Avg.'] = energy_df.mean(axis=1)\n",
    "result_dfs['CIFAR-100_energy'] = energy_df\n",
    "\n",
    "# energy_df.T[['FPR@95', 'AUROC', 'AUPR_In']]"
   ]
  },
  {
   "attachments": {},
   "cell_type": "markdown",
   "metadata": {},
   "source": [
    "* With Sparsity $p=90$"
   ]
  },
  {
   "cell_type": "code",
   "execution_count": 6,
   "metadata": {},
   "outputs": [],
   "source": [
    "info = np.load(f\"./cache/CIFAR-100_densenet_feat_stat.npy\")\n",
    "\n",
    "densenet = DenseNet3(100, 100, 12, reduction=0.5, bottleneck=True, dropRate=0.0, normalizer=None, p=90, info=info)\n",
    "densenet.load_state_dict(checkpoint['state_dict'])\n",
    "densenet.eval()\n",
    "densenet.to(device);"
   ]
  },
  {
   "cell_type": "code",
   "execution_count": 7,
   "metadata": {},
   "outputs": [
    {
     "data": {
      "application/vnd.jupyter.widget-view+json": {
       "model_id": "177509dd097c4c6fac61a19fc98ed9ed",
       "version_major": 2,
       "version_minor": 0
      },
      "text/plain": [
       "In-dist:   0%|          | 0/20 [00:00<?, ?it/s]"
      ]
     },
     "metadata": {},
     "output_type": "display_data"
    },
    {
     "name": "stderr",
     "output_type": "stream",
     "text": [
      "/home/bckim/miniconda3/envs/jax/lib/python3.10/site-packages/torchmetrics/utilities/prints.py:36: UserWarning: No negative samples in targets, false positive value should be meaningless. Returning zero tensor in false positive score\n",
      "  warnings.warn(*args, **kwargs)\n"
     ]
    },
    {
     "data": {
      "application/vnd.jupyter.widget-view+json": {
       "model_id": "dc5b8656051349d1a407a5605e41a7ab",
       "version_major": 2,
       "version_minor": 0
      },
      "text/plain": [
       "Out-of-dist:   0%|          | 0/20 [00:00<?, ?it/s]"
      ]
     },
     "metadata": {},
     "output_type": "display_data"
    },
    {
     "name": "stderr",
     "output_type": "stream",
     "text": [
      "/home/bckim/miniconda3/envs/jax/lib/python3.10/site-packages/torchmetrics/utilities/prints.py:36: UserWarning: No positive samples in targets, true positive value should be meaningless. Returning zero tensor in true positive score\n",
      "  warnings.warn(*args, **kwargs)\n"
     ]
    },
    {
     "data": {
      "application/vnd.jupyter.widget-view+json": {
       "model_id": "4f8d9808515840dfb7716a7d617a0531",
       "version_major": 2,
       "version_minor": 0
      },
      "text/plain": [
       "Out-of-dist:   0%|          | 0/20 [00:00<?, ?it/s]"
      ]
     },
     "metadata": {},
     "output_type": "display_data"
    },
    {
     "data": {
      "application/vnd.jupyter.widget-view+json": {
       "model_id": "1eafbcb2c9c945e4a5f214b1203d5b36",
       "version_major": 2,
       "version_minor": 0
      },
      "text/plain": [
       "Out-of-dist:   0%|          | 0/20 [00:00<?, ?it/s]"
      ]
     },
     "metadata": {},
     "output_type": "display_data"
    },
    {
     "data": {
      "application/vnd.jupyter.widget-view+json": {
       "model_id": "e1f98f5fc6b440a7b723d89f5d86745f",
       "version_major": 2,
       "version_minor": 0
      },
      "text/plain": [
       "Out-of-dist:   0%|          | 0/18 [00:00<?, ?it/s]"
      ]
     },
     "metadata": {},
     "output_type": "display_data"
    },
    {
     "data": {
      "application/vnd.jupyter.widget-view+json": {
       "model_id": "809372b03ba749cda9cf66b73734868c",
       "version_major": 2,
       "version_minor": 0
      },
      "text/plain": [
       "Out-of-dist:   0%|          | 0/12 [00:00<?, ?it/s]"
      ]
     },
     "metadata": {},
     "output_type": "display_data"
    },
    {
     "data": {
      "application/vnd.jupyter.widget-view+json": {
       "model_id": "ffce17908b4640a692e8e7d8aec2a752",
       "version_major": 2,
       "version_minor": 0
      },
      "text/plain": [
       "Out-of-dist:   0%|          | 0/642 [00:00<?, ?it/s]"
      ]
     },
     "metadata": {},
     "output_type": "display_data"
    }
   ],
   "source": [
    "dice_metrics = BinaryMetrics()\n",
    "dice = Runner(lambda x: torch.logsumexp(densenet.forward(x), -1)/1000.0, dice_metrics, dataloaders['CIFAR-100'], device)\n",
    "\n",
    "dict_dice_metrics = {}\n",
    "for nm_dl in ood_dls:\n",
    "  dict_dice_metrics[nm_dl] = dice.run(dataloaders[nm_dl])\n",
    "\n",
    "dice_df = pd.DataFrame(dict_dice_metrics)\n",
    "dice_df['Avg.'] = dice_df.mean(axis=1)\n",
    "result_dfs['CIFAR-100_dice'] = dice_df\n",
    "\n",
    "# dice_df.T[['FPR@95', 'AUROC', 'AUPR_In']]"
   ]
  },
  {
   "attachments": {},
   "cell_type": "markdown",
   "metadata": {},
   "source": [
    "## CIFAR-10"
   ]
  },
  {
   "attachments": {},
   "cell_type": "markdown",
   "metadata": {},
   "source": [
    "* No Sparsity"
   ]
  },
  {
   "cell_type": "code",
   "execution_count": 8,
   "metadata": {},
   "outputs": [],
   "source": [
    "densenet = DenseNet3(100, 10, 12, reduction=0.5, bottleneck=True, dropRate=0.0, normalizer=None, p=None, info=None)\n",
    "checkpoint = torch.load(\"./checkpoints/CIFAR-10/densenet/checkpoint_100.pth.tar\")\n",
    "densenet.load_state_dict(checkpoint['state_dict'])\n",
    "densenet.eval()\n",
    "densenet.to(device);"
   ]
  },
  {
   "cell_type": "code",
   "execution_count": 9,
   "metadata": {},
   "outputs": [
    {
     "data": {
      "application/vnd.jupyter.widget-view+json": {
       "model_id": "934cebfe31bd47f2855bc2558d12b56f",
       "version_major": 2,
       "version_minor": 0
      },
      "text/plain": [
       "In-dist:   0%|          | 0/20 [00:00<?, ?it/s]"
      ]
     },
     "metadata": {},
     "output_type": "display_data"
    },
    {
     "name": "stderr",
     "output_type": "stream",
     "text": [
      "/home/bckim/miniconda3/envs/jax/lib/python3.10/site-packages/torchmetrics/utilities/prints.py:36: UserWarning: No negative samples in targets, false positive value should be meaningless. Returning zero tensor in false positive score\n",
      "  warnings.warn(*args, **kwargs)\n"
     ]
    },
    {
     "data": {
      "application/vnd.jupyter.widget-view+json": {
       "model_id": "5f64b06ba8d44e59a6a930c73a55d4f6",
       "version_major": 2,
       "version_minor": 0
      },
      "text/plain": [
       "Out-of-dist:   0%|          | 0/20 [00:00<?, ?it/s]"
      ]
     },
     "metadata": {},
     "output_type": "display_data"
    },
    {
     "name": "stderr",
     "output_type": "stream",
     "text": [
      "/home/bckim/miniconda3/envs/jax/lib/python3.10/site-packages/torchmetrics/utilities/prints.py:36: UserWarning: No positive samples in targets, true positive value should be meaningless. Returning zero tensor in true positive score\n",
      "  warnings.warn(*args, **kwargs)\n"
     ]
    },
    {
     "data": {
      "application/vnd.jupyter.widget-view+json": {
       "model_id": "127d03f953554733924942ac3adfcb76",
       "version_major": 2,
       "version_minor": 0
      },
      "text/plain": [
       "Out-of-dist:   0%|          | 0/20 [00:00<?, ?it/s]"
      ]
     },
     "metadata": {},
     "output_type": "display_data"
    },
    {
     "data": {
      "application/vnd.jupyter.widget-view+json": {
       "model_id": "8d623cf358d04e439172a9c6b6a6c55a",
       "version_major": 2,
       "version_minor": 0
      },
      "text/plain": [
       "Out-of-dist:   0%|          | 0/20 [00:00<?, ?it/s]"
      ]
     },
     "metadata": {},
     "output_type": "display_data"
    },
    {
     "data": {
      "application/vnd.jupyter.widget-view+json": {
       "model_id": "34b9a4fd35354415bc2b1190f6022292",
       "version_major": 2,
       "version_minor": 0
      },
      "text/plain": [
       "Out-of-dist:   0%|          | 0/18 [00:00<?, ?it/s]"
      ]
     },
     "metadata": {},
     "output_type": "display_data"
    },
    {
     "data": {
      "application/vnd.jupyter.widget-view+json": {
       "model_id": "d8e30e06d3a4407fb50f326667ffedc8",
       "version_major": 2,
       "version_minor": 0
      },
      "text/plain": [
       "Out-of-dist:   0%|          | 0/12 [00:00<?, ?it/s]"
      ]
     },
     "metadata": {},
     "output_type": "display_data"
    },
    {
     "data": {
      "application/vnd.jupyter.widget-view+json": {
       "model_id": "a72e3048258b4988bbfd3330ba39b7dd",
       "version_major": 2,
       "version_minor": 0
      },
      "text/plain": [
       "Out-of-dist:   0%|          | 0/642 [00:00<?, ?it/s]"
      ]
     },
     "metadata": {},
     "output_type": "display_data"
    }
   ],
   "source": [
    "energy_metrics = BinaryMetrics()\n",
    "energy = Runner(lambda x: torch.logsumexp(densenet.forward(x), -1)/1000.0, energy_metrics, dataloaders['CIFAR-10'], device)\n",
    "\n",
    "dict_energy_metrics = {}\n",
    "for nm_dl in ood_dls:\n",
    "  dict_energy_metrics[nm_dl] = energy.run(dataloaders[nm_dl])\n",
    "\n",
    "energy_df = pd.DataFrame(dict_energy_metrics)\n",
    "energy_df['Avg.'] = energy_df.mean(axis=1)\n",
    "result_dfs['CIFAR-10_energy'] = energy_df\n",
    "\n",
    "# energy_df.T[['FPR@95', 'AUROC', 'AUPR_In']]"
   ]
  },
  {
   "cell_type": "code",
   "execution_count": 10,
   "metadata": {},
   "outputs": [],
   "source": [
    "# msp_metrics = BinaryMetrics()\n",
    "# msp = Runner(lambda x: F.softmax(model.forward(x), -1).max(-1)[0], msp_metrics, dataloaders['CIFAR-10'], device)\n",
    "\n",
    "# dict_msp_metrics = {}\n",
    "# for nm_dl in ood_dls:\n",
    "#   dict_msp_metrics[nm_dl] = msp.run(dataloaders[nm_dl])\n",
    "\n",
    "# msp_df = pd.DataFrame(dict_msp_metrics)\n",
    "# msp_df['Avg.'] = msp_df.mean(axis=1)\n",
    "# result_dfs['CIFAR-10_msp'] = msp_df\n",
    "\n",
    "# msp_df.T[['FPR@95', 'AUROC', 'AUPR_In']]"
   ]
  },
  {
   "attachments": {},
   "cell_type": "markdown",
   "metadata": {},
   "source": [
    "* With Sparsity $p=90$"
   ]
  },
  {
   "cell_type": "code",
   "execution_count": 11,
   "metadata": {},
   "outputs": [],
   "source": [
    "info = np.load(f\"./cache/CIFAR-10_densenet_feat_stat.npy\")\n",
    "\n",
    "densenet = DenseNet3(100, 10, 12, reduction=0.5, bottleneck=True, dropRate=0.0, normalizer=None, p=90, info=info)\n",
    "densenet.load_state_dict(checkpoint['state_dict'])\n",
    "densenet.eval()\n",
    "densenet.to(device);"
   ]
  },
  {
   "cell_type": "code",
   "execution_count": 12,
   "metadata": {},
   "outputs": [
    {
     "data": {
      "application/vnd.jupyter.widget-view+json": {
       "model_id": "b7b2063dc56142b08edd5d76ee82a263",
       "version_major": 2,
       "version_minor": 0
      },
      "text/plain": [
       "In-dist:   0%|          | 0/20 [00:00<?, ?it/s]"
      ]
     },
     "metadata": {},
     "output_type": "display_data"
    },
    {
     "name": "stderr",
     "output_type": "stream",
     "text": [
      "/home/bckim/miniconda3/envs/jax/lib/python3.10/site-packages/torchmetrics/utilities/prints.py:36: UserWarning: No negative samples in targets, false positive value should be meaningless. Returning zero tensor in false positive score\n",
      "  warnings.warn(*args, **kwargs)\n"
     ]
    },
    {
     "data": {
      "application/vnd.jupyter.widget-view+json": {
       "model_id": "c38eb6e2c0c94c50bc374da42d5f1561",
       "version_major": 2,
       "version_minor": 0
      },
      "text/plain": [
       "Out-of-dist:   0%|          | 0/20 [00:00<?, ?it/s]"
      ]
     },
     "metadata": {},
     "output_type": "display_data"
    },
    {
     "name": "stderr",
     "output_type": "stream",
     "text": [
      "/home/bckim/miniconda3/envs/jax/lib/python3.10/site-packages/torchmetrics/utilities/prints.py:36: UserWarning: No positive samples in targets, true positive value should be meaningless. Returning zero tensor in true positive score\n",
      "  warnings.warn(*args, **kwargs)\n"
     ]
    },
    {
     "data": {
      "application/vnd.jupyter.widget-view+json": {
       "model_id": "51b4a078ed7e4449abfdc10eb25af888",
       "version_major": 2,
       "version_minor": 0
      },
      "text/plain": [
       "Out-of-dist:   0%|          | 0/20 [00:00<?, ?it/s]"
      ]
     },
     "metadata": {},
     "output_type": "display_data"
    },
    {
     "data": {
      "application/vnd.jupyter.widget-view+json": {
       "model_id": "2a30516645064e07af98d54fb1127e86",
       "version_major": 2,
       "version_minor": 0
      },
      "text/plain": [
       "Out-of-dist:   0%|          | 0/20 [00:00<?, ?it/s]"
      ]
     },
     "metadata": {},
     "output_type": "display_data"
    },
    {
     "data": {
      "application/vnd.jupyter.widget-view+json": {
       "model_id": "f1110c6b45374144a0b5c775f4cfdbf2",
       "version_major": 2,
       "version_minor": 0
      },
      "text/plain": [
       "Out-of-dist:   0%|          | 0/18 [00:00<?, ?it/s]"
      ]
     },
     "metadata": {},
     "output_type": "display_data"
    },
    {
     "data": {
      "application/vnd.jupyter.widget-view+json": {
       "model_id": "30b38d38206c47bcb264a4018fcea2e6",
       "version_major": 2,
       "version_minor": 0
      },
      "text/plain": [
       "Out-of-dist:   0%|          | 0/12 [00:00<?, ?it/s]"
      ]
     },
     "metadata": {},
     "output_type": "display_data"
    },
    {
     "data": {
      "application/vnd.jupyter.widget-view+json": {
       "model_id": "30108f6f2d094dcf80adca2929029114",
       "version_major": 2,
       "version_minor": 0
      },
      "text/plain": [
       "Out-of-dist:   0%|          | 0/642 [00:00<?, ?it/s]"
      ]
     },
     "metadata": {},
     "output_type": "display_data"
    }
   ],
   "source": [
    "dice_metrics = BinaryMetrics()\n",
    "dice = Runner(lambda x: torch.logsumexp(densenet.forward(x), -1)/1000.0, dice_metrics, dataloaders['CIFAR-10'], device)\n",
    "\n",
    "dict_dice_metrics = {}\n",
    "for nm_dl in ood_dls:\n",
    "  dict_dice_metrics[nm_dl] = dice.run(dataloaders[nm_dl])\n",
    "\n",
    "dice_df = pd.DataFrame(dict_dice_metrics)\n",
    "dice_df['Avg.'] = dice_df.mean(axis=1)\n",
    "result_dfs['CIFAR-10_dice'] = dice_df\n",
    "\n",
    "# dice_df.T[['FPR@95', 'AUROC', 'AUPR_In']]"
   ]
  },
  {
   "attachments": {},
   "cell_type": "markdown",
   "metadata": {},
   "source": [
    "## Results"
   ]
  },
  {
   "cell_type": "code",
   "execution_count": 13,
   "metadata": {},
   "outputs": [
    {
     "data": {
      "text/html": [
       "<div>\n",
       "<style scoped>\n",
       "    .dataframe tbody tr th:only-of-type {\n",
       "        vertical-align: middle;\n",
       "    }\n",
       "\n",
       "    .dataframe tbody tr th {\n",
       "        vertical-align: top;\n",
       "    }\n",
       "\n",
       "    .dataframe thead th {\n",
       "        text-align: right;\n",
       "    }\n",
       "</style>\n",
       "<table border=\"1\" class=\"dataframe\">\n",
       "  <thead>\n",
       "    <tr style=\"text-align: right;\">\n",
       "      <th></th>\n",
       "      <th>FPR@95</th>\n",
       "      <th>AUROC</th>\n",
       "      <th>AUPR_In</th>\n",
       "    </tr>\n",
       "  </thead>\n",
       "  <tbody>\n",
       "    <tr>\n",
       "      <th>SVHN</th>\n",
       "      <td>0.875400</td>\n",
       "      <td>0.818515</td>\n",
       "      <td>0.863067</td>\n",
       "    </tr>\n",
       "    <tr>\n",
       "      <th>LSUN</th>\n",
       "      <td>0.147800</td>\n",
       "      <td>0.974348</td>\n",
       "      <td>0.976312</td>\n",
       "    </tr>\n",
       "    <tr>\n",
       "      <th>LSUN_resize</th>\n",
       "      <td>0.707300</td>\n",
       "      <td>0.801376</td>\n",
       "      <td>0.814240</td>\n",
       "    </tr>\n",
       "    <tr>\n",
       "      <th>iSUN</th>\n",
       "      <td>0.746106</td>\n",
       "      <td>0.789539</td>\n",
       "      <td>0.817554</td>\n",
       "    </tr>\n",
       "    <tr>\n",
       "      <th>dtd</th>\n",
       "      <td>0.843617</td>\n",
       "      <td>0.710096</td>\n",
       "      <td>0.765005</td>\n",
       "    </tr>\n",
       "    <tr>\n",
       "      <th>places365</th>\n",
       "      <td>0.782843</td>\n",
       "      <td>0.781495</td>\n",
       "      <td>0.141730</td>\n",
       "    </tr>\n",
       "    <tr>\n",
       "      <th>Avg.</th>\n",
       "      <td>0.683844</td>\n",
       "      <td>0.812562</td>\n",
       "      <td>0.729651</td>\n",
       "    </tr>\n",
       "  </tbody>\n",
       "</table>\n",
       "</div>"
      ],
      "text/plain": [
       "               FPR@95     AUROC   AUPR_In\n",
       "SVHN         0.875400  0.818515  0.863067\n",
       "LSUN         0.147800  0.974348  0.976312\n",
       "LSUN_resize  0.707300  0.801376  0.814240\n",
       "iSUN         0.746106  0.789539  0.817554\n",
       "dtd          0.843617  0.710096  0.765005\n",
       "places365    0.782843  0.781495  0.141730\n",
       "Avg.         0.683844  0.812562  0.729651"
      ]
     },
     "execution_count": 13,
     "metadata": {},
     "output_type": "execute_result"
    }
   ],
   "source": [
    "result_dfs['CIFAR-100_energy'].T[['FPR@95', 'AUROC', 'AUPR_In']]"
   ]
  },
  {
   "cell_type": "code",
   "execution_count": 14,
   "metadata": {},
   "outputs": [
    {
     "data": {
      "text/html": [
       "<div>\n",
       "<style scoped>\n",
       "    .dataframe tbody tr th:only-of-type {\n",
       "        vertical-align: middle;\n",
       "    }\n",
       "\n",
       "    .dataframe tbody tr th {\n",
       "        vertical-align: top;\n",
       "    }\n",
       "\n",
       "    .dataframe thead th {\n",
       "        text-align: right;\n",
       "    }\n",
       "</style>\n",
       "<table border=\"1\" class=\"dataframe\">\n",
       "  <thead>\n",
       "    <tr style=\"text-align: right;\">\n",
       "      <th></th>\n",
       "      <th>FPR@95</th>\n",
       "      <th>AUROC</th>\n",
       "      <th>AUPR_In</th>\n",
       "    </tr>\n",
       "  </thead>\n",
       "  <tbody>\n",
       "    <tr>\n",
       "      <th>SVHN</th>\n",
       "      <td>0.594600</td>\n",
       "      <td>0.885669</td>\n",
       "      <td>0.903368</td>\n",
       "    </tr>\n",
       "    <tr>\n",
       "      <th>LSUN</th>\n",
       "      <td>0.009300</td>\n",
       "      <td>0.997393</td>\n",
       "      <td>0.997414</td>\n",
       "    </tr>\n",
       "    <tr>\n",
       "      <th>LSUN_resize</th>\n",
       "      <td>0.517600</td>\n",
       "      <td>0.893207</td>\n",
       "      <td>0.902982</td>\n",
       "    </tr>\n",
       "    <tr>\n",
       "      <th>iSUN</th>\n",
       "      <td>0.496359</td>\n",
       "      <td>0.895126</td>\n",
       "      <td>0.910083</td>\n",
       "    </tr>\n",
       "    <tr>\n",
       "      <th>dtd</th>\n",
       "      <td>0.615603</td>\n",
       "      <td>0.771157</td>\n",
       "      <td>0.793482</td>\n",
       "    </tr>\n",
       "    <tr>\n",
       "      <th>places365</th>\n",
       "      <td>0.803705</td>\n",
       "      <td>0.774739</td>\n",
       "      <td>0.140498</td>\n",
       "    </tr>\n",
       "    <tr>\n",
       "      <th>Avg.</th>\n",
       "      <td>0.506194</td>\n",
       "      <td>0.869548</td>\n",
       "      <td>0.774638</td>\n",
       "    </tr>\n",
       "  </tbody>\n",
       "</table>\n",
       "</div>"
      ],
      "text/plain": [
       "               FPR@95     AUROC   AUPR_In\n",
       "SVHN         0.594600  0.885669  0.903368\n",
       "LSUN         0.009300  0.997393  0.997414\n",
       "LSUN_resize  0.517600  0.893207  0.902982\n",
       "iSUN         0.496359  0.895126  0.910083\n",
       "dtd          0.615603  0.771157  0.793482\n",
       "places365    0.803705  0.774739  0.140498\n",
       "Avg.         0.506194  0.869548  0.774638"
      ]
     },
     "execution_count": 14,
     "metadata": {},
     "output_type": "execute_result"
    }
   ],
   "source": [
    "result_dfs['CIFAR-100_dice'].T[['FPR@95', 'AUROC', 'AUPR_In']]"
   ]
  },
  {
   "cell_type": "code",
   "execution_count": 15,
   "metadata": {},
   "outputs": [
    {
     "data": {
      "text/html": [
       "<div>\n",
       "<style scoped>\n",
       "    .dataframe tbody tr th:only-of-type {\n",
       "        vertical-align: middle;\n",
       "    }\n",
       "\n",
       "    .dataframe tbody tr th {\n",
       "        vertical-align: top;\n",
       "    }\n",
       "\n",
       "    .dataframe thead th {\n",
       "        text-align: right;\n",
       "    }\n",
       "</style>\n",
       "<table border=\"1\" class=\"dataframe\">\n",
       "  <thead>\n",
       "    <tr style=\"text-align: right;\">\n",
       "      <th></th>\n",
       "      <th>FPR@95</th>\n",
       "      <th>AUROC</th>\n",
       "      <th>AUPR_In</th>\n",
       "    </tr>\n",
       "  </thead>\n",
       "  <tbody>\n",
       "    <tr>\n",
       "      <th>SVHN</th>\n",
       "      <td>0.406300</td>\n",
       "      <td>0.939926</td>\n",
       "      <td>0.953340</td>\n",
       "    </tr>\n",
       "    <tr>\n",
       "      <th>LSUN</th>\n",
       "      <td>0.038100</td>\n",
       "      <td>0.991504</td>\n",
       "      <td>0.992562</td>\n",
       "    </tr>\n",
       "    <tr>\n",
       "      <th>LSUN_resize</th>\n",
       "      <td>0.092800</td>\n",
       "      <td>0.981238</td>\n",
       "      <td>0.984918</td>\n",
       "    </tr>\n",
       "    <tr>\n",
       "      <th>iSUN</th>\n",
       "      <td>0.100616</td>\n",
       "      <td>0.980683</td>\n",
       "      <td>0.986024</td>\n",
       "    </tr>\n",
       "    <tr>\n",
       "      <th>dtd</th>\n",
       "      <td>0.563121</td>\n",
       "      <td>0.864202</td>\n",
       "      <td>0.898692</td>\n",
       "    </tr>\n",
       "    <tr>\n",
       "      <th>places365</th>\n",
       "      <td>0.397665</td>\n",
       "      <td>0.918054</td>\n",
       "      <td>0.385097</td>\n",
       "    </tr>\n",
       "    <tr>\n",
       "      <th>Avg.</th>\n",
       "      <td>0.266434</td>\n",
       "      <td>0.945935</td>\n",
       "      <td>0.866772</td>\n",
       "    </tr>\n",
       "  </tbody>\n",
       "</table>\n",
       "</div>"
      ],
      "text/plain": [
       "               FPR@95     AUROC   AUPR_In\n",
       "SVHN         0.406300  0.939926  0.953340\n",
       "LSUN         0.038100  0.991504  0.992562\n",
       "LSUN_resize  0.092800  0.981238  0.984918\n",
       "iSUN         0.100616  0.980683  0.986024\n",
       "dtd          0.563121  0.864202  0.898692\n",
       "places365    0.397665  0.918054  0.385097\n",
       "Avg.         0.266434  0.945935  0.866772"
      ]
     },
     "execution_count": 15,
     "metadata": {},
     "output_type": "execute_result"
    }
   ],
   "source": [
    "result_dfs['CIFAR-10_energy'].T[['FPR@95', 'AUROC', 'AUPR_In']]"
   ]
  },
  {
   "cell_type": "code",
   "execution_count": 16,
   "metadata": {},
   "outputs": [
    {
     "data": {
      "text/html": [
       "<div>\n",
       "<style scoped>\n",
       "    .dataframe tbody tr th:only-of-type {\n",
       "        vertical-align: middle;\n",
       "    }\n",
       "\n",
       "    .dataframe tbody tr th {\n",
       "        vertical-align: top;\n",
       "    }\n",
       "\n",
       "    .dataframe thead th {\n",
       "        text-align: right;\n",
       "    }\n",
       "</style>\n",
       "<table border=\"1\" class=\"dataframe\">\n",
       "  <thead>\n",
       "    <tr style=\"text-align: right;\">\n",
       "      <th></th>\n",
       "      <th>FPR@95</th>\n",
       "      <th>AUROC</th>\n",
       "      <th>AUPR_In</th>\n",
       "    </tr>\n",
       "  </thead>\n",
       "  <tbody>\n",
       "    <tr>\n",
       "      <th>SVHN</th>\n",
       "      <td>0.297000</td>\n",
       "      <td>0.946658</td>\n",
       "      <td>0.952062</td>\n",
       "    </tr>\n",
       "    <tr>\n",
       "      <th>LSUN</th>\n",
       "      <td>0.003800</td>\n",
       "      <td>0.998986</td>\n",
       "      <td>0.998997</td>\n",
       "    </tr>\n",
       "    <tr>\n",
       "      <th>LSUN_resize</th>\n",
       "      <td>0.044700</td>\n",
       "      <td>0.990291</td>\n",
       "      <td>0.991147</td>\n",
       "    </tr>\n",
       "    <tr>\n",
       "      <th>iSUN</th>\n",
       "      <td>0.051541</td>\n",
       "      <td>0.989713</td>\n",
       "      <td>0.991639</td>\n",
       "    </tr>\n",
       "    <tr>\n",
       "      <th>dtd</th>\n",
       "      <td>0.459220</td>\n",
       "      <td>0.869672</td>\n",
       "      <td>0.888168</td>\n",
       "    </tr>\n",
       "    <tr>\n",
       "      <th>places365</th>\n",
       "      <td>0.451291</td>\n",
       "      <td>0.901546</td>\n",
       "      <td>0.333267</td>\n",
       "    </tr>\n",
       "    <tr>\n",
       "      <th>Avg.</th>\n",
       "      <td>0.217925</td>\n",
       "      <td>0.949478</td>\n",
       "      <td>0.859213</td>\n",
       "    </tr>\n",
       "  </tbody>\n",
       "</table>\n",
       "</div>"
      ],
      "text/plain": [
       "               FPR@95     AUROC   AUPR_In\n",
       "SVHN         0.297000  0.946658  0.952062\n",
       "LSUN         0.003800  0.998986  0.998997\n",
       "LSUN_resize  0.044700  0.990291  0.991147\n",
       "iSUN         0.051541  0.989713  0.991639\n",
       "dtd          0.459220  0.869672  0.888168\n",
       "places365    0.451291  0.901546  0.333267\n",
       "Avg.         0.217925  0.949478  0.859213"
      ]
     },
     "execution_count": 16,
     "metadata": {},
     "output_type": "execute_result"
    }
   ],
   "source": [
    "result_dfs['CIFAR-10_dice'].T[['FPR@95', 'AUROC', 'AUPR_In']]"
   ]
  }
 ],
 "metadata": {
  "kernelspec": {
   "display_name": "jax",
   "language": "python",
   "name": "python3"
  },
  "language_info": {
   "codemirror_mode": {
    "name": "ipython",
    "version": 3
   },
   "file_extension": ".py",
   "mimetype": "text/x-python",
   "name": "python",
   "nbconvert_exporter": "python",
   "pygments_lexer": "ipython3",
   "version": "3.10.9"
  },
  "orig_nbformat": 4,
  "vscode": {
   "interpreter": {
    "hash": "3fa6689b546259a140f700df87133380835e0a96e9af08af581bf45c0ff0ee88"
   }
  }
 },
 "nbformat": 4,
 "nbformat_minor": 2
}
