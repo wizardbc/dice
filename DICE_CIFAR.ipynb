{
 "cells": [
  {
   "cell_type": "code",
   "execution_count": 1,
   "metadata": {},
   "outputs": [],
   "source": [
    "import torch\n",
    "import torch.nn.functional as F\n",
    "import torchvision\n",
    "import torchvision.transforms as transforms\n",
    "from torchvision.models.feature_extraction import get_graph_node_names, create_feature_extractor\n",
    "\n",
    "import numpy as np\n",
    "import pandas as pd\n",
    "import matplotlib.pyplot as plt\n",
    "from tqdm.auto import tqdm\n",
    "\n",
    "from models.densenet import DenseNet3\n",
    "import util.svhn_loader as svhn"
   ]
  },
  {
   "cell_type": "code",
   "execution_count": 2,
   "metadata": {},
   "outputs": [
    {
     "name": "stdout",
     "output_type": "stream",
     "text": [
      "Files already downloaded and verified\n",
      "Files already downloaded and verified\n",
      "Files already downloaded and verified\n"
     ]
    }
   ],
   "source": [
    "transform_cifar = transforms.Compose([\n",
    "  transforms.Resize(32),\n",
    "  transforms.CenterCrop(32),\n",
    "  transforms.ToTensor(),\n",
    "  transforms.Normalize((0.4914, 0.4822, 0.4465), (0.2023, 0.1994, 0.2010)),\n",
    "])\n",
    "\n",
    "datasets = {\n",
    "  'CIFAR-10': torchvision.datasets.CIFAR10(root='./datasets/id_datasets/', train=False, download=True, transform=transform_cifar),\n",
    "  'CIFAR-100': torchvision.datasets.CIFAR100(root='./datasets/id_datasets/', train=False, download=True, transform=transform_cifar), \n",
    "  'SVHN': svhn.SVHN('datasets/ood_datasets/svhn/', split='test', transform=transform_cifar, download=False),\n",
    "  'dtd': torchvision.datasets.ImageFolder(root=\"datasets/ood_datasets/dtd/images\", transform=transform_cifar),\n",
    "  'places365': torchvision.datasets.ImageFolder(root=\"datasets/ood_datasets/places365/\", transform=transform_cifar),\n",
    "  'celebA': torchvision.datasets.CelebA(root='datasets/ood_datasets/', split='test', download=True, transform=transform_cifar),\n",
    "  'iSUN': torchvision.datasets.ImageFolder(\"./datasets/ood_datasets/iSUN\", transform=transform_cifar),\n",
    "  'LSUN': torchvision.datasets.ImageFolder(\"./datasets/ood_datasets/LSUN\", transform=transform_cifar),\n",
    "  'LSUN_resize': torchvision.datasets.ImageFolder(\"./datasets/ood_datasets/LSUN_resize\", transform=transform_cifar),\n",
    "}\n",
    "\n",
    "dataloaders = {\n",
    "  k: torch.utils.data.DataLoader(v, batch_size=512, shuffle=False) for k,v in datasets.items()\n",
    "}\n",
    "\n",
    "ood_dls = ['SVHN', 'LSUN', 'LSUN_resize', 'iSUN', 'dtd', 'places365']"
   ]
  },
  {
   "cell_type": "code",
   "execution_count": 3,
   "metadata": {},
   "outputs": [],
   "source": [
    "model = DenseNet3(100, 10, 12, reduction=0.5, bottleneck=True, dropRate=0.0, normalizer=None, p=None, info=None)\n",
    "checkpoint = torch.load(\"./checkpoints/CIFAR-10/densenet/checkpoint_100.pth.tar\")\n",
    "model.load_state_dict(checkpoint['state_dict'])\n",
    "model.eval()\n",
    "model.cuda();"
   ]
  },
  {
   "cell_type": "code",
   "execution_count": 4,
   "metadata": {},
   "outputs": [],
   "source": [
    "import sys\n",
    "sys.path.append('./code/')\n",
    "\n",
    "from metrics import BinaryMetrics, Runner"
   ]
  },
  {
   "cell_type": "code",
   "execution_count": 5,
   "metadata": {},
   "outputs": [],
   "source": [
    "# msp_metrics = BinaryMetrics()\n",
    "# msp = Runner(lambda x: F.softmax(model.forward(x), -1).max(-1)[0], msp_metrics, dataloaders['CIFAR-10'])\n",
    "\n",
    "# dict_msp_metrics = {}\n",
    "# for nm_dl in ood_dls:\n",
    "#   dict_msp_metrics[nm_dl] = msp.run(dataloaders[nm_dl])\n",
    "\n",
    "# msp_df = pd.DataFrame(dict_msp_metrics)\n",
    "# msp_df['Avg.'] = msp_df.mean(axis=1)\n",
    "# msp_df.T[['FPR@95', 'AUROC', 'AUPR_In']]"
   ]
  },
  {
   "cell_type": "code",
   "execution_count": 6,
   "metadata": {},
   "outputs": [
    {
     "data": {
      "application/vnd.jupyter.widget-view+json": {
       "model_id": "80a67f4ede7e4a228fb3868faea61316",
       "version_major": 2,
       "version_minor": 0
      },
      "text/plain": [
       "In-dist:   0%|          | 0/20 [00:00<?, ?it/s]"
      ]
     },
     "metadata": {},
     "output_type": "display_data"
    },
    {
     "name": "stderr",
     "output_type": "stream",
     "text": [
      "/home/bckim/miniconda3/envs/jax/lib/python3.10/site-packages/torchmetrics/utilities/prints.py:36: UserWarning: No negative samples in targets, false positive value should be meaningless. Returning zero tensor in false positive score\n",
      "  warnings.warn(*args, **kwargs)\n"
     ]
    },
    {
     "data": {
      "application/vnd.jupyter.widget-view+json": {
       "model_id": "0f73761d71cd404092c88a4f71ad4ca4",
       "version_major": 2,
       "version_minor": 0
      },
      "text/plain": [
       "Out-of-dist:   0%|          | 0/20 [00:00<?, ?it/s]"
      ]
     },
     "metadata": {},
     "output_type": "display_data"
    },
    {
     "name": "stderr",
     "output_type": "stream",
     "text": [
      "/home/bckim/miniconda3/envs/jax/lib/python3.10/site-packages/torchmetrics/utilities/prints.py:36: UserWarning: No positive samples in targets, true positive value should be meaningless. Returning zero tensor in true positive score\n",
      "  warnings.warn(*args, **kwargs)\n"
     ]
    },
    {
     "data": {
      "application/vnd.jupyter.widget-view+json": {
       "model_id": "9ca5179b3d6343b6b727e83f4c6d3d15",
       "version_major": 2,
       "version_minor": 0
      },
      "text/plain": [
       "Out-of-dist:   0%|          | 0/20 [00:00<?, ?it/s]"
      ]
     },
     "metadata": {},
     "output_type": "display_data"
    },
    {
     "data": {
      "application/vnd.jupyter.widget-view+json": {
       "model_id": "1e8a175f1fe8463588f25e59cc8feff7",
       "version_major": 2,
       "version_minor": 0
      },
      "text/plain": [
       "Out-of-dist:   0%|          | 0/20 [00:00<?, ?it/s]"
      ]
     },
     "metadata": {},
     "output_type": "display_data"
    },
    {
     "data": {
      "application/vnd.jupyter.widget-view+json": {
       "model_id": "c07072ea371b45b08a31f33eb5c1f78f",
       "version_major": 2,
       "version_minor": 0
      },
      "text/plain": [
       "Out-of-dist:   0%|          | 0/18 [00:00<?, ?it/s]"
      ]
     },
     "metadata": {},
     "output_type": "display_data"
    },
    {
     "data": {
      "application/vnd.jupyter.widget-view+json": {
       "model_id": "df7e4580268947b0b9d312a2ab6ba775",
       "version_major": 2,
       "version_minor": 0
      },
      "text/plain": [
       "Out-of-dist:   0%|          | 0/12 [00:00<?, ?it/s]"
      ]
     },
     "metadata": {},
     "output_type": "display_data"
    },
    {
     "data": {
      "application/vnd.jupyter.widget-view+json": {
       "model_id": "7a05b3a1d8a14c3da073805b4f415990",
       "version_major": 2,
       "version_minor": 0
      },
      "text/plain": [
       "Out-of-dist:   0%|          | 0/642 [00:00<?, ?it/s]"
      ]
     },
     "metadata": {},
     "output_type": "display_data"
    },
    {
     "data": {
      "text/html": [
       "<div>\n",
       "<style scoped>\n",
       "    .dataframe tbody tr th:only-of-type {\n",
       "        vertical-align: middle;\n",
       "    }\n",
       "\n",
       "    .dataframe tbody tr th {\n",
       "        vertical-align: top;\n",
       "    }\n",
       "\n",
       "    .dataframe thead th {\n",
       "        text-align: right;\n",
       "    }\n",
       "</style>\n",
       "<table border=\"1\" class=\"dataframe\">\n",
       "  <thead>\n",
       "    <tr style=\"text-align: right;\">\n",
       "      <th></th>\n",
       "      <th>FPR@95</th>\n",
       "      <th>AUROC</th>\n",
       "      <th>AUPR_In</th>\n",
       "    </tr>\n",
       "  </thead>\n",
       "  <tbody>\n",
       "    <tr>\n",
       "      <th>SVHN</th>\n",
       "      <td>0.406300</td>\n",
       "      <td>0.939926</td>\n",
       "      <td>0.953340</td>\n",
       "    </tr>\n",
       "    <tr>\n",
       "      <th>LSUN</th>\n",
       "      <td>0.038100</td>\n",
       "      <td>0.991504</td>\n",
       "      <td>0.992562</td>\n",
       "    </tr>\n",
       "    <tr>\n",
       "      <th>LSUN_resize</th>\n",
       "      <td>0.092800</td>\n",
       "      <td>0.981238</td>\n",
       "      <td>0.984918</td>\n",
       "    </tr>\n",
       "    <tr>\n",
       "      <th>iSUN</th>\n",
       "      <td>0.100616</td>\n",
       "      <td>0.980683</td>\n",
       "      <td>0.986024</td>\n",
       "    </tr>\n",
       "    <tr>\n",
       "      <th>dtd</th>\n",
       "      <td>0.563121</td>\n",
       "      <td>0.864202</td>\n",
       "      <td>0.898692</td>\n",
       "    </tr>\n",
       "    <tr>\n",
       "      <th>places365</th>\n",
       "      <td>0.397665</td>\n",
       "      <td>0.918054</td>\n",
       "      <td>0.385097</td>\n",
       "    </tr>\n",
       "    <tr>\n",
       "      <th>Avg.</th>\n",
       "      <td>0.266434</td>\n",
       "      <td>0.945935</td>\n",
       "      <td>0.866772</td>\n",
       "    </tr>\n",
       "  </tbody>\n",
       "</table>\n",
       "</div>"
      ],
      "text/plain": [
       "               FPR@95     AUROC   AUPR_In\n",
       "SVHN         0.406300  0.939926  0.953340\n",
       "LSUN         0.038100  0.991504  0.992562\n",
       "LSUN_resize  0.092800  0.981238  0.984918\n",
       "iSUN         0.100616  0.980683  0.986024\n",
       "dtd          0.563121  0.864202  0.898692\n",
       "places365    0.397665  0.918054  0.385097\n",
       "Avg.         0.266434  0.945935  0.866772"
      ]
     },
     "execution_count": 6,
     "metadata": {},
     "output_type": "execute_result"
    }
   ],
   "source": [
    "energy_metrics = BinaryMetrics()\n",
    "energy = Runner(lambda x: torch.logsumexp(model.forward(x), -1)/1000.0, energy_metrics, dataloaders['CIFAR-10'])\n",
    "\n",
    "dict_energy_metrics = {}\n",
    "for nm_dl in ood_dls:\n",
    "  dict_energy_metrics[nm_dl] = energy.run(dataloaders[nm_dl])\n",
    "\n",
    "energy_df = pd.DataFrame(dict_energy_metrics)\n",
    "energy_df['Avg.'] = energy_df.mean(axis=1)\n",
    "energy_df.T[['FPR@95', 'AUROC', 'AUPR_In']]"
   ]
  },
  {
   "cell_type": "code",
   "execution_count": 7,
   "metadata": {},
   "outputs": [],
   "source": [
    "info = np.load(f\"./cache/CIFAR-10_densenet_feat_stat.npy\")\n",
    "# sorted_idx = np.argsort(info)\n",
    "# plt.scatter(range(info.shape[0]), info[sorted_idx], s=1)\n",
    "# plt.show()\n",
    "# print(info.shape, flush=True)\n",
    "\n",
    "dice_model = DenseNet3(100, 10, 12, reduction=0.5, bottleneck=True, dropRate=0.0, normalizer=None, p=90, info=info)\n",
    "dice_model.load_state_dict(checkpoint['state_dict'])\n",
    "dice_model.eval()\n",
    "dice_model.cuda();"
   ]
  },
  {
   "cell_type": "code",
   "execution_count": 8,
   "metadata": {},
   "outputs": [
    {
     "data": {
      "application/vnd.jupyter.widget-view+json": {
       "model_id": "9500fd1d25b04affaaa0d615a8dd50ea",
       "version_major": 2,
       "version_minor": 0
      },
      "text/plain": [
       "In-dist:   0%|          | 0/20 [00:00<?, ?it/s]"
      ]
     },
     "metadata": {},
     "output_type": "display_data"
    },
    {
     "name": "stderr",
     "output_type": "stream",
     "text": [
      "/home/bckim/miniconda3/envs/jax/lib/python3.10/site-packages/torchmetrics/utilities/prints.py:36: UserWarning: No negative samples in targets, false positive value should be meaningless. Returning zero tensor in false positive score\n",
      "  warnings.warn(*args, **kwargs)\n"
     ]
    },
    {
     "data": {
      "application/vnd.jupyter.widget-view+json": {
       "model_id": "dd5ae21d0ba945fda2ef3bcd0b6c7485",
       "version_major": 2,
       "version_minor": 0
      },
      "text/plain": [
       "Out-of-dist:   0%|          | 0/20 [00:00<?, ?it/s]"
      ]
     },
     "metadata": {},
     "output_type": "display_data"
    },
    {
     "name": "stderr",
     "output_type": "stream",
     "text": [
      "/home/bckim/miniconda3/envs/jax/lib/python3.10/site-packages/torchmetrics/utilities/prints.py:36: UserWarning: No positive samples in targets, true positive value should be meaningless. Returning zero tensor in true positive score\n",
      "  warnings.warn(*args, **kwargs)\n"
     ]
    },
    {
     "data": {
      "application/vnd.jupyter.widget-view+json": {
       "model_id": "8956e1cfd82f4a8e90b6e233df7d778a",
       "version_major": 2,
       "version_minor": 0
      },
      "text/plain": [
       "Out-of-dist:   0%|          | 0/20 [00:00<?, ?it/s]"
      ]
     },
     "metadata": {},
     "output_type": "display_data"
    },
    {
     "data": {
      "application/vnd.jupyter.widget-view+json": {
       "model_id": "d6e9e9fae4cb4529b777f66cde598aee",
       "version_major": 2,
       "version_minor": 0
      },
      "text/plain": [
       "Out-of-dist:   0%|          | 0/20 [00:00<?, ?it/s]"
      ]
     },
     "metadata": {},
     "output_type": "display_data"
    },
    {
     "data": {
      "application/vnd.jupyter.widget-view+json": {
       "model_id": "328325b5dd5b416b913b6c73259b4dea",
       "version_major": 2,
       "version_minor": 0
      },
      "text/plain": [
       "Out-of-dist:   0%|          | 0/18 [00:00<?, ?it/s]"
      ]
     },
     "metadata": {},
     "output_type": "display_data"
    },
    {
     "data": {
      "application/vnd.jupyter.widget-view+json": {
       "model_id": "f47523fe4cc048599d58f15fcbb7974c",
       "version_major": 2,
       "version_minor": 0
      },
      "text/plain": [
       "Out-of-dist:   0%|          | 0/12 [00:00<?, ?it/s]"
      ]
     },
     "metadata": {},
     "output_type": "display_data"
    },
    {
     "data": {
      "application/vnd.jupyter.widget-view+json": {
       "model_id": "0ea369df32684c9785502cc2b4e2c35c",
       "version_major": 2,
       "version_minor": 0
      },
      "text/plain": [
       "Out-of-dist:   0%|          | 0/642 [00:00<?, ?it/s]"
      ]
     },
     "metadata": {},
     "output_type": "display_data"
    },
    {
     "data": {
      "text/html": [
       "<div>\n",
       "<style scoped>\n",
       "    .dataframe tbody tr th:only-of-type {\n",
       "        vertical-align: middle;\n",
       "    }\n",
       "\n",
       "    .dataframe tbody tr th {\n",
       "        vertical-align: top;\n",
       "    }\n",
       "\n",
       "    .dataframe thead th {\n",
       "        text-align: right;\n",
       "    }\n",
       "</style>\n",
       "<table border=\"1\" class=\"dataframe\">\n",
       "  <thead>\n",
       "    <tr style=\"text-align: right;\">\n",
       "      <th></th>\n",
       "      <th>FPR@95</th>\n",
       "      <th>AUROC</th>\n",
       "      <th>AUPR_In</th>\n",
       "    </tr>\n",
       "  </thead>\n",
       "  <tbody>\n",
       "    <tr>\n",
       "      <th>SVHN</th>\n",
       "      <td>0.297000</td>\n",
       "      <td>0.946658</td>\n",
       "      <td>0.952062</td>\n",
       "    </tr>\n",
       "    <tr>\n",
       "      <th>LSUN</th>\n",
       "      <td>0.003800</td>\n",
       "      <td>0.998986</td>\n",
       "      <td>0.998997</td>\n",
       "    </tr>\n",
       "    <tr>\n",
       "      <th>LSUN_resize</th>\n",
       "      <td>0.044700</td>\n",
       "      <td>0.990291</td>\n",
       "      <td>0.991147</td>\n",
       "    </tr>\n",
       "    <tr>\n",
       "      <th>iSUN</th>\n",
       "      <td>0.051541</td>\n",
       "      <td>0.989713</td>\n",
       "      <td>0.991639</td>\n",
       "    </tr>\n",
       "    <tr>\n",
       "      <th>dtd</th>\n",
       "      <td>0.459220</td>\n",
       "      <td>0.869672</td>\n",
       "      <td>0.888168</td>\n",
       "    </tr>\n",
       "    <tr>\n",
       "      <th>places365</th>\n",
       "      <td>0.451291</td>\n",
       "      <td>0.901546</td>\n",
       "      <td>0.333267</td>\n",
       "    </tr>\n",
       "    <tr>\n",
       "      <th>Avg.</th>\n",
       "      <td>0.217925</td>\n",
       "      <td>0.949478</td>\n",
       "      <td>0.859213</td>\n",
       "    </tr>\n",
       "  </tbody>\n",
       "</table>\n",
       "</div>"
      ],
      "text/plain": [
       "               FPR@95     AUROC   AUPR_In\n",
       "SVHN         0.297000  0.946658  0.952062\n",
       "LSUN         0.003800  0.998986  0.998997\n",
       "LSUN_resize  0.044700  0.990291  0.991147\n",
       "iSUN         0.051541  0.989713  0.991639\n",
       "dtd          0.459220  0.869672  0.888168\n",
       "places365    0.451291  0.901546  0.333267\n",
       "Avg.         0.217925  0.949478  0.859213"
      ]
     },
     "execution_count": 8,
     "metadata": {},
     "output_type": "execute_result"
    }
   ],
   "source": [
    "dice_metrics = BinaryMetrics()\n",
    "dice = Runner(lambda x: torch.logsumexp(dice_model.forward(x), -1)/1000.0, dice_metrics, dataloaders['CIFAR-10'])\n",
    "\n",
    "dict_dice_metrics = {}\n",
    "for nm_dl in ood_dls:\n",
    "  dict_dice_metrics[nm_dl] = dice.run(dataloaders[nm_dl])\n",
    "\n",
    "dice_df = pd.DataFrame(dict_dice_metrics)\n",
    "dice_df['Avg.'] = dice_df.mean(axis=1)\n",
    "dice_df.T[['FPR@95', 'AUROC', 'AUPR_In']]"
   ]
  }
 ],
 "metadata": {
  "kernelspec": {
   "display_name": "jax",
   "language": "python",
   "name": "python3"
  },
  "language_info": {
   "codemirror_mode": {
    "name": "ipython",
    "version": 3
   },
   "file_extension": ".py",
   "mimetype": "text/x-python",
   "name": "python",
   "nbconvert_exporter": "python",
   "pygments_lexer": "ipython3",
   "version": "3.10.9"
  },
  "orig_nbformat": 4,
  "vscode": {
   "interpreter": {
    "hash": "3fa6689b546259a140f700df87133380835e0a96e9af08af581bf45c0ff0ee88"
   }
  }
 },
 "nbformat": 4,
 "nbformat_minor": 2
}
