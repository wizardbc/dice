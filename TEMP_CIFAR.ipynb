{
 "cells": [
  {
   "attachments": {},
   "cell_type": "markdown",
   "metadata": {},
   "source": [
    "# TEMP"
   ]
  },
  {
   "cell_type": "code",
   "execution_count": 1,
   "metadata": {},
   "outputs": [],
   "source": [
    "import torch\n",
    "import torchvision\n",
    "import torchvision.transforms as transforms\n",
    "\n",
    "import numpy as np\n",
    "import pandas as pd\n",
    "\n",
    "from models.densenet import DenseNet3\n",
    "import util.svhn_loader as svhn"
   ]
  },
  {
   "cell_type": "code",
   "execution_count": 16,
   "metadata": {},
   "outputs": [
    {
     "name": "stdout",
     "output_type": "stream",
     "text": [
      "Files already downloaded and verified\n",
      "Files already downloaded and verified\n",
      "Files already downloaded and verified\n"
     ]
    }
   ],
   "source": [
    "transform_cifar = transforms.Compose([\n",
    "  transforms.Resize(32),\n",
    "  transforms.CenterCrop(32),\n",
    "  transforms.ToTensor(),\n",
    "  transforms.Normalize((0.4914, 0.4822, 0.4465), (0.2023, 0.1994, 0.2010)),\n",
    "])\n",
    "\n",
    "datasets = {\n",
    "  'CIFAR-10': torchvision.datasets.CIFAR10(root='./datasets/id_datasets/', train=False, download=True, transform=transform_cifar),\n",
    "  'CIFAR-100': torchvision.datasets.CIFAR100(root='./datasets/id_datasets/', train=False, download=True, transform=transform_cifar), \n",
    "  'SVHN': svhn.SVHN('datasets/ood_datasets/svhn/', split='test', transform=transform_cifar, download=False),\n",
    "  'dtd': torchvision.datasets.ImageFolder(root=\"datasets/ood_datasets/dtd/images\", transform=transform_cifar),\n",
    "  'places365': torchvision.datasets.ImageFolder(root=\"datasets/ood_datasets/places365/\", transform=transform_cifar),\n",
    "  'celebA': torchvision.datasets.CelebA(root='datasets/ood_datasets/', split='test', download=True, transform=transform_cifar),\n",
    "  'iSUN': torchvision.datasets.ImageFolder(\"./datasets/ood_datasets/iSUN\", transform=transform_cifar),\n",
    "  'LSUN': torchvision.datasets.ImageFolder(\"./datasets/ood_datasets/LSUN\", transform=transform_cifar),\n",
    "  'LSUN_resize': torchvision.datasets.ImageFolder(\"./datasets/ood_datasets/LSUN_resize\", transform=transform_cifar),\n",
    "}\n",
    "\n",
    "dataloaders = {\n",
    "  k: torch.utils.data.DataLoader(v, batch_size=512, shuffle=False) for k,v in datasets.items()\n",
    "}\n",
    "\n",
    "ood_dls = ['SVHN', 'LSUN', 'LSUN_resize', 'iSUN', 'dtd', 'places365']"
   ]
  },
  {
   "cell_type": "code",
   "execution_count": 3,
   "metadata": {},
   "outputs": [],
   "source": [
    "import sys\n",
    "sys.path.append('./code/')\n",
    "\n",
    "from metrics import BinaryMetrics, Runner\n",
    "from stats import Stats\n",
    "from dice import DICE\n",
    "\n",
    "device = 'cuda:1'\n",
    "result_dfs = {}"
   ]
  },
  {
   "attachments": {},
   "cell_type": "markdown",
   "metadata": {},
   "source": [
    "## CIFAR-100"
   ]
  },
  {
   "cell_type": "code",
   "execution_count": 4,
   "metadata": {},
   "outputs": [],
   "source": [
    "densenet = DenseNet3(100, 100, 12, reduction=0.5, bottleneck=True, dropRate=0.0, normalizer=None, p=None, info=None)\n",
    "checkpoint = torch.load(\"./checkpoints/CIFAR-100/densenet/checkpoint_100.pth.tar\", map_location=device)\n",
    "densenet.load_state_dict(checkpoint['state_dict'])\n",
    "densenet.eval();"
   ]
  },
  {
   "cell_type": "code",
   "execution_count": 5,
   "metadata": {},
   "outputs": [
    {
     "name": "stdout",
     "output_type": "stream",
     "text": [
      "opcode         name                    target                                                  args                                       kwargs\n",
      "-------------  ----------------------  ------------------------------------------------------  -----------------------------------------  --------\n",
      "placeholder    x                       x                                                       ()                                         {}\n",
      "call_module    conv1                   conv1                                                   (x,)                                       {}\n",
      "call_module    block1_layer_0_bn1      block1.layer.0.bn1                                      (conv1,)                                   {}\n",
      "call_module    block1_layer_0_relu     block1.layer.0.relu                                     (block1_layer_0_bn1,)                      {}\n",
      "call_module    block1_layer_0_conv1    block1.layer.0.conv1                                    (block1_layer_0_relu,)                     {}\n",
      "call_module    block1_layer_0_bn2      block1.layer.0.bn2                                      (block1_layer_0_conv1,)                    {}\n",
      "call_module    block1_layer_0_relu_1   block1.layer.0.relu                                     (block1_layer_0_bn2,)                      {}\n",
      "call_module    block1_layer_0_conv2    block1.layer.0.conv2                                    (block1_layer_0_relu_1,)                   {}\n",
      "call_function  cat                     <built-in method cat of type object at 0x7fe46c023140>  ([conv1, block1_layer_0_conv2], 1)         {}\n",
      "call_module    block1_layer_1_bn1      block1.layer.1.bn1                                      (cat,)                                     {}\n",
      "call_module    block1_layer_1_relu     block1.layer.1.relu                                     (block1_layer_1_bn1,)                      {}\n",
      "call_module    block1_layer_1_conv1    block1.layer.1.conv1                                    (block1_layer_1_relu,)                     {}\n",
      "call_module    block1_layer_1_bn2      block1.layer.1.bn2                                      (block1_layer_1_conv1,)                    {}\n",
      "call_module    block1_layer_1_relu_1   block1.layer.1.relu                                     (block1_layer_1_bn2,)                      {}\n",
      "call_module    block1_layer_1_conv2    block1.layer.1.conv2                                    (block1_layer_1_relu_1,)                   {}\n",
      "call_function  cat_1                   <built-in method cat of type object at 0x7fe46c023140>  ([cat, block1_layer_1_conv2], 1)           {}\n",
      "call_module    block1_layer_2_bn1      block1.layer.2.bn1                                      (cat_1,)                                   {}\n",
      "call_module    block1_layer_2_relu     block1.layer.2.relu                                     (block1_layer_2_bn1,)                      {}\n",
      "call_module    block1_layer_2_conv1    block1.layer.2.conv1                                    (block1_layer_2_relu,)                     {}\n",
      "call_module    block1_layer_2_bn2      block1.layer.2.bn2                                      (block1_layer_2_conv1,)                    {}\n",
      "call_module    block1_layer_2_relu_1   block1.layer.2.relu                                     (block1_layer_2_bn2,)                      {}\n",
      "call_module    block1_layer_2_conv2    block1.layer.2.conv2                                    (block1_layer_2_relu_1,)                   {}\n",
      "call_function  cat_2                   <built-in method cat of type object at 0x7fe46c023140>  ([cat_1, block1_layer_2_conv2], 1)         {}\n",
      "call_module    block1_layer_3_bn1      block1.layer.3.bn1                                      (cat_2,)                                   {}\n",
      "call_module    block1_layer_3_relu     block1.layer.3.relu                                     (block1_layer_3_bn1,)                      {}\n",
      "call_module    block1_layer_3_conv1    block1.layer.3.conv1                                    (block1_layer_3_relu,)                     {}\n",
      "call_module    block1_layer_3_bn2      block1.layer.3.bn2                                      (block1_layer_3_conv1,)                    {}\n",
      "call_module    block1_layer_3_relu_1   block1.layer.3.relu                                     (block1_layer_3_bn2,)                      {}\n",
      "call_module    block1_layer_3_conv2    block1.layer.3.conv2                                    (block1_layer_3_relu_1,)                   {}\n",
      "call_function  cat_3                   <built-in method cat of type object at 0x7fe46c023140>  ([cat_2, block1_layer_3_conv2], 1)         {}\n",
      "call_module    block1_layer_4_bn1      block1.layer.4.bn1                                      (cat_3,)                                   {}\n",
      "call_module    block1_layer_4_relu     block1.layer.4.relu                                     (block1_layer_4_bn1,)                      {}\n",
      "call_module    block1_layer_4_conv1    block1.layer.4.conv1                                    (block1_layer_4_relu,)                     {}\n",
      "call_module    block1_layer_4_bn2      block1.layer.4.bn2                                      (block1_layer_4_conv1,)                    {}\n",
      "call_module    block1_layer_4_relu_1   block1.layer.4.relu                                     (block1_layer_4_bn2,)                      {}\n",
      "call_module    block1_layer_4_conv2    block1.layer.4.conv2                                    (block1_layer_4_relu_1,)                   {}\n",
      "call_function  cat_4                   <built-in method cat of type object at 0x7fe46c023140>  ([cat_3, block1_layer_4_conv2], 1)         {}\n",
      "call_module    block1_layer_5_bn1      block1.layer.5.bn1                                      (cat_4,)                                   {}\n",
      "call_module    block1_layer_5_relu     block1.layer.5.relu                                     (block1_layer_5_bn1,)                      {}\n",
      "call_module    block1_layer_5_conv1    block1.layer.5.conv1                                    (block1_layer_5_relu,)                     {}\n",
      "call_module    block1_layer_5_bn2      block1.layer.5.bn2                                      (block1_layer_5_conv1,)                    {}\n",
      "call_module    block1_layer_5_relu_1   block1.layer.5.relu                                     (block1_layer_5_bn2,)                      {}\n",
      "call_module    block1_layer_5_conv2    block1.layer.5.conv2                                    (block1_layer_5_relu_1,)                   {}\n",
      "call_function  cat_5                   <built-in method cat of type object at 0x7fe46c023140>  ([cat_4, block1_layer_5_conv2], 1)         {}\n",
      "call_module    block1_layer_6_bn1      block1.layer.6.bn1                                      (cat_5,)                                   {}\n",
      "call_module    block1_layer_6_relu     block1.layer.6.relu                                     (block1_layer_6_bn1,)                      {}\n",
      "call_module    block1_layer_6_conv1    block1.layer.6.conv1                                    (block1_layer_6_relu,)                     {}\n",
      "call_module    block1_layer_6_bn2      block1.layer.6.bn2                                      (block1_layer_6_conv1,)                    {}\n",
      "call_module    block1_layer_6_relu_1   block1.layer.6.relu                                     (block1_layer_6_bn2,)                      {}\n",
      "call_module    block1_layer_6_conv2    block1.layer.6.conv2                                    (block1_layer_6_relu_1,)                   {}\n",
      "call_function  cat_6                   <built-in method cat of type object at 0x7fe46c023140>  ([cat_5, block1_layer_6_conv2], 1)         {}\n",
      "call_module    block1_layer_7_bn1      block1.layer.7.bn1                                      (cat_6,)                                   {}\n",
      "call_module    block1_layer_7_relu     block1.layer.7.relu                                     (block1_layer_7_bn1,)                      {}\n",
      "call_module    block1_layer_7_conv1    block1.layer.7.conv1                                    (block1_layer_7_relu,)                     {}\n",
      "call_module    block1_layer_7_bn2      block1.layer.7.bn2                                      (block1_layer_7_conv1,)                    {}\n",
      "call_module    block1_layer_7_relu_1   block1.layer.7.relu                                     (block1_layer_7_bn2,)                      {}\n",
      "call_module    block1_layer_7_conv2    block1.layer.7.conv2                                    (block1_layer_7_relu_1,)                   {}\n",
      "call_function  cat_7                   <built-in method cat of type object at 0x7fe46c023140>  ([cat_6, block1_layer_7_conv2], 1)         {}\n",
      "call_module    block1_layer_8_bn1      block1.layer.8.bn1                                      (cat_7,)                                   {}\n",
      "call_module    block1_layer_8_relu     block1.layer.8.relu                                     (block1_layer_8_bn1,)                      {}\n",
      "call_module    block1_layer_8_conv1    block1.layer.8.conv1                                    (block1_layer_8_relu,)                     {}\n",
      "call_module    block1_layer_8_bn2      block1.layer.8.bn2                                      (block1_layer_8_conv1,)                    {}\n",
      "call_module    block1_layer_8_relu_1   block1.layer.8.relu                                     (block1_layer_8_bn2,)                      {}\n",
      "call_module    block1_layer_8_conv2    block1.layer.8.conv2                                    (block1_layer_8_relu_1,)                   {}\n",
      "call_function  cat_8                   <built-in method cat of type object at 0x7fe46c023140>  ([cat_7, block1_layer_8_conv2], 1)         {}\n",
      "call_module    block1_layer_9_bn1      block1.layer.9.bn1                                      (cat_8,)                                   {}\n",
      "call_module    block1_layer_9_relu     block1.layer.9.relu                                     (block1_layer_9_bn1,)                      {}\n",
      "call_module    block1_layer_9_conv1    block1.layer.9.conv1                                    (block1_layer_9_relu,)                     {}\n",
      "call_module    block1_layer_9_bn2      block1.layer.9.bn2                                      (block1_layer_9_conv1,)                    {}\n",
      "call_module    block1_layer_9_relu_1   block1.layer.9.relu                                     (block1_layer_9_bn2,)                      {}\n",
      "call_module    block1_layer_9_conv2    block1.layer.9.conv2                                    (block1_layer_9_relu_1,)                   {}\n",
      "call_function  cat_9                   <built-in method cat of type object at 0x7fe46c023140>  ([cat_8, block1_layer_9_conv2], 1)         {}\n",
      "call_module    block1_layer_10_bn1     block1.layer.10.bn1                                     (cat_9,)                                   {}\n",
      "call_module    block1_layer_10_relu    block1.layer.10.relu                                    (block1_layer_10_bn1,)                     {}\n",
      "call_module    block1_layer_10_conv1   block1.layer.10.conv1                                   (block1_layer_10_relu,)                    {}\n",
      "call_module    block1_layer_10_bn2     block1.layer.10.bn2                                     (block1_layer_10_conv1,)                   {}\n",
      "call_module    block1_layer_10_relu_1  block1.layer.10.relu                                    (block1_layer_10_bn2,)                     {}\n",
      "call_module    block1_layer_10_conv2   block1.layer.10.conv2                                   (block1_layer_10_relu_1,)                  {}\n",
      "call_function  cat_10                  <built-in method cat of type object at 0x7fe46c023140>  ([cat_9, block1_layer_10_conv2], 1)        {}\n",
      "call_module    block1_layer_11_bn1     block1.layer.11.bn1                                     (cat_10,)                                  {}\n",
      "call_module    block1_layer_11_relu    block1.layer.11.relu                                    (block1_layer_11_bn1,)                     {}\n",
      "call_module    block1_layer_11_conv1   block1.layer.11.conv1                                   (block1_layer_11_relu,)                    {}\n",
      "call_module    block1_layer_11_bn2     block1.layer.11.bn2                                     (block1_layer_11_conv1,)                   {}\n",
      "call_module    block1_layer_11_relu_1  block1.layer.11.relu                                    (block1_layer_11_bn2,)                     {}\n",
      "call_module    block1_layer_11_conv2   block1.layer.11.conv2                                   (block1_layer_11_relu_1,)                  {}\n",
      "call_function  cat_11                  <built-in method cat of type object at 0x7fe46c023140>  ([cat_10, block1_layer_11_conv2], 1)       {}\n",
      "call_module    block1_layer_12_bn1     block1.layer.12.bn1                                     (cat_11,)                                  {}\n",
      "call_module    block1_layer_12_relu    block1.layer.12.relu                                    (block1_layer_12_bn1,)                     {}\n",
      "call_module    block1_layer_12_conv1   block1.layer.12.conv1                                   (block1_layer_12_relu,)                    {}\n",
      "call_module    block1_layer_12_bn2     block1.layer.12.bn2                                     (block1_layer_12_conv1,)                   {}\n",
      "call_module    block1_layer_12_relu_1  block1.layer.12.relu                                    (block1_layer_12_bn2,)                     {}\n",
      "call_module    block1_layer_12_conv2   block1.layer.12.conv2                                   (block1_layer_12_relu_1,)                  {}\n",
      "call_function  cat_12                  <built-in method cat of type object at 0x7fe46c023140>  ([cat_11, block1_layer_12_conv2], 1)       {}\n",
      "call_module    block1_layer_13_bn1     block1.layer.13.bn1                                     (cat_12,)                                  {}\n",
      "call_module    block1_layer_13_relu    block1.layer.13.relu                                    (block1_layer_13_bn1,)                     {}\n",
      "call_module    block1_layer_13_conv1   block1.layer.13.conv1                                   (block1_layer_13_relu,)                    {}\n",
      "call_module    block1_layer_13_bn2     block1.layer.13.bn2                                     (block1_layer_13_conv1,)                   {}\n",
      "call_module    block1_layer_13_relu_1  block1.layer.13.relu                                    (block1_layer_13_bn2,)                     {}\n",
      "call_module    block1_layer_13_conv2   block1.layer.13.conv2                                   (block1_layer_13_relu_1,)                  {}\n",
      "call_function  cat_13                  <built-in method cat of type object at 0x7fe46c023140>  ([cat_12, block1_layer_13_conv2], 1)       {}\n",
      "call_module    block1_layer_14_bn1     block1.layer.14.bn1                                     (cat_13,)                                  {}\n",
      "call_module    block1_layer_14_relu    block1.layer.14.relu                                    (block1_layer_14_bn1,)                     {}\n",
      "call_module    block1_layer_14_conv1   block1.layer.14.conv1                                   (block1_layer_14_relu,)                    {}\n",
      "call_module    block1_layer_14_bn2     block1.layer.14.bn2                                     (block1_layer_14_conv1,)                   {}\n",
      "call_module    block1_layer_14_relu_1  block1.layer.14.relu                                    (block1_layer_14_bn2,)                     {}\n",
      "call_module    block1_layer_14_conv2   block1.layer.14.conv2                                   (block1_layer_14_relu_1,)                  {}\n",
      "call_function  cat_14                  <built-in method cat of type object at 0x7fe46c023140>  ([cat_13, block1_layer_14_conv2], 1)       {}\n",
      "call_module    block1_layer_15_bn1     block1.layer.15.bn1                                     (cat_14,)                                  {}\n",
      "call_module    block1_layer_15_relu    block1.layer.15.relu                                    (block1_layer_15_bn1,)                     {}\n",
      "call_module    block1_layer_15_conv1   block1.layer.15.conv1                                   (block1_layer_15_relu,)                    {}\n",
      "call_module    block1_layer_15_bn2     block1.layer.15.bn2                                     (block1_layer_15_conv1,)                   {}\n",
      "call_module    block1_layer_15_relu_1  block1.layer.15.relu                                    (block1_layer_15_bn2,)                     {}\n",
      "call_module    block1_layer_15_conv2   block1.layer.15.conv2                                   (block1_layer_15_relu_1,)                  {}\n",
      "call_function  cat_15                  <built-in method cat of type object at 0x7fe46c023140>  ([cat_14, block1_layer_15_conv2], 1)       {}\n",
      "call_module    trans1_bn1              trans1.bn1                                              (cat_15,)                                  {}\n",
      "call_module    trans1_relu             trans1.relu                                             (trans1_bn1,)                              {}\n",
      "call_module    trans1_conv1            trans1.conv1                                            (trans1_relu,)                             {}\n",
      "call_function  avg_pool2d              <built-in function avg_pool2d>                          (trans1_conv1, 2)                          {}\n",
      "call_module    block2_layer_0_bn1      block2.layer.0.bn1                                      (avg_pool2d,)                              {}\n",
      "call_module    block2_layer_0_relu     block2.layer.0.relu                                     (block2_layer_0_bn1,)                      {}\n",
      "call_module    block2_layer_0_conv1    block2.layer.0.conv1                                    (block2_layer_0_relu,)                     {}\n",
      "call_module    block2_layer_0_bn2      block2.layer.0.bn2                                      (block2_layer_0_conv1,)                    {}\n",
      "call_module    block2_layer_0_relu_1   block2.layer.0.relu                                     (block2_layer_0_bn2,)                      {}\n",
      "call_module    block2_layer_0_conv2    block2.layer.0.conv2                                    (block2_layer_0_relu_1,)                   {}\n",
      "call_function  cat_16                  <built-in method cat of type object at 0x7fe46c023140>  ([avg_pool2d, block2_layer_0_conv2], 1)    {}\n",
      "call_module    block2_layer_1_bn1      block2.layer.1.bn1                                      (cat_16,)                                  {}\n",
      "call_module    block2_layer_1_relu     block2.layer.1.relu                                     (block2_layer_1_bn1,)                      {}\n",
      "call_module    block2_layer_1_conv1    block2.layer.1.conv1                                    (block2_layer_1_relu,)                     {}\n",
      "call_module    block2_layer_1_bn2      block2.layer.1.bn2                                      (block2_layer_1_conv1,)                    {}\n",
      "call_module    block2_layer_1_relu_1   block2.layer.1.relu                                     (block2_layer_1_bn2,)                      {}\n",
      "call_module    block2_layer_1_conv2    block2.layer.1.conv2                                    (block2_layer_1_relu_1,)                   {}\n",
      "call_function  cat_17                  <built-in method cat of type object at 0x7fe46c023140>  ([cat_16, block2_layer_1_conv2], 1)        {}\n",
      "call_module    block2_layer_2_bn1      block2.layer.2.bn1                                      (cat_17,)                                  {}\n",
      "call_module    block2_layer_2_relu     block2.layer.2.relu                                     (block2_layer_2_bn1,)                      {}\n",
      "call_module    block2_layer_2_conv1    block2.layer.2.conv1                                    (block2_layer_2_relu,)                     {}\n",
      "call_module    block2_layer_2_bn2      block2.layer.2.bn2                                      (block2_layer_2_conv1,)                    {}\n",
      "call_module    block2_layer_2_relu_1   block2.layer.2.relu                                     (block2_layer_2_bn2,)                      {}\n",
      "call_module    block2_layer_2_conv2    block2.layer.2.conv2                                    (block2_layer_2_relu_1,)                   {}\n",
      "call_function  cat_18                  <built-in method cat of type object at 0x7fe46c023140>  ([cat_17, block2_layer_2_conv2], 1)        {}\n",
      "call_module    block2_layer_3_bn1      block2.layer.3.bn1                                      (cat_18,)                                  {}\n",
      "call_module    block2_layer_3_relu     block2.layer.3.relu                                     (block2_layer_3_bn1,)                      {}\n",
      "call_module    block2_layer_3_conv1    block2.layer.3.conv1                                    (block2_layer_3_relu,)                     {}\n",
      "call_module    block2_layer_3_bn2      block2.layer.3.bn2                                      (block2_layer_3_conv1,)                    {}\n",
      "call_module    block2_layer_3_relu_1   block2.layer.3.relu                                     (block2_layer_3_bn2,)                      {}\n",
      "call_module    block2_layer_3_conv2    block2.layer.3.conv2                                    (block2_layer_3_relu_1,)                   {}\n",
      "call_function  cat_19                  <built-in method cat of type object at 0x7fe46c023140>  ([cat_18, block2_layer_3_conv2], 1)        {}\n",
      "call_module    block2_layer_4_bn1      block2.layer.4.bn1                                      (cat_19,)                                  {}\n",
      "call_module    block2_layer_4_relu     block2.layer.4.relu                                     (block2_layer_4_bn1,)                      {}\n",
      "call_module    block2_layer_4_conv1    block2.layer.4.conv1                                    (block2_layer_4_relu,)                     {}\n",
      "call_module    block2_layer_4_bn2      block2.layer.4.bn2                                      (block2_layer_4_conv1,)                    {}\n",
      "call_module    block2_layer_4_relu_1   block2.layer.4.relu                                     (block2_layer_4_bn2,)                      {}\n",
      "call_module    block2_layer_4_conv2    block2.layer.4.conv2                                    (block2_layer_4_relu_1,)                   {}\n",
      "call_function  cat_20                  <built-in method cat of type object at 0x7fe46c023140>  ([cat_19, block2_layer_4_conv2], 1)        {}\n",
      "call_module    block2_layer_5_bn1      block2.layer.5.bn1                                      (cat_20,)                                  {}\n",
      "call_module    block2_layer_5_relu     block2.layer.5.relu                                     (block2_layer_5_bn1,)                      {}\n",
      "call_module    block2_layer_5_conv1    block2.layer.5.conv1                                    (block2_layer_5_relu,)                     {}\n",
      "call_module    block2_layer_5_bn2      block2.layer.5.bn2                                      (block2_layer_5_conv1,)                    {}\n",
      "call_module    block2_layer_5_relu_1   block2.layer.5.relu                                     (block2_layer_5_bn2,)                      {}\n",
      "call_module    block2_layer_5_conv2    block2.layer.5.conv2                                    (block2_layer_5_relu_1,)                   {}\n",
      "call_function  cat_21                  <built-in method cat of type object at 0x7fe46c023140>  ([cat_20, block2_layer_5_conv2], 1)        {}\n",
      "call_module    block2_layer_6_bn1      block2.layer.6.bn1                                      (cat_21,)                                  {}\n",
      "call_module    block2_layer_6_relu     block2.layer.6.relu                                     (block2_layer_6_bn1,)                      {}\n",
      "call_module    block2_layer_6_conv1    block2.layer.6.conv1                                    (block2_layer_6_relu,)                     {}\n",
      "call_module    block2_layer_6_bn2      block2.layer.6.bn2                                      (block2_layer_6_conv1,)                    {}\n",
      "call_module    block2_layer_6_relu_1   block2.layer.6.relu                                     (block2_layer_6_bn2,)                      {}\n",
      "call_module    block2_layer_6_conv2    block2.layer.6.conv2                                    (block2_layer_6_relu_1,)                   {}\n",
      "call_function  cat_22                  <built-in method cat of type object at 0x7fe46c023140>  ([cat_21, block2_layer_6_conv2], 1)        {}\n",
      "call_module    block2_layer_7_bn1      block2.layer.7.bn1                                      (cat_22,)                                  {}\n",
      "call_module    block2_layer_7_relu     block2.layer.7.relu                                     (block2_layer_7_bn1,)                      {}\n",
      "call_module    block2_layer_7_conv1    block2.layer.7.conv1                                    (block2_layer_7_relu,)                     {}\n",
      "call_module    block2_layer_7_bn2      block2.layer.7.bn2                                      (block2_layer_7_conv1,)                    {}\n",
      "call_module    block2_layer_7_relu_1   block2.layer.7.relu                                     (block2_layer_7_bn2,)                      {}\n",
      "call_module    block2_layer_7_conv2    block2.layer.7.conv2                                    (block2_layer_7_relu_1,)                   {}\n",
      "call_function  cat_23                  <built-in method cat of type object at 0x7fe46c023140>  ([cat_22, block2_layer_7_conv2], 1)        {}\n",
      "call_module    block2_layer_8_bn1      block2.layer.8.bn1                                      (cat_23,)                                  {}\n",
      "call_module    block2_layer_8_relu     block2.layer.8.relu                                     (block2_layer_8_bn1,)                      {}\n",
      "call_module    block2_layer_8_conv1    block2.layer.8.conv1                                    (block2_layer_8_relu,)                     {}\n",
      "call_module    block2_layer_8_bn2      block2.layer.8.bn2                                      (block2_layer_8_conv1,)                    {}\n",
      "call_module    block2_layer_8_relu_1   block2.layer.8.relu                                     (block2_layer_8_bn2,)                      {}\n",
      "call_module    block2_layer_8_conv2    block2.layer.8.conv2                                    (block2_layer_8_relu_1,)                   {}\n",
      "call_function  cat_24                  <built-in method cat of type object at 0x7fe46c023140>  ([cat_23, block2_layer_8_conv2], 1)        {}\n",
      "call_module    block2_layer_9_bn1      block2.layer.9.bn1                                      (cat_24,)                                  {}\n",
      "call_module    block2_layer_9_relu     block2.layer.9.relu                                     (block2_layer_9_bn1,)                      {}\n",
      "call_module    block2_layer_9_conv1    block2.layer.9.conv1                                    (block2_layer_9_relu,)                     {}\n",
      "call_module    block2_layer_9_bn2      block2.layer.9.bn2                                      (block2_layer_9_conv1,)                    {}\n",
      "call_module    block2_layer_9_relu_1   block2.layer.9.relu                                     (block2_layer_9_bn2,)                      {}\n",
      "call_module    block2_layer_9_conv2    block2.layer.9.conv2                                    (block2_layer_9_relu_1,)                   {}\n",
      "call_function  cat_25                  <built-in method cat of type object at 0x7fe46c023140>  ([cat_24, block2_layer_9_conv2], 1)        {}\n",
      "call_module    block2_layer_10_bn1     block2.layer.10.bn1                                     (cat_25,)                                  {}\n",
      "call_module    block2_layer_10_relu    block2.layer.10.relu                                    (block2_layer_10_bn1,)                     {}\n",
      "call_module    block2_layer_10_conv1   block2.layer.10.conv1                                   (block2_layer_10_relu,)                    {}\n",
      "call_module    block2_layer_10_bn2     block2.layer.10.bn2                                     (block2_layer_10_conv1,)                   {}\n",
      "call_module    block2_layer_10_relu_1  block2.layer.10.relu                                    (block2_layer_10_bn2,)                     {}\n",
      "call_module    block2_layer_10_conv2   block2.layer.10.conv2                                   (block2_layer_10_relu_1,)                  {}\n",
      "call_function  cat_26                  <built-in method cat of type object at 0x7fe46c023140>  ([cat_25, block2_layer_10_conv2], 1)       {}\n",
      "call_module    block2_layer_11_bn1     block2.layer.11.bn1                                     (cat_26,)                                  {}\n",
      "call_module    block2_layer_11_relu    block2.layer.11.relu                                    (block2_layer_11_bn1,)                     {}\n",
      "call_module    block2_layer_11_conv1   block2.layer.11.conv1                                   (block2_layer_11_relu,)                    {}\n",
      "call_module    block2_layer_11_bn2     block2.layer.11.bn2                                     (block2_layer_11_conv1,)                   {}\n",
      "call_module    block2_layer_11_relu_1  block2.layer.11.relu                                    (block2_layer_11_bn2,)                     {}\n",
      "call_module    block2_layer_11_conv2   block2.layer.11.conv2                                   (block2_layer_11_relu_1,)                  {}\n",
      "call_function  cat_27                  <built-in method cat of type object at 0x7fe46c023140>  ([cat_26, block2_layer_11_conv2], 1)       {}\n",
      "call_module    block2_layer_12_bn1     block2.layer.12.bn1                                     (cat_27,)                                  {}\n",
      "call_module    block2_layer_12_relu    block2.layer.12.relu                                    (block2_layer_12_bn1,)                     {}\n",
      "call_module    block2_layer_12_conv1   block2.layer.12.conv1                                   (block2_layer_12_relu,)                    {}\n",
      "call_module    block2_layer_12_bn2     block2.layer.12.bn2                                     (block2_layer_12_conv1,)                   {}\n",
      "call_module    block2_layer_12_relu_1  block2.layer.12.relu                                    (block2_layer_12_bn2,)                     {}\n",
      "call_module    block2_layer_12_conv2   block2.layer.12.conv2                                   (block2_layer_12_relu_1,)                  {}\n",
      "call_function  cat_28                  <built-in method cat of type object at 0x7fe46c023140>  ([cat_27, block2_layer_12_conv2], 1)       {}\n",
      "call_module    block2_layer_13_bn1     block2.layer.13.bn1                                     (cat_28,)                                  {}\n",
      "call_module    block2_layer_13_relu    block2.layer.13.relu                                    (block2_layer_13_bn1,)                     {}\n",
      "call_module    block2_layer_13_conv1   block2.layer.13.conv1                                   (block2_layer_13_relu,)                    {}\n",
      "call_module    block2_layer_13_bn2     block2.layer.13.bn2                                     (block2_layer_13_conv1,)                   {}\n",
      "call_module    block2_layer_13_relu_1  block2.layer.13.relu                                    (block2_layer_13_bn2,)                     {}\n",
      "call_module    block2_layer_13_conv2   block2.layer.13.conv2                                   (block2_layer_13_relu_1,)                  {}\n",
      "call_function  cat_29                  <built-in method cat of type object at 0x7fe46c023140>  ([cat_28, block2_layer_13_conv2], 1)       {}\n",
      "call_module    block2_layer_14_bn1     block2.layer.14.bn1                                     (cat_29,)                                  {}\n",
      "call_module    block2_layer_14_relu    block2.layer.14.relu                                    (block2_layer_14_bn1,)                     {}\n",
      "call_module    block2_layer_14_conv1   block2.layer.14.conv1                                   (block2_layer_14_relu,)                    {}\n",
      "call_module    block2_layer_14_bn2     block2.layer.14.bn2                                     (block2_layer_14_conv1,)                   {}\n",
      "call_module    block2_layer_14_relu_1  block2.layer.14.relu                                    (block2_layer_14_bn2,)                     {}\n",
      "call_module    block2_layer_14_conv2   block2.layer.14.conv2                                   (block2_layer_14_relu_1,)                  {}\n",
      "call_function  cat_30                  <built-in method cat of type object at 0x7fe46c023140>  ([cat_29, block2_layer_14_conv2], 1)       {}\n",
      "call_module    block2_layer_15_bn1     block2.layer.15.bn1                                     (cat_30,)                                  {}\n",
      "call_module    block2_layer_15_relu    block2.layer.15.relu                                    (block2_layer_15_bn1,)                     {}\n",
      "call_module    block2_layer_15_conv1   block2.layer.15.conv1                                   (block2_layer_15_relu,)                    {}\n",
      "call_module    block2_layer_15_bn2     block2.layer.15.bn2                                     (block2_layer_15_conv1,)                   {}\n",
      "call_module    block2_layer_15_relu_1  block2.layer.15.relu                                    (block2_layer_15_bn2,)                     {}\n",
      "call_module    block2_layer_15_conv2   block2.layer.15.conv2                                   (block2_layer_15_relu_1,)                  {}\n",
      "call_function  cat_31                  <built-in method cat of type object at 0x7fe46c023140>  ([cat_30, block2_layer_15_conv2], 1)       {}\n",
      "call_module    trans2_bn1              trans2.bn1                                              (cat_31,)                                  {}\n",
      "call_module    trans2_relu             trans2.relu                                             (trans2_bn1,)                              {}\n",
      "call_module    trans2_conv1            trans2.conv1                                            (trans2_relu,)                             {}\n",
      "call_function  avg_pool2d_1            <built-in function avg_pool2d>                          (trans2_conv1, 2)                          {}\n",
      "call_module    block3_layer_0_bn1      block3.layer.0.bn1                                      (avg_pool2d_1,)                            {}\n",
      "call_module    block3_layer_0_relu     block3.layer.0.relu                                     (block3_layer_0_bn1,)                      {}\n",
      "call_module    block3_layer_0_conv1    block3.layer.0.conv1                                    (block3_layer_0_relu,)                     {}\n",
      "call_module    block3_layer_0_bn2      block3.layer.0.bn2                                      (block3_layer_0_conv1,)                    {}\n",
      "call_module    block3_layer_0_relu_1   block3.layer.0.relu                                     (block3_layer_0_bn2,)                      {}\n",
      "call_module    block3_layer_0_conv2    block3.layer.0.conv2                                    (block3_layer_0_relu_1,)                   {}\n",
      "call_function  cat_32                  <built-in method cat of type object at 0x7fe46c023140>  ([avg_pool2d_1, block3_layer_0_conv2], 1)  {}\n",
      "call_module    block3_layer_1_bn1      block3.layer.1.bn1                                      (cat_32,)                                  {}\n",
      "call_module    block3_layer_1_relu     block3.layer.1.relu                                     (block3_layer_1_bn1,)                      {}\n",
      "call_module    block3_layer_1_conv1    block3.layer.1.conv1                                    (block3_layer_1_relu,)                     {}\n",
      "call_module    block3_layer_1_bn2      block3.layer.1.bn2                                      (block3_layer_1_conv1,)                    {}\n",
      "call_module    block3_layer_1_relu_1   block3.layer.1.relu                                     (block3_layer_1_bn2,)                      {}\n",
      "call_module    block3_layer_1_conv2    block3.layer.1.conv2                                    (block3_layer_1_relu_1,)                   {}\n",
      "call_function  cat_33                  <built-in method cat of type object at 0x7fe46c023140>  ([cat_32, block3_layer_1_conv2], 1)        {}\n",
      "call_module    block3_layer_2_bn1      block3.layer.2.bn1                                      (cat_33,)                                  {}\n",
      "call_module    block3_layer_2_relu     block3.layer.2.relu                                     (block3_layer_2_bn1,)                      {}\n",
      "call_module    block3_layer_2_conv1    block3.layer.2.conv1                                    (block3_layer_2_relu,)                     {}\n",
      "call_module    block3_layer_2_bn2      block3.layer.2.bn2                                      (block3_layer_2_conv1,)                    {}\n",
      "call_module    block3_layer_2_relu_1   block3.layer.2.relu                                     (block3_layer_2_bn2,)                      {}\n",
      "call_module    block3_layer_2_conv2    block3.layer.2.conv2                                    (block3_layer_2_relu_1,)                   {}\n",
      "call_function  cat_34                  <built-in method cat of type object at 0x7fe46c023140>  ([cat_33, block3_layer_2_conv2], 1)        {}\n",
      "call_module    block3_layer_3_bn1      block3.layer.3.bn1                                      (cat_34,)                                  {}\n",
      "call_module    block3_layer_3_relu     block3.layer.3.relu                                     (block3_layer_3_bn1,)                      {}\n",
      "call_module    block3_layer_3_conv1    block3.layer.3.conv1                                    (block3_layer_3_relu,)                     {}\n",
      "call_module    block3_layer_3_bn2      block3.layer.3.bn2                                      (block3_layer_3_conv1,)                    {}\n",
      "call_module    block3_layer_3_relu_1   block3.layer.3.relu                                     (block3_layer_3_bn2,)                      {}\n",
      "call_module    block3_layer_3_conv2    block3.layer.3.conv2                                    (block3_layer_3_relu_1,)                   {}\n",
      "call_function  cat_35                  <built-in method cat of type object at 0x7fe46c023140>  ([cat_34, block3_layer_3_conv2], 1)        {}\n",
      "call_module    block3_layer_4_bn1      block3.layer.4.bn1                                      (cat_35,)                                  {}\n",
      "call_module    block3_layer_4_relu     block3.layer.4.relu                                     (block3_layer_4_bn1,)                      {}\n",
      "call_module    block3_layer_4_conv1    block3.layer.4.conv1                                    (block3_layer_4_relu,)                     {}\n",
      "call_module    block3_layer_4_bn2      block3.layer.4.bn2                                      (block3_layer_4_conv1,)                    {}\n",
      "call_module    block3_layer_4_relu_1   block3.layer.4.relu                                     (block3_layer_4_bn2,)                      {}\n",
      "call_module    block3_layer_4_conv2    block3.layer.4.conv2                                    (block3_layer_4_relu_1,)                   {}\n",
      "call_function  cat_36                  <built-in method cat of type object at 0x7fe46c023140>  ([cat_35, block3_layer_4_conv2], 1)        {}\n",
      "call_module    block3_layer_5_bn1      block3.layer.5.bn1                                      (cat_36,)                                  {}\n",
      "call_module    block3_layer_5_relu     block3.layer.5.relu                                     (block3_layer_5_bn1,)                      {}\n",
      "call_module    block3_layer_5_conv1    block3.layer.5.conv1                                    (block3_layer_5_relu,)                     {}\n",
      "call_module    block3_layer_5_bn2      block3.layer.5.bn2                                      (block3_layer_5_conv1,)                    {}\n",
      "call_module    block3_layer_5_relu_1   block3.layer.5.relu                                     (block3_layer_5_bn2,)                      {}\n",
      "call_module    block3_layer_5_conv2    block3.layer.5.conv2                                    (block3_layer_5_relu_1,)                   {}\n",
      "call_function  cat_37                  <built-in method cat of type object at 0x7fe46c023140>  ([cat_36, block3_layer_5_conv2], 1)        {}\n",
      "call_module    block3_layer_6_bn1      block3.layer.6.bn1                                      (cat_37,)                                  {}\n",
      "call_module    block3_layer_6_relu     block3.layer.6.relu                                     (block3_layer_6_bn1,)                      {}\n",
      "call_module    block3_layer_6_conv1    block3.layer.6.conv1                                    (block3_layer_6_relu,)                     {}\n",
      "call_module    block3_layer_6_bn2      block3.layer.6.bn2                                      (block3_layer_6_conv1,)                    {}\n",
      "call_module    block3_layer_6_relu_1   block3.layer.6.relu                                     (block3_layer_6_bn2,)                      {}\n",
      "call_module    block3_layer_6_conv2    block3.layer.6.conv2                                    (block3_layer_6_relu_1,)                   {}\n",
      "call_function  cat_38                  <built-in method cat of type object at 0x7fe46c023140>  ([cat_37, block3_layer_6_conv2], 1)        {}\n",
      "call_module    block3_layer_7_bn1      block3.layer.7.bn1                                      (cat_38,)                                  {}\n",
      "call_module    block3_layer_7_relu     block3.layer.7.relu                                     (block3_layer_7_bn1,)                      {}\n",
      "call_module    block3_layer_7_conv1    block3.layer.7.conv1                                    (block3_layer_7_relu,)                     {}\n",
      "call_module    block3_layer_7_bn2      block3.layer.7.bn2                                      (block3_layer_7_conv1,)                    {}\n",
      "call_module    block3_layer_7_relu_1   block3.layer.7.relu                                     (block3_layer_7_bn2,)                      {}\n",
      "call_module    block3_layer_7_conv2    block3.layer.7.conv2                                    (block3_layer_7_relu_1,)                   {}\n",
      "call_function  cat_39                  <built-in method cat of type object at 0x7fe46c023140>  ([cat_38, block3_layer_7_conv2], 1)        {}\n",
      "call_module    block3_layer_8_bn1      block3.layer.8.bn1                                      (cat_39,)                                  {}\n",
      "call_module    block3_layer_8_relu     block3.layer.8.relu                                     (block3_layer_8_bn1,)                      {}\n",
      "call_module    block3_layer_8_conv1    block3.layer.8.conv1                                    (block3_layer_8_relu,)                     {}\n",
      "call_module    block3_layer_8_bn2      block3.layer.8.bn2                                      (block3_layer_8_conv1,)                    {}\n",
      "call_module    block3_layer_8_relu_1   block3.layer.8.relu                                     (block3_layer_8_bn2,)                      {}\n",
      "call_module    block3_layer_8_conv2    block3.layer.8.conv2                                    (block3_layer_8_relu_1,)                   {}\n",
      "call_function  cat_40                  <built-in method cat of type object at 0x7fe46c023140>  ([cat_39, block3_layer_8_conv2], 1)        {}\n",
      "call_module    block3_layer_9_bn1      block3.layer.9.bn1                                      (cat_40,)                                  {}\n",
      "call_module    block3_layer_9_relu     block3.layer.9.relu                                     (block3_layer_9_bn1,)                      {}\n",
      "call_module    block3_layer_9_conv1    block3.layer.9.conv1                                    (block3_layer_9_relu,)                     {}\n",
      "call_module    block3_layer_9_bn2      block3.layer.9.bn2                                      (block3_layer_9_conv1,)                    {}\n",
      "call_module    block3_layer_9_relu_1   block3.layer.9.relu                                     (block3_layer_9_bn2,)                      {}\n",
      "call_module    block3_layer_9_conv2    block3.layer.9.conv2                                    (block3_layer_9_relu_1,)                   {}\n",
      "call_function  cat_41                  <built-in method cat of type object at 0x7fe46c023140>  ([cat_40, block3_layer_9_conv2], 1)        {}\n",
      "call_module    block3_layer_10_bn1     block3.layer.10.bn1                                     (cat_41,)                                  {}\n",
      "call_module    block3_layer_10_relu    block3.layer.10.relu                                    (block3_layer_10_bn1,)                     {}\n",
      "call_module    block3_layer_10_conv1   block3.layer.10.conv1                                   (block3_layer_10_relu,)                    {}\n",
      "call_module    block3_layer_10_bn2     block3.layer.10.bn2                                     (block3_layer_10_conv1,)                   {}\n",
      "call_module    block3_layer_10_relu_1  block3.layer.10.relu                                    (block3_layer_10_bn2,)                     {}\n",
      "call_module    block3_layer_10_conv2   block3.layer.10.conv2                                   (block3_layer_10_relu_1,)                  {}\n",
      "call_function  cat_42                  <built-in method cat of type object at 0x7fe46c023140>  ([cat_41, block3_layer_10_conv2], 1)       {}\n",
      "call_module    block3_layer_11_bn1     block3.layer.11.bn1                                     (cat_42,)                                  {}\n",
      "call_module    block3_layer_11_relu    block3.layer.11.relu                                    (block3_layer_11_bn1,)                     {}\n",
      "call_module    block3_layer_11_conv1   block3.layer.11.conv1                                   (block3_layer_11_relu,)                    {}\n",
      "call_module    block3_layer_11_bn2     block3.layer.11.bn2                                     (block3_layer_11_conv1,)                   {}\n",
      "call_module    block3_layer_11_relu_1  block3.layer.11.relu                                    (block3_layer_11_bn2,)                     {}\n",
      "call_module    block3_layer_11_conv2   block3.layer.11.conv2                                   (block3_layer_11_relu_1,)                  {}\n",
      "call_function  cat_43                  <built-in method cat of type object at 0x7fe46c023140>  ([cat_42, block3_layer_11_conv2], 1)       {}\n",
      "call_module    block3_layer_12_bn1     block3.layer.12.bn1                                     (cat_43,)                                  {}\n",
      "call_module    block3_layer_12_relu    block3.layer.12.relu                                    (block3_layer_12_bn1,)                     {}\n",
      "call_module    block3_layer_12_conv1   block3.layer.12.conv1                                   (block3_layer_12_relu,)                    {}\n",
      "call_module    block3_layer_12_bn2     block3.layer.12.bn2                                     (block3_layer_12_conv1,)                   {}\n",
      "call_module    block3_layer_12_relu_1  block3.layer.12.relu                                    (block3_layer_12_bn2,)                     {}\n",
      "call_module    block3_layer_12_conv2   block3.layer.12.conv2                                   (block3_layer_12_relu_1,)                  {}\n",
      "call_function  cat_44                  <built-in method cat of type object at 0x7fe46c023140>  ([cat_43, block3_layer_12_conv2], 1)       {}\n",
      "call_module    block3_layer_13_bn1     block3.layer.13.bn1                                     (cat_44,)                                  {}\n",
      "call_module    block3_layer_13_relu    block3.layer.13.relu                                    (block3_layer_13_bn1,)                     {}\n",
      "call_module    block3_layer_13_conv1   block3.layer.13.conv1                                   (block3_layer_13_relu,)                    {}\n",
      "call_module    block3_layer_13_bn2     block3.layer.13.bn2                                     (block3_layer_13_conv1,)                   {}\n",
      "call_module    block3_layer_13_relu_1  block3.layer.13.relu                                    (block3_layer_13_bn2,)                     {}\n",
      "call_module    block3_layer_13_conv2   block3.layer.13.conv2                                   (block3_layer_13_relu_1,)                  {}\n",
      "call_function  cat_45                  <built-in method cat of type object at 0x7fe46c023140>  ([cat_44, block3_layer_13_conv2], 1)       {}\n",
      "call_module    block3_layer_14_bn1     block3.layer.14.bn1                                     (cat_45,)                                  {}\n",
      "call_module    block3_layer_14_relu    block3.layer.14.relu                                    (block3_layer_14_bn1,)                     {}\n",
      "call_module    block3_layer_14_conv1   block3.layer.14.conv1                                   (block3_layer_14_relu,)                    {}\n",
      "call_module    block3_layer_14_bn2     block3.layer.14.bn2                                     (block3_layer_14_conv1,)                   {}\n",
      "call_module    block3_layer_14_relu_1  block3.layer.14.relu                                    (block3_layer_14_bn2,)                     {}\n",
      "call_module    block3_layer_14_conv2   block3.layer.14.conv2                                   (block3_layer_14_relu_1,)                  {}\n",
      "call_function  cat_46                  <built-in method cat of type object at 0x7fe46c023140>  ([cat_45, block3_layer_14_conv2], 1)       {}\n",
      "call_module    block3_layer_15_bn1     block3.layer.15.bn1                                     (cat_46,)                                  {}\n",
      "call_module    block3_layer_15_relu    block3.layer.15.relu                                    (block3_layer_15_bn1,)                     {}\n",
      "call_module    block3_layer_15_conv1   block3.layer.15.conv1                                   (block3_layer_15_relu,)                    {}\n",
      "call_module    block3_layer_15_bn2     block3.layer.15.bn2                                     (block3_layer_15_conv1,)                   {}\n",
      "call_module    block3_layer_15_relu_1  block3.layer.15.relu                                    (block3_layer_15_bn2,)                     {}\n",
      "call_module    block3_layer_15_conv2   block3.layer.15.conv2                                   (block3_layer_15_relu_1,)                  {}\n",
      "call_function  cat_47                  <built-in method cat of type object at 0x7fe46c023140>  ([cat_46, block3_layer_15_conv2], 1)       {}\n",
      "call_module    bn1                     bn1                                                     (cat_47,)                                  {}\n",
      "call_module    relu                    relu                                                    (bn1,)                                     {}\n",
      "call_function  avg_pool2d_2            <built-in function avg_pool2d>                          (relu, 8)                                  {}\n",
      "call_method    view                    view                                                    (avg_pool2d_2, -1, 342)                    {}\n",
      "call_module    fc                      fc                                                      (view,)                                    {}\n",
      "output         output_1                output                                                  ({'feature': view, 'logit': fc},)          {}\n"
     ]
    }
   ],
   "source": [
    "from torchvision.models.feature_extraction import get_graph_node_names, create_feature_extractor\n",
    "from torch import nn\n",
    "import torch.nn.functional as F\n",
    "import torch.optim as optim\n",
    "\n",
    "from tqdm.auto import tqdm\n",
    "\n",
    "create_feature_extractor(densenet, {'view': 'feature', 'fc': 'logit'}).graph.print_tabular()"
   ]
  },
  {
   "cell_type": "code",
   "execution_count": 6,
   "metadata": {},
   "outputs": [],
   "source": [
    "class DynamicTemp(nn.Module):\n",
    "  def __init__(self, model, device='cuda:0', eps=torch.finfo(torch.float32).eps):\n",
    "    super(self.__class__, self).__init__()\n",
    "    model.eval()\n",
    "    model.to(device)\n",
    "    self.model = create_feature_extractor(model, {'view': 'feature', 'fc': 'logit'})\n",
    "    for p in self.model.parameters():\n",
    "      p.requires_grad_(False)\n",
    "    self.temp1 = nn.Linear(342, 128, device=device)\n",
    "    self.temp2 = nn.Linear(128, 1, device=device)\n",
    "    self.eps = eps\n",
    "\n",
    "  def temperature(self, x):\n",
    "    x = self.model(x)['feature']\n",
    "    x = F.relu(self.temp1(x))\n",
    "    x = F.relu(self.temp2(x))\n",
    "    return x + self.eps\n",
    "\n",
    "  def forward(self, x):\n",
    "    res = self.model(x)\n",
    "    x = F.relu(self.temp1(res['feature']))\n",
    "    x = F.relu(self.temp2(x)) + self.eps\n",
    "    return res['logit']/x\n",
    "  \n",
    "model = DynamicTemp(densenet, device=device)"
   ]
  },
  {
   "cell_type": "code",
   "execution_count": 9,
   "metadata": {},
   "outputs": [
    {
     "name": "stdout",
     "output_type": "stream",
     "text": [
      "Files already downloaded and verified\n"
     ]
    },
    {
     "data": {
      "application/vnd.jupyter.widget-view+json": {
       "model_id": "34953068f2914a4288ed379f566c94aa",
       "version_major": 2,
       "version_minor": 0
      },
      "text/plain": [
       "  0%|          | 0/20 [00:00<?, ?it/s]"
      ]
     },
     "metadata": {},
     "output_type": "display_data"
    },
    {
     "data": {
      "application/vnd.jupyter.widget-view+json": {
       "model_id": "6271f1175d6c448cbd3520f5d6f9e664",
       "version_major": 2,
       "version_minor": 0
      },
      "text/plain": [
       "  0%|          | 0/20 [00:00<?, ?it/s]"
      ]
     },
     "metadata": {},
     "output_type": "display_data"
    },
    {
     "data": {
      "application/vnd.jupyter.widget-view+json": {
       "model_id": "f4cadcd79e734e69a4fe71b8b0b02959",
       "version_major": 2,
       "version_minor": 0
      },
      "text/plain": [
       "  0%|          | 0/20 [00:00<?, ?it/s]"
      ]
     },
     "metadata": {},
     "output_type": "display_data"
    },
    {
     "data": {
      "application/vnd.jupyter.widget-view+json": {
       "model_id": "517c53d907ef4b2ca50c220cebf50182",
       "version_major": 2,
       "version_minor": 0
      },
      "text/plain": [
       "  0%|          | 0/20 [00:00<?, ?it/s]"
      ]
     },
     "metadata": {},
     "output_type": "display_data"
    },
    {
     "data": {
      "application/vnd.jupyter.widget-view+json": {
       "model_id": "03f6632e21d74cc0bb380729453d5a6b",
       "version_major": 2,
       "version_minor": 0
      },
      "text/plain": [
       "  0%|          | 0/20 [00:00<?, ?it/s]"
      ]
     },
     "metadata": {},
     "output_type": "display_data"
    },
    {
     "data": {
      "application/vnd.jupyter.widget-view+json": {
       "model_id": "e8b7d0f3176245119093900bb09222e6",
       "version_major": 2,
       "version_minor": 0
      },
      "text/plain": [
       "  0%|          | 0/20 [00:00<?, ?it/s]"
      ]
     },
     "metadata": {},
     "output_type": "display_data"
    },
    {
     "data": {
      "application/vnd.jupyter.widget-view+json": {
       "model_id": "8cf3089a05554ccfb1998cf157f87690",
       "version_major": 2,
       "version_minor": 0
      },
      "text/plain": [
       "  0%|          | 0/20 [00:00<?, ?it/s]"
      ]
     },
     "metadata": {},
     "output_type": "display_data"
    },
    {
     "data": {
      "application/vnd.jupyter.widget-view+json": {
       "model_id": "85925c5cff1e4b66a2091501463a400c",
       "version_major": 2,
       "version_minor": 0
      },
      "text/plain": [
       "  0%|          | 0/20 [00:00<?, ?it/s]"
      ]
     },
     "metadata": {},
     "output_type": "display_data"
    },
    {
     "data": {
      "application/vnd.jupyter.widget-view+json": {
       "model_id": "254385e7446e45d78419ea13d09c687f",
       "version_major": 2,
       "version_minor": 0
      },
      "text/plain": [
       "  0%|          | 0/20 [00:00<?, ?it/s]"
      ]
     },
     "metadata": {},
     "output_type": "display_data"
    },
    {
     "data": {
      "application/vnd.jupyter.widget-view+json": {
       "model_id": "822d40491b044eeea78d88dbfdb7179a",
       "version_major": 2,
       "version_minor": 0
      },
      "text/plain": [
       "  0%|          | 0/20 [00:00<?, ?it/s]"
      ]
     },
     "metadata": {},
     "output_type": "display_data"
    }
   ],
   "source": [
    "K = 100\n",
    "epochs = 10\n",
    "\n",
    "if K == 10:\n",
    "  ds = torchvision.datasets.CIFAR10(root='./datasets/id_datasets/', train=True, download=True, transform=transform_cifar)\n",
    "elif K == 100:\n",
    "  ds = torchvision.datasets.CIFAR100(root='./datasets/id_datasets/', train=False, download=True, transform=transform_cifar)\n",
    "else:\n",
    "  raise\n",
    "\n",
    "dl = torch.utils.data.DataLoader(ds, batch_size=512, shuffle=True)\n",
    "\n",
    "optimizer = optim.AdamW(model.parameters(), lr=1e-5)\n",
    "\n",
    "for e in range(epochs):\n",
    "  with tqdm(dl) as pbar:\n",
    "    for x, y in pbar:\n",
    "        e = torch.rand(x.shape[0])\n",
    "        noise = torch.randn(x.shape)\n",
    "        x = (1-e).view(-1,1,1,1)*x + e.view(-1,1,1,1)*noise\n",
    "        x = x/torch.sqrt((1-e)**2 + e**2).view(-1,1,1,1)\n",
    "        y = (1-e).view(-1,1)*F.one_hot(y, K) + e.view(-1,1)/K\n",
    "\n",
    "        y_hat = model(x.to(device))\n",
    "        loss = F.cross_entropy(y_hat, y.to(device))\n",
    "\n",
    "        model.zero_grad()\n",
    "        loss.backward()\n",
    "        optimizer.step()\n",
    "\n",
    "        pbar.set_postfix({'loss': loss.item()})"
   ]
  },
  {
   "attachments": {},
   "cell_type": "markdown",
   "metadata": {},
   "source": [
    "* Energy"
   ]
  },
  {
   "cell_type": "code",
   "execution_count": 17,
   "metadata": {},
   "outputs": [
    {
     "data": {
      "application/vnd.jupyter.widget-view+json": {
       "model_id": "91eb6ec7c359415787c4ed8ea94b2511",
       "version_major": 2,
       "version_minor": 0
      },
      "text/plain": [
       "In-dist:   0%|          | 0/20 [00:00<?, ?it/s]"
      ]
     },
     "metadata": {},
     "output_type": "display_data"
    },
    {
     "name": "stderr",
     "output_type": "stream",
     "text": [
      "/home/bckim/miniconda3/envs/jax/lib/python3.10/site-packages/torchmetrics/utilities/prints.py:36: UserWarning: No negative samples in targets, false positive value should be meaningless. Returning zero tensor in false positive score\n",
      "  warnings.warn(*args, **kwargs)\n"
     ]
    },
    {
     "data": {
      "application/vnd.jupyter.widget-view+json": {
       "model_id": "2b97a77ddab244b48b18bfa6d5b20929",
       "version_major": 2,
       "version_minor": 0
      },
      "text/plain": [
       "Out-of-dist:   0%|          | 0/20 [00:00<?, ?it/s]"
      ]
     },
     "metadata": {},
     "output_type": "display_data"
    },
    {
     "name": "stderr",
     "output_type": "stream",
     "text": [
      "/home/bckim/miniconda3/envs/jax/lib/python3.10/site-packages/torchmetrics/utilities/prints.py:36: UserWarning: No positive samples in targets, true positive value should be meaningless. Returning zero tensor in true positive score\n",
      "  warnings.warn(*args, **kwargs)\n"
     ]
    },
    {
     "data": {
      "application/vnd.jupyter.widget-view+json": {
       "model_id": "4315e5a04e04471a943383883227ddfa",
       "version_major": 2,
       "version_minor": 0
      },
      "text/plain": [
       "Out-of-dist:   0%|          | 0/20 [00:00<?, ?it/s]"
      ]
     },
     "metadata": {},
     "output_type": "display_data"
    },
    {
     "data": {
      "application/vnd.jupyter.widget-view+json": {
       "model_id": "aecff3d8ceea4d1eb1c03a285b8dbd04",
       "version_major": 2,
       "version_minor": 0
      },
      "text/plain": [
       "Out-of-dist:   0%|          | 0/20 [00:00<?, ?it/s]"
      ]
     },
     "metadata": {},
     "output_type": "display_data"
    },
    {
     "data": {
      "application/vnd.jupyter.widget-view+json": {
       "model_id": "d08463eefc1b48979c41530244b11f82",
       "version_major": 2,
       "version_minor": 0
      },
      "text/plain": [
       "Out-of-dist:   0%|          | 0/18 [00:00<?, ?it/s]"
      ]
     },
     "metadata": {},
     "output_type": "display_data"
    },
    {
     "data": {
      "application/vnd.jupyter.widget-view+json": {
       "model_id": "2fbe63797df241b6a30b7b08dd0af3cc",
       "version_major": 2,
       "version_minor": 0
      },
      "text/plain": [
       "Out-of-dist:   0%|          | 0/12 [00:00<?, ?it/s]"
      ]
     },
     "metadata": {},
     "output_type": "display_data"
    },
    {
     "data": {
      "application/vnd.jupyter.widget-view+json": {
       "model_id": "aab673ef90774776b7e542aaa387a57e",
       "version_major": 2,
       "version_minor": 0
      },
      "text/plain": [
       "Out-of-dist:   0%|          | 0/642 [00:00<?, ?it/s]"
      ]
     },
     "metadata": {},
     "output_type": "display_data"
    }
   ],
   "source": [
    "energy_metrics = BinaryMetrics()\n",
    "energy = Runner(lambda x: torch.logsumexp(model(x), -1)/1000.0, energy_metrics, dataloaders['CIFAR-10'], device)\n",
    "\n",
    "dict_energy_metrics = {}\n",
    "for nm_dl in ood_dls:\n",
    "  dict_energy_metrics[nm_dl] = energy.run(dataloaders[nm_dl])\n",
    "\n",
    "energy_df = pd.DataFrame(dict_energy_metrics)\n",
    "energy_df['Avg.'] = energy_df.mean(axis=1)\n",
    "result_dfs['CIFAR-100_energy'] = energy_df"
   ]
  },
  {
   "attachments": {},
   "cell_type": "markdown",
   "metadata": {},
   "source": [
    "* MSP"
   ]
  },
  {
   "cell_type": "code",
   "execution_count": 18,
   "metadata": {},
   "outputs": [
    {
     "data": {
      "application/vnd.jupyter.widget-view+json": {
       "model_id": "c072de2b29334043a634672ae690aa8c",
       "version_major": 2,
       "version_minor": 0
      },
      "text/plain": [
       "In-dist:   0%|          | 0/20 [00:00<?, ?it/s]"
      ]
     },
     "metadata": {},
     "output_type": "display_data"
    },
    {
     "name": "stderr",
     "output_type": "stream",
     "text": [
      "/home/bckim/miniconda3/envs/jax/lib/python3.10/site-packages/torchmetrics/utilities/prints.py:36: UserWarning: No negative samples in targets, false positive value should be meaningless. Returning zero tensor in false positive score\n",
      "  warnings.warn(*args, **kwargs)\n"
     ]
    },
    {
     "data": {
      "application/vnd.jupyter.widget-view+json": {
       "model_id": "ce2d1b582fa54ea190070c45b5543f59",
       "version_major": 2,
       "version_minor": 0
      },
      "text/plain": [
       "Out-of-dist:   0%|          | 0/20 [00:00<?, ?it/s]"
      ]
     },
     "metadata": {},
     "output_type": "display_data"
    },
    {
     "name": "stderr",
     "output_type": "stream",
     "text": [
      "/home/bckim/miniconda3/envs/jax/lib/python3.10/site-packages/torchmetrics/utilities/prints.py:36: UserWarning: No positive samples in targets, true positive value should be meaningless. Returning zero tensor in true positive score\n",
      "  warnings.warn(*args, **kwargs)\n"
     ]
    },
    {
     "data": {
      "application/vnd.jupyter.widget-view+json": {
       "model_id": "01cae75f44494f958321ef902e1d2e12",
       "version_major": 2,
       "version_minor": 0
      },
      "text/plain": [
       "Out-of-dist:   0%|          | 0/20 [00:00<?, ?it/s]"
      ]
     },
     "metadata": {},
     "output_type": "display_data"
    },
    {
     "data": {
      "application/vnd.jupyter.widget-view+json": {
       "model_id": "86ef33e06c2741bd9fc5f91738101abc",
       "version_major": 2,
       "version_minor": 0
      },
      "text/plain": [
       "Out-of-dist:   0%|          | 0/20 [00:00<?, ?it/s]"
      ]
     },
     "metadata": {},
     "output_type": "display_data"
    },
    {
     "data": {
      "application/vnd.jupyter.widget-view+json": {
       "model_id": "356d4ee3472f4291bedd33dfa499e215",
       "version_major": 2,
       "version_minor": 0
      },
      "text/plain": [
       "Out-of-dist:   0%|          | 0/18 [00:00<?, ?it/s]"
      ]
     },
     "metadata": {},
     "output_type": "display_data"
    },
    {
     "data": {
      "application/vnd.jupyter.widget-view+json": {
       "model_id": "0d6afccfbd5f4bf0a02851449312caf1",
       "version_major": 2,
       "version_minor": 0
      },
      "text/plain": [
       "Out-of-dist:   0%|          | 0/12 [00:00<?, ?it/s]"
      ]
     },
     "metadata": {},
     "output_type": "display_data"
    },
    {
     "data": {
      "application/vnd.jupyter.widget-view+json": {
       "model_id": "273ab38a1e4a4121a0ad1b1b523a5669",
       "version_major": 2,
       "version_minor": 0
      },
      "text/plain": [
       "Out-of-dist:   0%|          | 0/642 [00:00<?, ?it/s]"
      ]
     },
     "metadata": {},
     "output_type": "display_data"
    }
   ],
   "source": [
    "msp_metrics = BinaryMetrics()\n",
    "msp = Runner(lambda x: F.softmax(model(x), -1).max(dim=-1)[0], msp_metrics, dataloaders['CIFAR-100'], device)\n",
    "\n",
    "dict_msp_metrics = {}\n",
    "for nm_dl in ood_dls:\n",
    "  dict_msp_metrics[nm_dl] = msp.run(dataloaders[nm_dl])\n",
    "\n",
    "msp_df = pd.DataFrame(dict_msp_metrics)\n",
    "msp_df['Avg.'] = msp_df.mean(axis=1)\n",
    "result_dfs['CIFAR-100_msp'] = msp_df"
   ]
  },
  {
   "attachments": {},
   "cell_type": "markdown",
   "metadata": {},
   "source": [
    "* Temperature"
   ]
  },
  {
   "cell_type": "code",
   "execution_count": 19,
   "metadata": {},
   "outputs": [
    {
     "data": {
      "application/vnd.jupyter.widget-view+json": {
       "model_id": "ab9f9fcc86424b98a513331362095b3f",
       "version_major": 2,
       "version_minor": 0
      },
      "text/plain": [
       "In-dist:   0%|          | 0/20 [00:00<?, ?it/s]"
      ]
     },
     "metadata": {},
     "output_type": "display_data"
    },
    {
     "name": "stderr",
     "output_type": "stream",
     "text": [
      "/home/bckim/miniconda3/envs/jax/lib/python3.10/site-packages/torchmetrics/utilities/prints.py:36: UserWarning: No negative samples in targets, false positive value should be meaningless. Returning zero tensor in false positive score\n",
      "  warnings.warn(*args, **kwargs)\n"
     ]
    },
    {
     "data": {
      "application/vnd.jupyter.widget-view+json": {
       "model_id": "2b2be22bd1ee4af284e10138674341d3",
       "version_major": 2,
       "version_minor": 0
      },
      "text/plain": [
       "Out-of-dist:   0%|          | 0/20 [00:00<?, ?it/s]"
      ]
     },
     "metadata": {},
     "output_type": "display_data"
    },
    {
     "name": "stderr",
     "output_type": "stream",
     "text": [
      "/home/bckim/miniconda3/envs/jax/lib/python3.10/site-packages/torchmetrics/utilities/prints.py:36: UserWarning: No positive samples in targets, true positive value should be meaningless. Returning zero tensor in true positive score\n",
      "  warnings.warn(*args, **kwargs)\n"
     ]
    },
    {
     "data": {
      "application/vnd.jupyter.widget-view+json": {
       "model_id": "33189fa0752e4626a3698900d235159e",
       "version_major": 2,
       "version_minor": 0
      },
      "text/plain": [
       "Out-of-dist:   0%|          | 0/20 [00:00<?, ?it/s]"
      ]
     },
     "metadata": {},
     "output_type": "display_data"
    },
    {
     "data": {
      "application/vnd.jupyter.widget-view+json": {
       "model_id": "13f0ff8e91624336946a367993a1acd1",
       "version_major": 2,
       "version_minor": 0
      },
      "text/plain": [
       "Out-of-dist:   0%|          | 0/20 [00:00<?, ?it/s]"
      ]
     },
     "metadata": {},
     "output_type": "display_data"
    },
    {
     "data": {
      "application/vnd.jupyter.widget-view+json": {
       "model_id": "45678ca6746d45b79588a764a53ee757",
       "version_major": 2,
       "version_minor": 0
      },
      "text/plain": [
       "Out-of-dist:   0%|          | 0/18 [00:00<?, ?it/s]"
      ]
     },
     "metadata": {},
     "output_type": "display_data"
    },
    {
     "data": {
      "application/vnd.jupyter.widget-view+json": {
       "model_id": "d6c8dc3ff99b43cf88f9b351e300e04a",
       "version_major": 2,
       "version_minor": 0
      },
      "text/plain": [
       "Out-of-dist:   0%|          | 0/12 [00:00<?, ?it/s]"
      ]
     },
     "metadata": {},
     "output_type": "display_data"
    },
    {
     "data": {
      "application/vnd.jupyter.widget-view+json": {
       "model_id": "722e0bb1d5454cbea3f0068614e6ca0f",
       "version_major": 2,
       "version_minor": 0
      },
      "text/plain": [
       "Out-of-dist:   0%|          | 0/642 [00:00<?, ?it/s]"
      ]
     },
     "metadata": {},
     "output_type": "display_data"
    }
   ],
   "source": [
    "temp_metrics = BinaryMetrics()\n",
    "temp = Runner(lambda x: 1/model.temperature(x).flatten(), temp_metrics, dataloaders['CIFAR-100'], device)\n",
    "\n",
    "dict_temp_metrics = {}\n",
    "for nm_dl in ood_dls:\n",
    "  dict_temp_metrics[nm_dl] = temp.run(dataloaders[nm_dl])\n",
    "\n",
    "temp_df = pd.DataFrame(dict_temp_metrics)\n",
    "temp_df['Avg.'] = temp_df.mean(axis=1)\n",
    "result_dfs['CIFAR-100_temp'] = temp_df"
   ]
  },
  {
   "attachments": {},
   "cell_type": "markdown",
   "metadata": {},
   "source": [
    "## Results"
   ]
  },
  {
   "cell_type": "code",
   "execution_count": 20,
   "metadata": {},
   "outputs": [
    {
     "data": {
      "text/html": [
       "<div>\n",
       "<style scoped>\n",
       "    .dataframe tbody tr th:only-of-type {\n",
       "        vertical-align: middle;\n",
       "    }\n",
       "\n",
       "    .dataframe tbody tr th {\n",
       "        vertical-align: top;\n",
       "    }\n",
       "\n",
       "    .dataframe thead th {\n",
       "        text-align: right;\n",
       "    }\n",
       "</style>\n",
       "<table border=\"1\" class=\"dataframe\">\n",
       "  <thead>\n",
       "    <tr style=\"text-align: right;\">\n",
       "      <th></th>\n",
       "      <th>FPR@95</th>\n",
       "      <th>AUROC</th>\n",
       "      <th>AUPR_In</th>\n",
       "    </tr>\n",
       "  </thead>\n",
       "  <tbody>\n",
       "    <tr>\n",
       "      <th>SVHN</th>\n",
       "      <td>0.997700</td>\n",
       "      <td>0.458282</td>\n",
       "      <td>0.542955</td>\n",
       "    </tr>\n",
       "    <tr>\n",
       "      <th>LSUN</th>\n",
       "      <td>0.937000</td>\n",
       "      <td>0.529611</td>\n",
       "      <td>0.543413</td>\n",
       "    </tr>\n",
       "    <tr>\n",
       "      <th>LSUN_resize</th>\n",
       "      <td>0.236900</td>\n",
       "      <td>0.949753</td>\n",
       "      <td>0.948275</td>\n",
       "    </tr>\n",
       "    <tr>\n",
       "      <th>iSUN</th>\n",
       "      <td>0.271260</td>\n",
       "      <td>0.932952</td>\n",
       "      <td>0.931982</td>\n",
       "    </tr>\n",
       "    <tr>\n",
       "      <th>dtd</th>\n",
       "      <td>0.686348</td>\n",
       "      <td>0.726083</td>\n",
       "      <td>0.792639</td>\n",
       "    </tr>\n",
       "    <tr>\n",
       "      <th>places365</th>\n",
       "      <td>0.866627</td>\n",
       "      <td>0.605802</td>\n",
       "      <td>0.039474</td>\n",
       "    </tr>\n",
       "    <tr>\n",
       "      <th>Avg.</th>\n",
       "      <td>0.665973</td>\n",
       "      <td>0.700414</td>\n",
       "      <td>0.633123</td>\n",
       "    </tr>\n",
       "  </tbody>\n",
       "</table>\n",
       "</div>"
      ],
      "text/plain": [
       "               FPR@95     AUROC   AUPR_In\n",
       "SVHN         0.997700  0.458282  0.542955\n",
       "LSUN         0.937000  0.529611  0.543413\n",
       "LSUN_resize  0.236900  0.949753  0.948275\n",
       "iSUN         0.271260  0.932952  0.931982\n",
       "dtd          0.686348  0.726083  0.792639\n",
       "places365    0.866627  0.605802  0.039474\n",
       "Avg.         0.665973  0.700414  0.633123"
      ]
     },
     "execution_count": 20,
     "metadata": {},
     "output_type": "execute_result"
    }
   ],
   "source": [
    "result_dfs['CIFAR-100_energy'].T[['FPR@95', 'AUROC', 'AUPR_In']]"
   ]
  },
  {
   "cell_type": "code",
   "execution_count": 21,
   "metadata": {},
   "outputs": [
    {
     "data": {
      "text/html": [
       "<div>\n",
       "<style scoped>\n",
       "    .dataframe tbody tr th:only-of-type {\n",
       "        vertical-align: middle;\n",
       "    }\n",
       "\n",
       "    .dataframe tbody tr th {\n",
       "        vertical-align: top;\n",
       "    }\n",
       "\n",
       "    .dataframe thead th {\n",
       "        text-align: right;\n",
       "    }\n",
       "</style>\n",
       "<table border=\"1\" class=\"dataframe\">\n",
       "  <thead>\n",
       "    <tr style=\"text-align: right;\">\n",
       "      <th></th>\n",
       "      <th>FPR@95</th>\n",
       "      <th>AUROC</th>\n",
       "      <th>AUPR_In</th>\n",
       "    </tr>\n",
       "  </thead>\n",
       "  <tbody>\n",
       "    <tr>\n",
       "      <th>SVHN</th>\n",
       "      <td>0.865700</td>\n",
       "      <td>0.737108</td>\n",
       "      <td>0.758497</td>\n",
       "    </tr>\n",
       "    <tr>\n",
       "      <th>LSUN</th>\n",
       "      <td>0.828000</td>\n",
       "      <td>0.741310</td>\n",
       "      <td>0.754353</td>\n",
       "    </tr>\n",
       "    <tr>\n",
       "      <th>LSUN_resize</th>\n",
       "      <td>0.408100</td>\n",
       "      <td>0.914934</td>\n",
       "      <td>0.923912</td>\n",
       "    </tr>\n",
       "    <tr>\n",
       "      <th>iSUN</th>\n",
       "      <td>0.400112</td>\n",
       "      <td>0.913741</td>\n",
       "      <td>0.927265</td>\n",
       "    </tr>\n",
       "    <tr>\n",
       "      <th>dtd</th>\n",
       "      <td>0.620745</td>\n",
       "      <td>0.832412</td>\n",
       "      <td>0.894439</td>\n",
       "    </tr>\n",
       "    <tr>\n",
       "      <th>places365</th>\n",
       "      <td>0.752499</td>\n",
       "      <td>0.771134</td>\n",
       "      <td>0.130909</td>\n",
       "    </tr>\n",
       "    <tr>\n",
       "      <th>Avg.</th>\n",
       "      <td>0.645859</td>\n",
       "      <td>0.818440</td>\n",
       "      <td>0.731563</td>\n",
       "    </tr>\n",
       "  </tbody>\n",
       "</table>\n",
       "</div>"
      ],
      "text/plain": [
       "               FPR@95     AUROC   AUPR_In\n",
       "SVHN         0.865700  0.737108  0.758497\n",
       "LSUN         0.828000  0.741310  0.754353\n",
       "LSUN_resize  0.408100  0.914934  0.923912\n",
       "iSUN         0.400112  0.913741  0.927265\n",
       "dtd          0.620745  0.832412  0.894439\n",
       "places365    0.752499  0.771134  0.130909\n",
       "Avg.         0.645859  0.818440  0.731563"
      ]
     },
     "execution_count": 21,
     "metadata": {},
     "output_type": "execute_result"
    }
   ],
   "source": [
    "result_dfs['CIFAR-100_msp'].T[['FPR@95', 'AUROC', 'AUPR_In']]"
   ]
  },
  {
   "cell_type": "code",
   "execution_count": 22,
   "metadata": {},
   "outputs": [
    {
     "data": {
      "text/html": [
       "<div>\n",
       "<style scoped>\n",
       "    .dataframe tbody tr th:only-of-type {\n",
       "        vertical-align: middle;\n",
       "    }\n",
       "\n",
       "    .dataframe tbody tr th {\n",
       "        vertical-align: top;\n",
       "    }\n",
       "\n",
       "    .dataframe thead th {\n",
       "        text-align: right;\n",
       "    }\n",
       "</style>\n",
       "<table border=\"1\" class=\"dataframe\">\n",
       "  <thead>\n",
       "    <tr style=\"text-align: right;\">\n",
       "      <th></th>\n",
       "      <th>FPR@95</th>\n",
       "      <th>AUROC</th>\n",
       "      <th>AUPR_In</th>\n",
       "    </tr>\n",
       "  </thead>\n",
       "  <tbody>\n",
       "    <tr>\n",
       "      <th>SVHN</th>\n",
       "      <td>0.999100</td>\n",
       "      <td>0.310502</td>\n",
       "      <td>0.405907</td>\n",
       "    </tr>\n",
       "    <tr>\n",
       "      <th>LSUN</th>\n",
       "      <td>1.000000</td>\n",
       "      <td>0.014200</td>\n",
       "      <td>0.307416</td>\n",
       "    </tr>\n",
       "    <tr>\n",
       "      <th>LSUN_resize</th>\n",
       "      <td>0.275600</td>\n",
       "      <td>0.927263</td>\n",
       "      <td>0.912987</td>\n",
       "    </tr>\n",
       "    <tr>\n",
       "      <th>iSUN</th>\n",
       "      <td>0.296583</td>\n",
       "      <td>0.916194</td>\n",
       "      <td>0.908679</td>\n",
       "    </tr>\n",
       "    <tr>\n",
       "      <th>dtd</th>\n",
       "      <td>0.657979</td>\n",
       "      <td>0.618020</td>\n",
       "      <td>0.668804</td>\n",
       "    </tr>\n",
       "    <tr>\n",
       "      <th>places365</th>\n",
       "      <td>0.929102</td>\n",
       "      <td>0.527516</td>\n",
       "      <td>0.032210</td>\n",
       "    </tr>\n",
       "    <tr>\n",
       "      <th>Avg.</th>\n",
       "      <td>0.693061</td>\n",
       "      <td>0.552282</td>\n",
       "      <td>0.539334</td>\n",
       "    </tr>\n",
       "  </tbody>\n",
       "</table>\n",
       "</div>"
      ],
      "text/plain": [
       "               FPR@95     AUROC   AUPR_In\n",
       "SVHN         0.999100  0.310502  0.405907\n",
       "LSUN         1.000000  0.014200  0.307416\n",
       "LSUN_resize  0.275600  0.927263  0.912987\n",
       "iSUN         0.296583  0.916194  0.908679\n",
       "dtd          0.657979  0.618020  0.668804\n",
       "places365    0.929102  0.527516  0.032210\n",
       "Avg.         0.693061  0.552282  0.539334"
      ]
     },
     "execution_count": 22,
     "metadata": {},
     "output_type": "execute_result"
    }
   ],
   "source": [
    "result_dfs['CIFAR-100_temp'].T[['FPR@95', 'AUROC', 'AUPR_In']]"
   ]
  },
  {
   "cell_type": "code",
   "execution_count": null,
   "metadata": {},
   "outputs": [],
   "source": []
  }
 ],
 "metadata": {
  "kernelspec": {
   "display_name": "jax",
   "language": "python",
   "name": "python3"
  },
  "language_info": {
   "codemirror_mode": {
    "name": "ipython",
    "version": 3
   },
   "file_extension": ".py",
   "mimetype": "text/x-python",
   "name": "python",
   "nbconvert_exporter": "python",
   "pygments_lexer": "ipython3",
   "version": "3.10.9"
  },
  "orig_nbformat": 4,
  "vscode": {
   "interpreter": {
    "hash": "3fa6689b546259a140f700df87133380835e0a96e9af08af581bf45c0ff0ee88"
   }
  }
 },
 "nbformat": 4,
 "nbformat_minor": 2
}
