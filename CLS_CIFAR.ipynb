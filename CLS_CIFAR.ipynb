{
 "cells": [
  {
   "attachments": {},
   "cell_type": "markdown",
   "metadata": {},
   "source": [
    "# CLS"
   ]
  },
  {
   "cell_type": "code",
   "execution_count": 1,
   "metadata": {},
   "outputs": [],
   "source": [
    "import torch\n",
    "import torchvision\n",
    "import torchvision.transforms as transforms\n",
    "\n",
    "import numpy as np\n",
    "import pandas as pd\n",
    "\n",
    "from models.densenet import DenseNet3\n",
    "import util.svhn_loader as svhn"
   ]
  },
  {
   "cell_type": "code",
   "execution_count": 2,
   "metadata": {},
   "outputs": [
    {
     "name": "stdout",
     "output_type": "stream",
     "text": [
      "Files already downloaded and verified\n",
      "Files already downloaded and verified\n",
      "Files already downloaded and verified\n"
     ]
    }
   ],
   "source": [
    "transform_cifar = transforms.Compose([\n",
    "  transforms.Resize(32),\n",
    "  transforms.CenterCrop(32),\n",
    "  transforms.ToTensor(),\n",
    "  transforms.Normalize((0.4914, 0.4822, 0.4465), (0.2023, 0.1994, 0.2010)),\n",
    "])\n",
    "\n",
    "datasets = {\n",
    "  'CIFAR-10': torchvision.datasets.CIFAR10(root='./datasets/id_datasets/', train=False, download=True, transform=transform_cifar),\n",
    "  'CIFAR-100': torchvision.datasets.CIFAR100(root='./datasets/id_datasets/', train=False, download=True, transform=transform_cifar), \n",
    "  'SVHN': svhn.SVHN('datasets/ood_datasets/svhn/', split='test', transform=transform_cifar, download=False),\n",
    "  'dtd': torchvision.datasets.ImageFolder(root=\"datasets/ood_datasets/dtd/images\", transform=transform_cifar),\n",
    "  'places365': torchvision.datasets.ImageFolder(root=\"datasets/ood_datasets/places365/\", transform=transform_cifar),\n",
    "  'celebA': torchvision.datasets.CelebA(root='datasets/ood_datasets/', split='test', download=True, transform=transform_cifar),\n",
    "  'iSUN': torchvision.datasets.ImageFolder(\"./datasets/ood_datasets/iSUN\", transform=transform_cifar),\n",
    "  'LSUN': torchvision.datasets.ImageFolder(\"./datasets/ood_datasets/LSUN\", transform=transform_cifar),\n",
    "  'LSUN_resize': torchvision.datasets.ImageFolder(\"./datasets/ood_datasets/LSUN_resize\", transform=transform_cifar),\n",
    "}\n",
    "\n",
    "dataloaders = {\n",
    "  k: torch.utils.data.DataLoader(v, batch_size=512, shuffle=False) for k,v in datasets.items()\n",
    "}\n",
    "\n",
    "# ood_dls = ['SVHN', 'LSUN', 'LSUN_resize', 'iSUN', 'dtd', 'places365']\n",
    "ood_dls = ['SVHN', 'LSUN', 'LSUN_resize', 'iSUN', 'dtd']"
   ]
  },
  {
   "cell_type": "code",
   "execution_count": 3,
   "metadata": {},
   "outputs": [],
   "source": [
    "import sys\n",
    "sys.path.append('./code/')\n",
    "\n",
    "from metrics import BinaryMetrics, Runner\n",
    "from stats import Stats\n",
    "from dice import DICE\n",
    "\n",
    "device = 'cuda:0'\n",
    "result_dfs = {}"
   ]
  },
  {
   "attachments": {},
   "cell_type": "markdown",
   "metadata": {},
   "source": [
    "## CIFAR-100"
   ]
  },
  {
   "cell_type": "code",
   "execution_count": 4,
   "metadata": {},
   "outputs": [],
   "source": [
    "densenet = DenseNet3(100, 100, 12, reduction=0.5, bottleneck=True, dropRate=0.0, normalizer=None, p=None, info=None)\n",
    "checkpoint = torch.load(\"./checkpoints/CIFAR-100/densenet/checkpoint_100.pth.tar\", map_location=device)\n",
    "densenet.load_state_dict(checkpoint['state_dict'])\n",
    "densenet.eval();"
   ]
  },
  {
   "cell_type": "code",
   "execution_count": 5,
   "metadata": {},
   "outputs": [
    {
     "name": "stdout",
     "output_type": "stream",
     "text": [
      "opcode         name                    target                                                  args                                       kwargs\n",
      "-------------  ----------------------  ------------------------------------------------------  -----------------------------------------  --------\n",
      "placeholder    x                       x                                                       ()                                         {}\n",
      "call_module    conv1                   conv1                                                   (x,)                                       {}\n",
      "call_module    block1_layer_0_bn1      block1.layer.0.bn1                                      (conv1,)                                   {}\n",
      "call_module    block1_layer_0_relu     block1.layer.0.relu                                     (block1_layer_0_bn1,)                      {}\n",
      "call_module    block1_layer_0_conv1    block1.layer.0.conv1                                    (block1_layer_0_relu,)                     {}\n",
      "call_module    block1_layer_0_bn2      block1.layer.0.bn2                                      (block1_layer_0_conv1,)                    {}\n",
      "call_module    block1_layer_0_relu_1   block1.layer.0.relu                                     (block1_layer_0_bn2,)                      {}\n",
      "call_module    block1_layer_0_conv2    block1.layer.0.conv2                                    (block1_layer_0_relu_1,)                   {}\n",
      "call_function  cat                     <built-in method cat of type object at 0x7f1d8097e140>  ([conv1, block1_layer_0_conv2], 1)         {}\n",
      "call_module    block1_layer_1_bn1      block1.layer.1.bn1                                      (cat,)                                     {}\n",
      "call_module    block1_layer_1_relu     block1.layer.1.relu                                     (block1_layer_1_bn1,)                      {}\n",
      "call_module    block1_layer_1_conv1    block1.layer.1.conv1                                    (block1_layer_1_relu,)                     {}\n",
      "call_module    block1_layer_1_bn2      block1.layer.1.bn2                                      (block1_layer_1_conv1,)                    {}\n",
      "call_module    block1_layer_1_relu_1   block1.layer.1.relu                                     (block1_layer_1_bn2,)                      {}\n",
      "call_module    block1_layer_1_conv2    block1.layer.1.conv2                                    (block1_layer_1_relu_1,)                   {}\n",
      "call_function  cat_1                   <built-in method cat of type object at 0x7f1d8097e140>  ([cat, block1_layer_1_conv2], 1)           {}\n",
      "call_module    block1_layer_2_bn1      block1.layer.2.bn1                                      (cat_1,)                                   {}\n",
      "call_module    block1_layer_2_relu     block1.layer.2.relu                                     (block1_layer_2_bn1,)                      {}\n",
      "call_module    block1_layer_2_conv1    block1.layer.2.conv1                                    (block1_layer_2_relu,)                     {}\n",
      "call_module    block1_layer_2_bn2      block1.layer.2.bn2                                      (block1_layer_2_conv1,)                    {}\n",
      "call_module    block1_layer_2_relu_1   block1.layer.2.relu                                     (block1_layer_2_bn2,)                      {}\n",
      "call_module    block1_layer_2_conv2    block1.layer.2.conv2                                    (block1_layer_2_relu_1,)                   {}\n",
      "call_function  cat_2                   <built-in method cat of type object at 0x7f1d8097e140>  ([cat_1, block1_layer_2_conv2], 1)         {}\n",
      "call_module    block1_layer_3_bn1      block1.layer.3.bn1                                      (cat_2,)                                   {}\n",
      "call_module    block1_layer_3_relu     block1.layer.3.relu                                     (block1_layer_3_bn1,)                      {}\n",
      "call_module    block1_layer_3_conv1    block1.layer.3.conv1                                    (block1_layer_3_relu,)                     {}\n",
      "call_module    block1_layer_3_bn2      block1.layer.3.bn2                                      (block1_layer_3_conv1,)                    {}\n",
      "call_module    block1_layer_3_relu_1   block1.layer.3.relu                                     (block1_layer_3_bn2,)                      {}\n",
      "call_module    block1_layer_3_conv2    block1.layer.3.conv2                                    (block1_layer_3_relu_1,)                   {}\n",
      "call_function  cat_3                   <built-in method cat of type object at 0x7f1d8097e140>  ([cat_2, block1_layer_3_conv2], 1)         {}\n",
      "call_module    block1_layer_4_bn1      block1.layer.4.bn1                                      (cat_3,)                                   {}\n",
      "call_module    block1_layer_4_relu     block1.layer.4.relu                                     (block1_layer_4_bn1,)                      {}\n",
      "call_module    block1_layer_4_conv1    block1.layer.4.conv1                                    (block1_layer_4_relu,)                     {}\n",
      "call_module    block1_layer_4_bn2      block1.layer.4.bn2                                      (block1_layer_4_conv1,)                    {}\n",
      "call_module    block1_layer_4_relu_1   block1.layer.4.relu                                     (block1_layer_4_bn2,)                      {}\n",
      "call_module    block1_layer_4_conv2    block1.layer.4.conv2                                    (block1_layer_4_relu_1,)                   {}\n",
      "call_function  cat_4                   <built-in method cat of type object at 0x7f1d8097e140>  ([cat_3, block1_layer_4_conv2], 1)         {}\n",
      "call_module    block1_layer_5_bn1      block1.layer.5.bn1                                      (cat_4,)                                   {}\n",
      "call_module    block1_layer_5_relu     block1.layer.5.relu                                     (block1_layer_5_bn1,)                      {}\n",
      "call_module    block1_layer_5_conv1    block1.layer.5.conv1                                    (block1_layer_5_relu,)                     {}\n",
      "call_module    block1_layer_5_bn2      block1.layer.5.bn2                                      (block1_layer_5_conv1,)                    {}\n",
      "call_module    block1_layer_5_relu_1   block1.layer.5.relu                                     (block1_layer_5_bn2,)                      {}\n",
      "call_module    block1_layer_5_conv2    block1.layer.5.conv2                                    (block1_layer_5_relu_1,)                   {}\n",
      "call_function  cat_5                   <built-in method cat of type object at 0x7f1d8097e140>  ([cat_4, block1_layer_5_conv2], 1)         {}\n",
      "call_module    block1_layer_6_bn1      block1.layer.6.bn1                                      (cat_5,)                                   {}\n",
      "call_module    block1_layer_6_relu     block1.layer.6.relu                                     (block1_layer_6_bn1,)                      {}\n",
      "call_module    block1_layer_6_conv1    block1.layer.6.conv1                                    (block1_layer_6_relu,)                     {}\n",
      "call_module    block1_layer_6_bn2      block1.layer.6.bn2                                      (block1_layer_6_conv1,)                    {}\n",
      "call_module    block1_layer_6_relu_1   block1.layer.6.relu                                     (block1_layer_6_bn2,)                      {}\n",
      "call_module    block1_layer_6_conv2    block1.layer.6.conv2                                    (block1_layer_6_relu_1,)                   {}\n",
      "call_function  cat_6                   <built-in method cat of type object at 0x7f1d8097e140>  ([cat_5, block1_layer_6_conv2], 1)         {}\n",
      "call_module    block1_layer_7_bn1      block1.layer.7.bn1                                      (cat_6,)                                   {}\n",
      "call_module    block1_layer_7_relu     block1.layer.7.relu                                     (block1_layer_7_bn1,)                      {}\n",
      "call_module    block1_layer_7_conv1    block1.layer.7.conv1                                    (block1_layer_7_relu,)                     {}\n",
      "call_module    block1_layer_7_bn2      block1.layer.7.bn2                                      (block1_layer_7_conv1,)                    {}\n",
      "call_module    block1_layer_7_relu_1   block1.layer.7.relu                                     (block1_layer_7_bn2,)                      {}\n",
      "call_module    block1_layer_7_conv2    block1.layer.7.conv2                                    (block1_layer_7_relu_1,)                   {}\n",
      "call_function  cat_7                   <built-in method cat of type object at 0x7f1d8097e140>  ([cat_6, block1_layer_7_conv2], 1)         {}\n",
      "call_module    block1_layer_8_bn1      block1.layer.8.bn1                                      (cat_7,)                                   {}\n",
      "call_module    block1_layer_8_relu     block1.layer.8.relu                                     (block1_layer_8_bn1,)                      {}\n",
      "call_module    block1_layer_8_conv1    block1.layer.8.conv1                                    (block1_layer_8_relu,)                     {}\n",
      "call_module    block1_layer_8_bn2      block1.layer.8.bn2                                      (block1_layer_8_conv1,)                    {}\n",
      "call_module    block1_layer_8_relu_1   block1.layer.8.relu                                     (block1_layer_8_bn2,)                      {}\n",
      "call_module    block1_layer_8_conv2    block1.layer.8.conv2                                    (block1_layer_8_relu_1,)                   {}\n",
      "call_function  cat_8                   <built-in method cat of type object at 0x7f1d8097e140>  ([cat_7, block1_layer_8_conv2], 1)         {}\n",
      "call_module    block1_layer_9_bn1      block1.layer.9.bn1                                      (cat_8,)                                   {}\n",
      "call_module    block1_layer_9_relu     block1.layer.9.relu                                     (block1_layer_9_bn1,)                      {}\n",
      "call_module    block1_layer_9_conv1    block1.layer.9.conv1                                    (block1_layer_9_relu,)                     {}\n",
      "call_module    block1_layer_9_bn2      block1.layer.9.bn2                                      (block1_layer_9_conv1,)                    {}\n",
      "call_module    block1_layer_9_relu_1   block1.layer.9.relu                                     (block1_layer_9_bn2,)                      {}\n",
      "call_module    block1_layer_9_conv2    block1.layer.9.conv2                                    (block1_layer_9_relu_1,)                   {}\n",
      "call_function  cat_9                   <built-in method cat of type object at 0x7f1d8097e140>  ([cat_8, block1_layer_9_conv2], 1)         {}\n",
      "call_module    block1_layer_10_bn1     block1.layer.10.bn1                                     (cat_9,)                                   {}\n",
      "call_module    block1_layer_10_relu    block1.layer.10.relu                                    (block1_layer_10_bn1,)                     {}\n",
      "call_module    block1_layer_10_conv1   block1.layer.10.conv1                                   (block1_layer_10_relu,)                    {}\n",
      "call_module    block1_layer_10_bn2     block1.layer.10.bn2                                     (block1_layer_10_conv1,)                   {}\n",
      "call_module    block1_layer_10_relu_1  block1.layer.10.relu                                    (block1_layer_10_bn2,)                     {}\n",
      "call_module    block1_layer_10_conv2   block1.layer.10.conv2                                   (block1_layer_10_relu_1,)                  {}\n",
      "call_function  cat_10                  <built-in method cat of type object at 0x7f1d8097e140>  ([cat_9, block1_layer_10_conv2], 1)        {}\n",
      "call_module    block1_layer_11_bn1     block1.layer.11.bn1                                     (cat_10,)                                  {}\n",
      "call_module    block1_layer_11_relu    block1.layer.11.relu                                    (block1_layer_11_bn1,)                     {}\n",
      "call_module    block1_layer_11_conv1   block1.layer.11.conv1                                   (block1_layer_11_relu,)                    {}\n",
      "call_module    block1_layer_11_bn2     block1.layer.11.bn2                                     (block1_layer_11_conv1,)                   {}\n",
      "call_module    block1_layer_11_relu_1  block1.layer.11.relu                                    (block1_layer_11_bn2,)                     {}\n",
      "call_module    block1_layer_11_conv2   block1.layer.11.conv2                                   (block1_layer_11_relu_1,)                  {}\n",
      "call_function  cat_11                  <built-in method cat of type object at 0x7f1d8097e140>  ([cat_10, block1_layer_11_conv2], 1)       {}\n",
      "call_module    block1_layer_12_bn1     block1.layer.12.bn1                                     (cat_11,)                                  {}\n",
      "call_module    block1_layer_12_relu    block1.layer.12.relu                                    (block1_layer_12_bn1,)                     {}\n",
      "call_module    block1_layer_12_conv1   block1.layer.12.conv1                                   (block1_layer_12_relu,)                    {}\n",
      "call_module    block1_layer_12_bn2     block1.layer.12.bn2                                     (block1_layer_12_conv1,)                   {}\n",
      "call_module    block1_layer_12_relu_1  block1.layer.12.relu                                    (block1_layer_12_bn2,)                     {}\n",
      "call_module    block1_layer_12_conv2   block1.layer.12.conv2                                   (block1_layer_12_relu_1,)                  {}\n",
      "call_function  cat_12                  <built-in method cat of type object at 0x7f1d8097e140>  ([cat_11, block1_layer_12_conv2], 1)       {}\n",
      "call_module    block1_layer_13_bn1     block1.layer.13.bn1                                     (cat_12,)                                  {}\n",
      "call_module    block1_layer_13_relu    block1.layer.13.relu                                    (block1_layer_13_bn1,)                     {}\n",
      "call_module    block1_layer_13_conv1   block1.layer.13.conv1                                   (block1_layer_13_relu,)                    {}\n",
      "call_module    block1_layer_13_bn2     block1.layer.13.bn2                                     (block1_layer_13_conv1,)                   {}\n",
      "call_module    block1_layer_13_relu_1  block1.layer.13.relu                                    (block1_layer_13_bn2,)                     {}\n",
      "call_module    block1_layer_13_conv2   block1.layer.13.conv2                                   (block1_layer_13_relu_1,)                  {}\n",
      "call_function  cat_13                  <built-in method cat of type object at 0x7f1d8097e140>  ([cat_12, block1_layer_13_conv2], 1)       {}\n",
      "call_module    block1_layer_14_bn1     block1.layer.14.bn1                                     (cat_13,)                                  {}\n",
      "call_module    block1_layer_14_relu    block1.layer.14.relu                                    (block1_layer_14_bn1,)                     {}\n",
      "call_module    block1_layer_14_conv1   block1.layer.14.conv1                                   (block1_layer_14_relu,)                    {}\n",
      "call_module    block1_layer_14_bn2     block1.layer.14.bn2                                     (block1_layer_14_conv1,)                   {}\n",
      "call_module    block1_layer_14_relu_1  block1.layer.14.relu                                    (block1_layer_14_bn2,)                     {}\n",
      "call_module    block1_layer_14_conv2   block1.layer.14.conv2                                   (block1_layer_14_relu_1,)                  {}\n",
      "call_function  cat_14                  <built-in method cat of type object at 0x7f1d8097e140>  ([cat_13, block1_layer_14_conv2], 1)       {}\n",
      "call_module    block1_layer_15_bn1     block1.layer.15.bn1                                     (cat_14,)                                  {}\n",
      "call_module    block1_layer_15_relu    block1.layer.15.relu                                    (block1_layer_15_bn1,)                     {}\n",
      "call_module    block1_layer_15_conv1   block1.layer.15.conv1                                   (block1_layer_15_relu,)                    {}\n",
      "call_module    block1_layer_15_bn2     block1.layer.15.bn2                                     (block1_layer_15_conv1,)                   {}\n",
      "call_module    block1_layer_15_relu_1  block1.layer.15.relu                                    (block1_layer_15_bn2,)                     {}\n",
      "call_module    block1_layer_15_conv2   block1.layer.15.conv2                                   (block1_layer_15_relu_1,)                  {}\n",
      "call_function  cat_15                  <built-in method cat of type object at 0x7f1d8097e140>  ([cat_14, block1_layer_15_conv2], 1)       {}\n",
      "call_module    trans1_bn1              trans1.bn1                                              (cat_15,)                                  {}\n",
      "call_module    trans1_relu             trans1.relu                                             (trans1_bn1,)                              {}\n",
      "call_module    trans1_conv1            trans1.conv1                                            (trans1_relu,)                             {}\n",
      "call_function  avg_pool2d              <built-in function avg_pool2d>                          (trans1_conv1, 2)                          {}\n",
      "call_module    block2_layer_0_bn1      block2.layer.0.bn1                                      (avg_pool2d,)                              {}\n",
      "call_module    block2_layer_0_relu     block2.layer.0.relu                                     (block2_layer_0_bn1,)                      {}\n",
      "call_module    block2_layer_0_conv1    block2.layer.0.conv1                                    (block2_layer_0_relu,)                     {}\n",
      "call_module    block2_layer_0_bn2      block2.layer.0.bn2                                      (block2_layer_0_conv1,)                    {}\n",
      "call_module    block2_layer_0_relu_1   block2.layer.0.relu                                     (block2_layer_0_bn2,)                      {}\n",
      "call_module    block2_layer_0_conv2    block2.layer.0.conv2                                    (block2_layer_0_relu_1,)                   {}\n",
      "call_function  cat_16                  <built-in method cat of type object at 0x7f1d8097e140>  ([avg_pool2d, block2_layer_0_conv2], 1)    {}\n",
      "call_module    block2_layer_1_bn1      block2.layer.1.bn1                                      (cat_16,)                                  {}\n",
      "call_module    block2_layer_1_relu     block2.layer.1.relu                                     (block2_layer_1_bn1,)                      {}\n",
      "call_module    block2_layer_1_conv1    block2.layer.1.conv1                                    (block2_layer_1_relu,)                     {}\n",
      "call_module    block2_layer_1_bn2      block2.layer.1.bn2                                      (block2_layer_1_conv1,)                    {}\n",
      "call_module    block2_layer_1_relu_1   block2.layer.1.relu                                     (block2_layer_1_bn2,)                      {}\n",
      "call_module    block2_layer_1_conv2    block2.layer.1.conv2                                    (block2_layer_1_relu_1,)                   {}\n",
      "call_function  cat_17                  <built-in method cat of type object at 0x7f1d8097e140>  ([cat_16, block2_layer_1_conv2], 1)        {}\n",
      "call_module    block2_layer_2_bn1      block2.layer.2.bn1                                      (cat_17,)                                  {}\n",
      "call_module    block2_layer_2_relu     block2.layer.2.relu                                     (block2_layer_2_bn1,)                      {}\n",
      "call_module    block2_layer_2_conv1    block2.layer.2.conv1                                    (block2_layer_2_relu,)                     {}\n",
      "call_module    block2_layer_2_bn2      block2.layer.2.bn2                                      (block2_layer_2_conv1,)                    {}\n",
      "call_module    block2_layer_2_relu_1   block2.layer.2.relu                                     (block2_layer_2_bn2,)                      {}\n",
      "call_module    block2_layer_2_conv2    block2.layer.2.conv2                                    (block2_layer_2_relu_1,)                   {}\n",
      "call_function  cat_18                  <built-in method cat of type object at 0x7f1d8097e140>  ([cat_17, block2_layer_2_conv2], 1)        {}\n",
      "call_module    block2_layer_3_bn1      block2.layer.3.bn1                                      (cat_18,)                                  {}\n",
      "call_module    block2_layer_3_relu     block2.layer.3.relu                                     (block2_layer_3_bn1,)                      {}\n",
      "call_module    block2_layer_3_conv1    block2.layer.3.conv1                                    (block2_layer_3_relu,)                     {}\n",
      "call_module    block2_layer_3_bn2      block2.layer.3.bn2                                      (block2_layer_3_conv1,)                    {}\n",
      "call_module    block2_layer_3_relu_1   block2.layer.3.relu                                     (block2_layer_3_bn2,)                      {}\n",
      "call_module    block2_layer_3_conv2    block2.layer.3.conv2                                    (block2_layer_3_relu_1,)                   {}\n",
      "call_function  cat_19                  <built-in method cat of type object at 0x7f1d8097e140>  ([cat_18, block2_layer_3_conv2], 1)        {}\n",
      "call_module    block2_layer_4_bn1      block2.layer.4.bn1                                      (cat_19,)                                  {}\n",
      "call_module    block2_layer_4_relu     block2.layer.4.relu                                     (block2_layer_4_bn1,)                      {}\n",
      "call_module    block2_layer_4_conv1    block2.layer.4.conv1                                    (block2_layer_4_relu,)                     {}\n",
      "call_module    block2_layer_4_bn2      block2.layer.4.bn2                                      (block2_layer_4_conv1,)                    {}\n",
      "call_module    block2_layer_4_relu_1   block2.layer.4.relu                                     (block2_layer_4_bn2,)                      {}\n",
      "call_module    block2_layer_4_conv2    block2.layer.4.conv2                                    (block2_layer_4_relu_1,)                   {}\n",
      "call_function  cat_20                  <built-in method cat of type object at 0x7f1d8097e140>  ([cat_19, block2_layer_4_conv2], 1)        {}\n",
      "call_module    block2_layer_5_bn1      block2.layer.5.bn1                                      (cat_20,)                                  {}\n",
      "call_module    block2_layer_5_relu     block2.layer.5.relu                                     (block2_layer_5_bn1,)                      {}\n",
      "call_module    block2_layer_5_conv1    block2.layer.5.conv1                                    (block2_layer_5_relu,)                     {}\n",
      "call_module    block2_layer_5_bn2      block2.layer.5.bn2                                      (block2_layer_5_conv1,)                    {}\n",
      "call_module    block2_layer_5_relu_1   block2.layer.5.relu                                     (block2_layer_5_bn2,)                      {}\n",
      "call_module    block2_layer_5_conv2    block2.layer.5.conv2                                    (block2_layer_5_relu_1,)                   {}\n",
      "call_function  cat_21                  <built-in method cat of type object at 0x7f1d8097e140>  ([cat_20, block2_layer_5_conv2], 1)        {}\n",
      "call_module    block2_layer_6_bn1      block2.layer.6.bn1                                      (cat_21,)                                  {}\n",
      "call_module    block2_layer_6_relu     block2.layer.6.relu                                     (block2_layer_6_bn1,)                      {}\n",
      "call_module    block2_layer_6_conv1    block2.layer.6.conv1                                    (block2_layer_6_relu,)                     {}\n",
      "call_module    block2_layer_6_bn2      block2.layer.6.bn2                                      (block2_layer_6_conv1,)                    {}\n",
      "call_module    block2_layer_6_relu_1   block2.layer.6.relu                                     (block2_layer_6_bn2,)                      {}\n",
      "call_module    block2_layer_6_conv2    block2.layer.6.conv2                                    (block2_layer_6_relu_1,)                   {}\n",
      "call_function  cat_22                  <built-in method cat of type object at 0x7f1d8097e140>  ([cat_21, block2_layer_6_conv2], 1)        {}\n",
      "call_module    block2_layer_7_bn1      block2.layer.7.bn1                                      (cat_22,)                                  {}\n",
      "call_module    block2_layer_7_relu     block2.layer.7.relu                                     (block2_layer_7_bn1,)                      {}\n",
      "call_module    block2_layer_7_conv1    block2.layer.7.conv1                                    (block2_layer_7_relu,)                     {}\n",
      "call_module    block2_layer_7_bn2      block2.layer.7.bn2                                      (block2_layer_7_conv1,)                    {}\n",
      "call_module    block2_layer_7_relu_1   block2.layer.7.relu                                     (block2_layer_7_bn2,)                      {}\n",
      "call_module    block2_layer_7_conv2    block2.layer.7.conv2                                    (block2_layer_7_relu_1,)                   {}\n",
      "call_function  cat_23                  <built-in method cat of type object at 0x7f1d8097e140>  ([cat_22, block2_layer_7_conv2], 1)        {}\n",
      "call_module    block2_layer_8_bn1      block2.layer.8.bn1                                      (cat_23,)                                  {}\n",
      "call_module    block2_layer_8_relu     block2.layer.8.relu                                     (block2_layer_8_bn1,)                      {}\n",
      "call_module    block2_layer_8_conv1    block2.layer.8.conv1                                    (block2_layer_8_relu,)                     {}\n",
      "call_module    block2_layer_8_bn2      block2.layer.8.bn2                                      (block2_layer_8_conv1,)                    {}\n",
      "call_module    block2_layer_8_relu_1   block2.layer.8.relu                                     (block2_layer_8_bn2,)                      {}\n",
      "call_module    block2_layer_8_conv2    block2.layer.8.conv2                                    (block2_layer_8_relu_1,)                   {}\n",
      "call_function  cat_24                  <built-in method cat of type object at 0x7f1d8097e140>  ([cat_23, block2_layer_8_conv2], 1)        {}\n",
      "call_module    block2_layer_9_bn1      block2.layer.9.bn1                                      (cat_24,)                                  {}\n",
      "call_module    block2_layer_9_relu     block2.layer.9.relu                                     (block2_layer_9_bn1,)                      {}\n",
      "call_module    block2_layer_9_conv1    block2.layer.9.conv1                                    (block2_layer_9_relu,)                     {}\n",
      "call_module    block2_layer_9_bn2      block2.layer.9.bn2                                      (block2_layer_9_conv1,)                    {}\n",
      "call_module    block2_layer_9_relu_1   block2.layer.9.relu                                     (block2_layer_9_bn2,)                      {}\n",
      "call_module    block2_layer_9_conv2    block2.layer.9.conv2                                    (block2_layer_9_relu_1,)                   {}\n",
      "call_function  cat_25                  <built-in method cat of type object at 0x7f1d8097e140>  ([cat_24, block2_layer_9_conv2], 1)        {}\n",
      "call_module    block2_layer_10_bn1     block2.layer.10.bn1                                     (cat_25,)                                  {}\n",
      "call_module    block2_layer_10_relu    block2.layer.10.relu                                    (block2_layer_10_bn1,)                     {}\n",
      "call_module    block2_layer_10_conv1   block2.layer.10.conv1                                   (block2_layer_10_relu,)                    {}\n",
      "call_module    block2_layer_10_bn2     block2.layer.10.bn2                                     (block2_layer_10_conv1,)                   {}\n",
      "call_module    block2_layer_10_relu_1  block2.layer.10.relu                                    (block2_layer_10_bn2,)                     {}\n",
      "call_module    block2_layer_10_conv2   block2.layer.10.conv2                                   (block2_layer_10_relu_1,)                  {}\n",
      "call_function  cat_26                  <built-in method cat of type object at 0x7f1d8097e140>  ([cat_25, block2_layer_10_conv2], 1)       {}\n",
      "call_module    block2_layer_11_bn1     block2.layer.11.bn1                                     (cat_26,)                                  {}\n",
      "call_module    block2_layer_11_relu    block2.layer.11.relu                                    (block2_layer_11_bn1,)                     {}\n",
      "call_module    block2_layer_11_conv1   block2.layer.11.conv1                                   (block2_layer_11_relu,)                    {}\n",
      "call_module    block2_layer_11_bn2     block2.layer.11.bn2                                     (block2_layer_11_conv1,)                   {}\n",
      "call_module    block2_layer_11_relu_1  block2.layer.11.relu                                    (block2_layer_11_bn2,)                     {}\n",
      "call_module    block2_layer_11_conv2   block2.layer.11.conv2                                   (block2_layer_11_relu_1,)                  {}\n",
      "call_function  cat_27                  <built-in method cat of type object at 0x7f1d8097e140>  ([cat_26, block2_layer_11_conv2], 1)       {}\n",
      "call_module    block2_layer_12_bn1     block2.layer.12.bn1                                     (cat_27,)                                  {}\n",
      "call_module    block2_layer_12_relu    block2.layer.12.relu                                    (block2_layer_12_bn1,)                     {}\n",
      "call_module    block2_layer_12_conv1   block2.layer.12.conv1                                   (block2_layer_12_relu,)                    {}\n",
      "call_module    block2_layer_12_bn2     block2.layer.12.bn2                                     (block2_layer_12_conv1,)                   {}\n",
      "call_module    block2_layer_12_relu_1  block2.layer.12.relu                                    (block2_layer_12_bn2,)                     {}\n",
      "call_module    block2_layer_12_conv2   block2.layer.12.conv2                                   (block2_layer_12_relu_1,)                  {}\n",
      "call_function  cat_28                  <built-in method cat of type object at 0x7f1d8097e140>  ([cat_27, block2_layer_12_conv2], 1)       {}\n",
      "call_module    block2_layer_13_bn1     block2.layer.13.bn1                                     (cat_28,)                                  {}\n",
      "call_module    block2_layer_13_relu    block2.layer.13.relu                                    (block2_layer_13_bn1,)                     {}\n",
      "call_module    block2_layer_13_conv1   block2.layer.13.conv1                                   (block2_layer_13_relu,)                    {}\n",
      "call_module    block2_layer_13_bn2     block2.layer.13.bn2                                     (block2_layer_13_conv1,)                   {}\n",
      "call_module    block2_layer_13_relu_1  block2.layer.13.relu                                    (block2_layer_13_bn2,)                     {}\n",
      "call_module    block2_layer_13_conv2   block2.layer.13.conv2                                   (block2_layer_13_relu_1,)                  {}\n",
      "call_function  cat_29                  <built-in method cat of type object at 0x7f1d8097e140>  ([cat_28, block2_layer_13_conv2], 1)       {}\n",
      "call_module    block2_layer_14_bn1     block2.layer.14.bn1                                     (cat_29,)                                  {}\n",
      "call_module    block2_layer_14_relu    block2.layer.14.relu                                    (block2_layer_14_bn1,)                     {}\n",
      "call_module    block2_layer_14_conv1   block2.layer.14.conv1                                   (block2_layer_14_relu,)                    {}\n",
      "call_module    block2_layer_14_bn2     block2.layer.14.bn2                                     (block2_layer_14_conv1,)                   {}\n",
      "call_module    block2_layer_14_relu_1  block2.layer.14.relu                                    (block2_layer_14_bn2,)                     {}\n",
      "call_module    block2_layer_14_conv2   block2.layer.14.conv2                                   (block2_layer_14_relu_1,)                  {}\n",
      "call_function  cat_30                  <built-in method cat of type object at 0x7f1d8097e140>  ([cat_29, block2_layer_14_conv2], 1)       {}\n",
      "call_module    block2_layer_15_bn1     block2.layer.15.bn1                                     (cat_30,)                                  {}\n",
      "call_module    block2_layer_15_relu    block2.layer.15.relu                                    (block2_layer_15_bn1,)                     {}\n",
      "call_module    block2_layer_15_conv1   block2.layer.15.conv1                                   (block2_layer_15_relu,)                    {}\n",
      "call_module    block2_layer_15_bn2     block2.layer.15.bn2                                     (block2_layer_15_conv1,)                   {}\n",
      "call_module    block2_layer_15_relu_1  block2.layer.15.relu                                    (block2_layer_15_bn2,)                     {}\n",
      "call_module    block2_layer_15_conv2   block2.layer.15.conv2                                   (block2_layer_15_relu_1,)                  {}\n",
      "call_function  cat_31                  <built-in method cat of type object at 0x7f1d8097e140>  ([cat_30, block2_layer_15_conv2], 1)       {}\n",
      "call_module    trans2_bn1              trans2.bn1                                              (cat_31,)                                  {}\n",
      "call_module    trans2_relu             trans2.relu                                             (trans2_bn1,)                              {}\n",
      "call_module    trans2_conv1            trans2.conv1                                            (trans2_relu,)                             {}\n",
      "call_function  avg_pool2d_1            <built-in function avg_pool2d>                          (trans2_conv1, 2)                          {}\n",
      "call_module    block3_layer_0_bn1      block3.layer.0.bn1                                      (avg_pool2d_1,)                            {}\n",
      "call_module    block3_layer_0_relu     block3.layer.0.relu                                     (block3_layer_0_bn1,)                      {}\n",
      "call_module    block3_layer_0_conv1    block3.layer.0.conv1                                    (block3_layer_0_relu,)                     {}\n",
      "call_module    block3_layer_0_bn2      block3.layer.0.bn2                                      (block3_layer_0_conv1,)                    {}\n",
      "call_module    block3_layer_0_relu_1   block3.layer.0.relu                                     (block3_layer_0_bn2,)                      {}\n",
      "call_module    block3_layer_0_conv2    block3.layer.0.conv2                                    (block3_layer_0_relu_1,)                   {}\n",
      "call_function  cat_32                  <built-in method cat of type object at 0x7f1d8097e140>  ([avg_pool2d_1, block3_layer_0_conv2], 1)  {}\n",
      "call_module    block3_layer_1_bn1      block3.layer.1.bn1                                      (cat_32,)                                  {}\n",
      "call_module    block3_layer_1_relu     block3.layer.1.relu                                     (block3_layer_1_bn1,)                      {}\n",
      "call_module    block3_layer_1_conv1    block3.layer.1.conv1                                    (block3_layer_1_relu,)                     {}\n",
      "call_module    block3_layer_1_bn2      block3.layer.1.bn2                                      (block3_layer_1_conv1,)                    {}\n",
      "call_module    block3_layer_1_relu_1   block3.layer.1.relu                                     (block3_layer_1_bn2,)                      {}\n",
      "call_module    block3_layer_1_conv2    block3.layer.1.conv2                                    (block3_layer_1_relu_1,)                   {}\n",
      "call_function  cat_33                  <built-in method cat of type object at 0x7f1d8097e140>  ([cat_32, block3_layer_1_conv2], 1)        {}\n",
      "call_module    block3_layer_2_bn1      block3.layer.2.bn1                                      (cat_33,)                                  {}\n",
      "call_module    block3_layer_2_relu     block3.layer.2.relu                                     (block3_layer_2_bn1,)                      {}\n",
      "call_module    block3_layer_2_conv1    block3.layer.2.conv1                                    (block3_layer_2_relu,)                     {}\n",
      "call_module    block3_layer_2_bn2      block3.layer.2.bn2                                      (block3_layer_2_conv1,)                    {}\n",
      "call_module    block3_layer_2_relu_1   block3.layer.2.relu                                     (block3_layer_2_bn2,)                      {}\n",
      "call_module    block3_layer_2_conv2    block3.layer.2.conv2                                    (block3_layer_2_relu_1,)                   {}\n",
      "call_function  cat_34                  <built-in method cat of type object at 0x7f1d8097e140>  ([cat_33, block3_layer_2_conv2], 1)        {}\n",
      "call_module    block3_layer_3_bn1      block3.layer.3.bn1                                      (cat_34,)                                  {}\n",
      "call_module    block3_layer_3_relu     block3.layer.3.relu                                     (block3_layer_3_bn1,)                      {}\n",
      "call_module    block3_layer_3_conv1    block3.layer.3.conv1                                    (block3_layer_3_relu,)                     {}\n",
      "call_module    block3_layer_3_bn2      block3.layer.3.bn2                                      (block3_layer_3_conv1,)                    {}\n",
      "call_module    block3_layer_3_relu_1   block3.layer.3.relu                                     (block3_layer_3_bn2,)                      {}\n",
      "call_module    block3_layer_3_conv2    block3.layer.3.conv2                                    (block3_layer_3_relu_1,)                   {}\n",
      "call_function  cat_35                  <built-in method cat of type object at 0x7f1d8097e140>  ([cat_34, block3_layer_3_conv2], 1)        {}\n",
      "call_module    block3_layer_4_bn1      block3.layer.4.bn1                                      (cat_35,)                                  {}\n",
      "call_module    block3_layer_4_relu     block3.layer.4.relu                                     (block3_layer_4_bn1,)                      {}\n",
      "call_module    block3_layer_4_conv1    block3.layer.4.conv1                                    (block3_layer_4_relu,)                     {}\n",
      "call_module    block3_layer_4_bn2      block3.layer.4.bn2                                      (block3_layer_4_conv1,)                    {}\n",
      "call_module    block3_layer_4_relu_1   block3.layer.4.relu                                     (block3_layer_4_bn2,)                      {}\n",
      "call_module    block3_layer_4_conv2    block3.layer.4.conv2                                    (block3_layer_4_relu_1,)                   {}\n",
      "call_function  cat_36                  <built-in method cat of type object at 0x7f1d8097e140>  ([cat_35, block3_layer_4_conv2], 1)        {}\n",
      "call_module    block3_layer_5_bn1      block3.layer.5.bn1                                      (cat_36,)                                  {}\n",
      "call_module    block3_layer_5_relu     block3.layer.5.relu                                     (block3_layer_5_bn1,)                      {}\n",
      "call_module    block3_layer_5_conv1    block3.layer.5.conv1                                    (block3_layer_5_relu,)                     {}\n",
      "call_module    block3_layer_5_bn2      block3.layer.5.bn2                                      (block3_layer_5_conv1,)                    {}\n",
      "call_module    block3_layer_5_relu_1   block3.layer.5.relu                                     (block3_layer_5_bn2,)                      {}\n",
      "call_module    block3_layer_5_conv2    block3.layer.5.conv2                                    (block3_layer_5_relu_1,)                   {}\n",
      "call_function  cat_37                  <built-in method cat of type object at 0x7f1d8097e140>  ([cat_36, block3_layer_5_conv2], 1)        {}\n",
      "call_module    block3_layer_6_bn1      block3.layer.6.bn1                                      (cat_37,)                                  {}\n",
      "call_module    block3_layer_6_relu     block3.layer.6.relu                                     (block3_layer_6_bn1,)                      {}\n",
      "call_module    block3_layer_6_conv1    block3.layer.6.conv1                                    (block3_layer_6_relu,)                     {}\n",
      "call_module    block3_layer_6_bn2      block3.layer.6.bn2                                      (block3_layer_6_conv1,)                    {}\n",
      "call_module    block3_layer_6_relu_1   block3.layer.6.relu                                     (block3_layer_6_bn2,)                      {}\n",
      "call_module    block3_layer_6_conv2    block3.layer.6.conv2                                    (block3_layer_6_relu_1,)                   {}\n",
      "call_function  cat_38                  <built-in method cat of type object at 0x7f1d8097e140>  ([cat_37, block3_layer_6_conv2], 1)        {}\n",
      "call_module    block3_layer_7_bn1      block3.layer.7.bn1                                      (cat_38,)                                  {}\n",
      "call_module    block3_layer_7_relu     block3.layer.7.relu                                     (block3_layer_7_bn1,)                      {}\n",
      "call_module    block3_layer_7_conv1    block3.layer.7.conv1                                    (block3_layer_7_relu,)                     {}\n",
      "call_module    block3_layer_7_bn2      block3.layer.7.bn2                                      (block3_layer_7_conv1,)                    {}\n",
      "call_module    block3_layer_7_relu_1   block3.layer.7.relu                                     (block3_layer_7_bn2,)                      {}\n",
      "call_module    block3_layer_7_conv2    block3.layer.7.conv2                                    (block3_layer_7_relu_1,)                   {}\n",
      "call_function  cat_39                  <built-in method cat of type object at 0x7f1d8097e140>  ([cat_38, block3_layer_7_conv2], 1)        {}\n",
      "call_module    block3_layer_8_bn1      block3.layer.8.bn1                                      (cat_39,)                                  {}\n",
      "call_module    block3_layer_8_relu     block3.layer.8.relu                                     (block3_layer_8_bn1,)                      {}\n",
      "call_module    block3_layer_8_conv1    block3.layer.8.conv1                                    (block3_layer_8_relu,)                     {}\n",
      "call_module    block3_layer_8_bn2      block3.layer.8.bn2                                      (block3_layer_8_conv1,)                    {}\n",
      "call_module    block3_layer_8_relu_1   block3.layer.8.relu                                     (block3_layer_8_bn2,)                      {}\n",
      "call_module    block3_layer_8_conv2    block3.layer.8.conv2                                    (block3_layer_8_relu_1,)                   {}\n",
      "call_function  cat_40                  <built-in method cat of type object at 0x7f1d8097e140>  ([cat_39, block3_layer_8_conv2], 1)        {}\n",
      "call_module    block3_layer_9_bn1      block3.layer.9.bn1                                      (cat_40,)                                  {}\n",
      "call_module    block3_layer_9_relu     block3.layer.9.relu                                     (block3_layer_9_bn1,)                      {}\n",
      "call_module    block3_layer_9_conv1    block3.layer.9.conv1                                    (block3_layer_9_relu,)                     {}\n",
      "call_module    block3_layer_9_bn2      block3.layer.9.bn2                                      (block3_layer_9_conv1,)                    {}\n",
      "call_module    block3_layer_9_relu_1   block3.layer.9.relu                                     (block3_layer_9_bn2,)                      {}\n",
      "call_module    block3_layer_9_conv2    block3.layer.9.conv2                                    (block3_layer_9_relu_1,)                   {}\n",
      "call_function  cat_41                  <built-in method cat of type object at 0x7f1d8097e140>  ([cat_40, block3_layer_9_conv2], 1)        {}\n",
      "call_module    block3_layer_10_bn1     block3.layer.10.bn1                                     (cat_41,)                                  {}\n",
      "call_module    block3_layer_10_relu    block3.layer.10.relu                                    (block3_layer_10_bn1,)                     {}\n",
      "call_module    block3_layer_10_conv1   block3.layer.10.conv1                                   (block3_layer_10_relu,)                    {}\n",
      "call_module    block3_layer_10_bn2     block3.layer.10.bn2                                     (block3_layer_10_conv1,)                   {}\n",
      "call_module    block3_layer_10_relu_1  block3.layer.10.relu                                    (block3_layer_10_bn2,)                     {}\n",
      "call_module    block3_layer_10_conv2   block3.layer.10.conv2                                   (block3_layer_10_relu_1,)                  {}\n",
      "call_function  cat_42                  <built-in method cat of type object at 0x7f1d8097e140>  ([cat_41, block3_layer_10_conv2], 1)       {}\n",
      "call_module    block3_layer_11_bn1     block3.layer.11.bn1                                     (cat_42,)                                  {}\n",
      "call_module    block3_layer_11_relu    block3.layer.11.relu                                    (block3_layer_11_bn1,)                     {}\n",
      "call_module    block3_layer_11_conv1   block3.layer.11.conv1                                   (block3_layer_11_relu,)                    {}\n",
      "call_module    block3_layer_11_bn2     block3.layer.11.bn2                                     (block3_layer_11_conv1,)                   {}\n",
      "call_module    block3_layer_11_relu_1  block3.layer.11.relu                                    (block3_layer_11_bn2,)                     {}\n",
      "call_module    block3_layer_11_conv2   block3.layer.11.conv2                                   (block3_layer_11_relu_1,)                  {}\n",
      "call_function  cat_43                  <built-in method cat of type object at 0x7f1d8097e140>  ([cat_42, block3_layer_11_conv2], 1)       {}\n",
      "call_module    block3_layer_12_bn1     block3.layer.12.bn1                                     (cat_43,)                                  {}\n",
      "call_module    block3_layer_12_relu    block3.layer.12.relu                                    (block3_layer_12_bn1,)                     {}\n",
      "call_module    block3_layer_12_conv1   block3.layer.12.conv1                                   (block3_layer_12_relu,)                    {}\n",
      "call_module    block3_layer_12_bn2     block3.layer.12.bn2                                     (block3_layer_12_conv1,)                   {}\n",
      "call_module    block3_layer_12_relu_1  block3.layer.12.relu                                    (block3_layer_12_bn2,)                     {}\n",
      "call_module    block3_layer_12_conv2   block3.layer.12.conv2                                   (block3_layer_12_relu_1,)                  {}\n",
      "call_function  cat_44                  <built-in method cat of type object at 0x7f1d8097e140>  ([cat_43, block3_layer_12_conv2], 1)       {}\n",
      "call_module    block3_layer_13_bn1     block3.layer.13.bn1                                     (cat_44,)                                  {}\n",
      "call_module    block3_layer_13_relu    block3.layer.13.relu                                    (block3_layer_13_bn1,)                     {}\n",
      "call_module    block3_layer_13_conv1   block3.layer.13.conv1                                   (block3_layer_13_relu,)                    {}\n",
      "call_module    block3_layer_13_bn2     block3.layer.13.bn2                                     (block3_layer_13_conv1,)                   {}\n",
      "call_module    block3_layer_13_relu_1  block3.layer.13.relu                                    (block3_layer_13_bn2,)                     {}\n",
      "call_module    block3_layer_13_conv2   block3.layer.13.conv2                                   (block3_layer_13_relu_1,)                  {}\n",
      "call_function  cat_45                  <built-in method cat of type object at 0x7f1d8097e140>  ([cat_44, block3_layer_13_conv2], 1)       {}\n",
      "call_module    block3_layer_14_bn1     block3.layer.14.bn1                                     (cat_45,)                                  {}\n",
      "call_module    block3_layer_14_relu    block3.layer.14.relu                                    (block3_layer_14_bn1,)                     {}\n",
      "call_module    block3_layer_14_conv1   block3.layer.14.conv1                                   (block3_layer_14_relu,)                    {}\n",
      "call_module    block3_layer_14_bn2     block3.layer.14.bn2                                     (block3_layer_14_conv1,)                   {}\n",
      "call_module    block3_layer_14_relu_1  block3.layer.14.relu                                    (block3_layer_14_bn2,)                     {}\n",
      "call_module    block3_layer_14_conv2   block3.layer.14.conv2                                   (block3_layer_14_relu_1,)                  {}\n",
      "call_function  cat_46                  <built-in method cat of type object at 0x7f1d8097e140>  ([cat_45, block3_layer_14_conv2], 1)       {}\n",
      "call_module    block3_layer_15_bn1     block3.layer.15.bn1                                     (cat_46,)                                  {}\n",
      "call_module    block3_layer_15_relu    block3.layer.15.relu                                    (block3_layer_15_bn1,)                     {}\n",
      "call_module    block3_layer_15_conv1   block3.layer.15.conv1                                   (block3_layer_15_relu,)                    {}\n",
      "call_module    block3_layer_15_bn2     block3.layer.15.bn2                                     (block3_layer_15_conv1,)                   {}\n",
      "call_module    block3_layer_15_relu_1  block3.layer.15.relu                                    (block3_layer_15_bn2,)                     {}\n",
      "call_module    block3_layer_15_conv2   block3.layer.15.conv2                                   (block3_layer_15_relu_1,)                  {}\n",
      "call_function  cat_47                  <built-in method cat of type object at 0x7f1d8097e140>  ([cat_46, block3_layer_15_conv2], 1)       {}\n",
      "call_module    bn1                     bn1                                                     (cat_47,)                                  {}\n",
      "call_module    relu                    relu                                                    (bn1,)                                     {}\n",
      "call_function  avg_pool2d_2            <built-in function avg_pool2d>                          (relu, 8)                                  {}\n",
      "call_method    view                    view                                                    (avg_pool2d_2, -1, 342)                    {}\n",
      "call_module    fc                      fc                                                      (view,)                                    {}\n",
      "output         output_1                output                                                  ({'feature': view, 'logit': fc},)          {}\n"
     ]
    }
   ],
   "source": [
    "from torchvision.models.feature_extraction import get_graph_node_names, create_feature_extractor\n",
    "from torch import nn\n",
    "import torch.nn.functional as F\n",
    "import torch.optim as optim\n",
    "\n",
    "from tqdm.auto import tqdm\n",
    "\n",
    "create_feature_extractor(densenet, {'view': 'feature', 'fc': 'logit'}).graph.print_tabular()"
   ]
  },
  {
   "cell_type": "code",
   "execution_count": 6,
   "metadata": {},
   "outputs": [],
   "source": [
    "class NewCLS(nn.Module):\n",
    "  def __init__(self, model, device='cuda:0'):\n",
    "    super(self.__class__, self).__init__()\n",
    "    model.eval()\n",
    "    model.to(device)\n",
    "    self.model = create_feature_extractor(model, {'view': 'feature', 'fc': 'logit'})\n",
    "    for p in self.model.parameters():\n",
    "      p.requires_grad_(False)\n",
    "    self.new_cls = nn.Linear(342, 1, device=device)\n",
    "\n",
    "  def forward(self, x):\n",
    "    res = self.model(x)\n",
    "    x = self.new_cls(res['feature'])\n",
    "    return torch.concat([res['logit'], x], dim=1)\n",
    "  \n",
    "model = NewCLS(densenet, device=device)"
   ]
  },
  {
   "cell_type": "code",
   "execution_count": 9,
   "metadata": {},
   "outputs": [
    {
     "name": "stdout",
     "output_type": "stream",
     "text": [
      "Files already downloaded and verified\n"
     ]
    },
    {
     "data": {
      "application/vnd.jupyter.widget-view+json": {
       "model_id": "c8e0f061b640491c9e3a0ee41a0057de",
       "version_major": 2,
       "version_minor": 0
      },
      "text/plain": [
       "  0%|          | 0/20 [00:00<?, ?it/s]"
      ]
     },
     "metadata": {},
     "output_type": "display_data"
    },
    {
     "data": {
      "application/vnd.jupyter.widget-view+json": {
       "model_id": "3dc9005e247b4fa9956f2ae5b5c25abf",
       "version_major": 2,
       "version_minor": 0
      },
      "text/plain": [
       "  0%|          | 0/20 [00:00<?, ?it/s]"
      ]
     },
     "metadata": {},
     "output_type": "display_data"
    },
    {
     "data": {
      "application/vnd.jupyter.widget-view+json": {
       "model_id": "46986fc2764d45ff845ca877fab1a510",
       "version_major": 2,
       "version_minor": 0
      },
      "text/plain": [
       "  0%|          | 0/20 [00:00<?, ?it/s]"
      ]
     },
     "metadata": {},
     "output_type": "display_data"
    },
    {
     "data": {
      "application/vnd.jupyter.widget-view+json": {
       "model_id": "9a77f3cb7a1f4ef3b0f409c167eabf87",
       "version_major": 2,
       "version_minor": 0
      },
      "text/plain": [
       "  0%|          | 0/20 [00:00<?, ?it/s]"
      ]
     },
     "metadata": {},
     "output_type": "display_data"
    },
    {
     "data": {
      "application/vnd.jupyter.widget-view+json": {
       "model_id": "fafe5bc5a4174ba988d019e2c94a06a7",
       "version_major": 2,
       "version_minor": 0
      },
      "text/plain": [
       "  0%|          | 0/20 [00:00<?, ?it/s]"
      ]
     },
     "metadata": {},
     "output_type": "display_data"
    },
    {
     "data": {
      "application/vnd.jupyter.widget-view+json": {
       "model_id": "3985138f766d4b7db2f3f9e801ebd980",
       "version_major": 2,
       "version_minor": 0
      },
      "text/plain": [
       "  0%|          | 0/20 [00:00<?, ?it/s]"
      ]
     },
     "metadata": {},
     "output_type": "display_data"
    },
    {
     "data": {
      "application/vnd.jupyter.widget-view+json": {
       "model_id": "6d6261fa192b4679ab47ca17376ca612",
       "version_major": 2,
       "version_minor": 0
      },
      "text/plain": [
       "  0%|          | 0/20 [00:00<?, ?it/s]"
      ]
     },
     "metadata": {},
     "output_type": "display_data"
    },
    {
     "data": {
      "application/vnd.jupyter.widget-view+json": {
       "model_id": "f4a0e030a5b24b96b0b71a956a0add8d",
       "version_major": 2,
       "version_minor": 0
      },
      "text/plain": [
       "  0%|          | 0/20 [00:00<?, ?it/s]"
      ]
     },
     "metadata": {},
     "output_type": "display_data"
    },
    {
     "data": {
      "application/vnd.jupyter.widget-view+json": {
       "model_id": "d7513179ac6441d9adf0823e9cd10e77",
       "version_major": 2,
       "version_minor": 0
      },
      "text/plain": [
       "  0%|          | 0/20 [00:00<?, ?it/s]"
      ]
     },
     "metadata": {},
     "output_type": "display_data"
    },
    {
     "data": {
      "application/vnd.jupyter.widget-view+json": {
       "model_id": "fb885973e3e2451eba6a743845565a04",
       "version_major": 2,
       "version_minor": 0
      },
      "text/plain": [
       "  0%|          | 0/20 [00:00<?, ?it/s]"
      ]
     },
     "metadata": {},
     "output_type": "display_data"
    }
   ],
   "source": [
    "K = 100\n",
    "epochs = 10\n",
    "\n",
    "if K == 10:\n",
    "  ds = torchvision.datasets.CIFAR10(root='./datasets/id_datasets/', train=True, download=True, transform=transform_cifar)\n",
    "elif K == 100:\n",
    "  ds = torchvision.datasets.CIFAR100(root='./datasets/id_datasets/', train=False, download=True, transform=transform_cifar)\n",
    "else:\n",
    "  raise\n",
    "\n",
    "dl = torch.utils.data.DataLoader(ds, batch_size=512, shuffle=True)\n",
    "\n",
    "optimizer = optim.AdamW(model.parameters(), lr=1e-5)\n",
    "\n",
    "for e in range(epochs):\n",
    "  with tqdm(dl) as pbar:\n",
    "    for x, y in pbar:\n",
    "        e = torch.rand((x.shape[0],))\n",
    "        noise = torch.randn(x.shape)\n",
    "        x = (1-e).view(-1,1,1,1)*x + e.view(-1,1,1,1)*noise\n",
    "        x = x/torch.sqrt((1-e)**2 + e**2).view(-1,1,1,1)\n",
    "        y = torch.concat([(1-e).view(-1,1)*F.one_hot(y, K), e.view(-1,1)], dim=1)\n",
    "\n",
    "        y_hat = model(x.to(device))\n",
    "        loss = F.cross_entropy(y_hat, y.to(device))\n",
    "\n",
    "        model.zero_grad()\n",
    "        loss.backward()\n",
    "        optimizer.step()\n",
    "\n",
    "        pbar.set_postfix({'loss': loss.item()})"
   ]
  },
  {
   "cell_type": "code",
   "execution_count": 10,
   "metadata": {},
   "outputs": [
    {
     "data": {
      "application/vnd.jupyter.widget-view+json": {
       "model_id": "64b74bb1965947cdab2280222f066dae",
       "version_major": 2,
       "version_minor": 0
      },
      "text/plain": [
       "In-dist:   0%|          | 0/20 [00:00<?, ?it/s]"
      ]
     },
     "metadata": {},
     "output_type": "display_data"
    },
    {
     "name": "stderr",
     "output_type": "stream",
     "text": [
      "/home/bckim/miniconda3/envs/jax/lib/python3.10/site-packages/torchmetrics/utilities/prints.py:36: UserWarning: No negative samples in targets, false positive value should be meaningless. Returning zero tensor in false positive score\n",
      "  warnings.warn(*args, **kwargs)\n"
     ]
    },
    {
     "data": {
      "application/vnd.jupyter.widget-view+json": {
       "model_id": "9442585d51764136941808e76f39347f",
       "version_major": 2,
       "version_minor": 0
      },
      "text/plain": [
       "Out-of-dist:   0%|          | 0/20 [00:00<?, ?it/s]"
      ]
     },
     "metadata": {},
     "output_type": "display_data"
    },
    {
     "name": "stderr",
     "output_type": "stream",
     "text": [
      "/home/bckim/miniconda3/envs/jax/lib/python3.10/site-packages/torchmetrics/utilities/prints.py:36: UserWarning: No positive samples in targets, true positive value should be meaningless. Returning zero tensor in true positive score\n",
      "  warnings.warn(*args, **kwargs)\n"
     ]
    },
    {
     "data": {
      "application/vnd.jupyter.widget-view+json": {
       "model_id": "10080d5eaafc4b9196c82ae14cf6a7ad",
       "version_major": 2,
       "version_minor": 0
      },
      "text/plain": [
       "Out-of-dist:   0%|          | 0/20 [00:00<?, ?it/s]"
      ]
     },
     "metadata": {},
     "output_type": "display_data"
    },
    {
     "data": {
      "application/vnd.jupyter.widget-view+json": {
       "model_id": "8068104329a44458ac2f3afb7eff4ed7",
       "version_major": 2,
       "version_minor": 0
      },
      "text/plain": [
       "Out-of-dist:   0%|          | 0/20 [00:00<?, ?it/s]"
      ]
     },
     "metadata": {},
     "output_type": "display_data"
    },
    {
     "data": {
      "application/vnd.jupyter.widget-view+json": {
       "model_id": "d649d25edcd64d88ab429be00bd4beca",
       "version_major": 2,
       "version_minor": 0
      },
      "text/plain": [
       "Out-of-dist:   0%|          | 0/18 [00:00<?, ?it/s]"
      ]
     },
     "metadata": {},
     "output_type": "display_data"
    },
    {
     "data": {
      "application/vnd.jupyter.widget-view+json": {
       "model_id": "975196ccb67b4a44b92b50b565ad1875",
       "version_major": 2,
       "version_minor": 0
      },
      "text/plain": [
       "Out-of-dist:   0%|          | 0/12 [00:00<?, ?it/s]"
      ]
     },
     "metadata": {},
     "output_type": "display_data"
    }
   ],
   "source": [
    "cls_metrics = BinaryMetrics()\n",
    "cls = Runner(lambda x: 1-F.softmax(model(x), -1)[-1], cls_metrics, dataloaders['CIFAR-100'], device)\n",
    "\n",
    "dict_cls_metrics = {}\n",
    "for nm_dl in ood_dls:\n",
    "  dict_cls_metrics[nm_dl] = cls.run(dataloaders[nm_dl])\n",
    "\n",
    "cls_df = pd.DataFrame(dict_cls_metrics)\n",
    "cls_df['Avg.'] = cls_df.mean(axis=1)\n",
    "result_dfs['CIFAR-100_cls'] = cls_df"
   ]
  },
  {
   "cell_type": "code",
   "execution_count": 11,
   "metadata": {},
   "outputs": [
    {
     "data": {
      "text/html": [
       "<div>\n",
       "<style scoped>\n",
       "    .dataframe tbody tr th:only-of-type {\n",
       "        vertical-align: middle;\n",
       "    }\n",
       "\n",
       "    .dataframe tbody tr th {\n",
       "        vertical-align: top;\n",
       "    }\n",
       "\n",
       "    .dataframe thead th {\n",
       "        text-align: right;\n",
       "    }\n",
       "</style>\n",
       "<table border=\"1\" class=\"dataframe\">\n",
       "  <thead>\n",
       "    <tr style=\"text-align: right;\">\n",
       "      <th></th>\n",
       "      <th>FPR@95</th>\n",
       "      <th>AUROC</th>\n",
       "      <th>AUPR_In</th>\n",
       "    </tr>\n",
       "  </thead>\n",
       "  <tbody>\n",
       "    <tr>\n",
       "      <th>SVHN</th>\n",
       "      <td>0.821287</td>\n",
       "      <td>0.719022</td>\n",
       "      <td>0.781617</td>\n",
       "    </tr>\n",
       "    <tr>\n",
       "      <th>LSUN</th>\n",
       "      <td>0.560891</td>\n",
       "      <td>0.912340</td>\n",
       "      <td>0.934310</td>\n",
       "    </tr>\n",
       "    <tr>\n",
       "      <th>LSUN_resize</th>\n",
       "      <td>0.851980</td>\n",
       "      <td>0.732777</td>\n",
       "      <td>0.790774</td>\n",
       "    </tr>\n",
       "    <tr>\n",
       "      <th>iSUN</th>\n",
       "      <td>0.823982</td>\n",
       "      <td>0.752149</td>\n",
       "      <td>0.816728</td>\n",
       "    </tr>\n",
       "    <tr>\n",
       "      <th>dtd</th>\n",
       "      <td>0.846535</td>\n",
       "      <td>0.675339</td>\n",
       "      <td>0.826769</td>\n",
       "    </tr>\n",
       "    <tr>\n",
       "      <th>Avg.</th>\n",
       "      <td>0.780935</td>\n",
       "      <td>0.758326</td>\n",
       "      <td>0.830040</td>\n",
       "    </tr>\n",
       "  </tbody>\n",
       "</table>\n",
       "</div>"
      ],
      "text/plain": [
       "               FPR@95     AUROC   AUPR_In\n",
       "SVHN         0.821287  0.719022  0.781617\n",
       "LSUN         0.560891  0.912340  0.934310\n",
       "LSUN_resize  0.851980  0.732777  0.790774\n",
       "iSUN         0.823982  0.752149  0.816728\n",
       "dtd          0.846535  0.675339  0.826769\n",
       "Avg.         0.780935  0.758326  0.830040"
      ]
     },
     "execution_count": 11,
     "metadata": {},
     "output_type": "execute_result"
    }
   ],
   "source": [
    "cls_df.T[['FPR@95', 'AUROC', 'AUPR_In']]"
   ]
  },
  {
   "cell_type": "code",
   "execution_count": null,
   "metadata": {},
   "outputs": [],
   "source": []
  }
 ],
 "metadata": {
  "kernelspec": {
   "display_name": "jax",
   "language": "python",
   "name": "python3"
  },
  "language_info": {
   "codemirror_mode": {
    "name": "ipython",
    "version": 3
   },
   "file_extension": ".py",
   "mimetype": "text/x-python",
   "name": "python",
   "nbconvert_exporter": "python",
   "pygments_lexer": "ipython3",
   "version": "3.10.9"
  },
  "orig_nbformat": 4,
  "vscode": {
   "interpreter": {
    "hash": "3fa6689b546259a140f700df87133380835e0a96e9af08af581bf45c0ff0ee88"
   }
  }
 },
 "nbformat": 4,
 "nbformat_minor": 2
}
