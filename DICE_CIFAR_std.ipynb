{
 "cells": [
  {
   "attachments": {},
   "cell_type": "markdown",
   "metadata": {},
   "source": [
    "# DICE (std. not avg.)\n",
    "[DICE: Leveraging Sparsification for Out-of-Distribution Detection](https://arxiv.org/abs/2111.09805)"
   ]
  },
  {
   "cell_type": "code",
   "execution_count": 1,
   "metadata": {},
   "outputs": [],
   "source": [
    "import torch\n",
    "import torchvision\n",
    "import torchvision.transforms as transforms\n",
    "\n",
    "import numpy as np\n",
    "import pandas as pd\n",
    "from tqdm.auto import tqdm\n",
    "\n",
    "from models.densenet import DenseNet3\n",
    "import util.svhn_loader as svhn"
   ]
  },
  {
   "cell_type": "code",
   "execution_count": 2,
   "metadata": {},
   "outputs": [
    {
     "name": "stdout",
     "output_type": "stream",
     "text": [
      "Files already downloaded and verified\n",
      "Files already downloaded and verified\n",
      "Files already downloaded and verified\n"
     ]
    }
   ],
   "source": [
    "transform_cifar = transforms.Compose([\n",
    "  transforms.Resize(32),\n",
    "  transforms.CenterCrop(32),\n",
    "  transforms.ToTensor(),\n",
    "  transforms.Normalize((0.4914, 0.4822, 0.4465), (0.2023, 0.1994, 0.2010)),\n",
    "])\n",
    "\n",
    "datasets = {\n",
    "  'CIFAR-10': torchvision.datasets.CIFAR10(root='./datasets/id_datasets/', train=False, download=True, transform=transform_cifar),\n",
    "  'CIFAR-100': torchvision.datasets.CIFAR100(root='./datasets/id_datasets/', train=False, download=True, transform=transform_cifar), \n",
    "  'SVHN': svhn.SVHN('datasets/ood_datasets/svhn/', split='test', transform=transform_cifar, download=False),\n",
    "  'dtd': torchvision.datasets.ImageFolder(root=\"datasets/ood_datasets/dtd/images\", transform=transform_cifar),\n",
    "  'places365': torchvision.datasets.ImageFolder(root=\"datasets/ood_datasets/places365/\", transform=transform_cifar),\n",
    "  'celebA': torchvision.datasets.CelebA(root='datasets/ood_datasets/', split='test', download=True, transform=transform_cifar),\n",
    "  'iSUN': torchvision.datasets.ImageFolder(\"./datasets/ood_datasets/iSUN\", transform=transform_cifar),\n",
    "  'LSUN': torchvision.datasets.ImageFolder(\"./datasets/ood_datasets/LSUN\", transform=transform_cifar),\n",
    "  'LSUN_resize': torchvision.datasets.ImageFolder(\"./datasets/ood_datasets/LSUN_resize\", transform=transform_cifar),\n",
    "}\n",
    "\n",
    "dataloaders = {\n",
    "  k: torch.utils.data.DataLoader(v, batch_size=512, shuffle=False) for k,v in datasets.items()\n",
    "}\n",
    "\n",
    "ood_dls = ['SVHN', 'LSUN', 'LSUN_resize', 'iSUN', 'dtd', 'places365']"
   ]
  },
  {
   "cell_type": "code",
   "execution_count": 3,
   "metadata": {},
   "outputs": [],
   "source": [
    "import sys\n",
    "sys.path.append('./code/')\n",
    "\n",
    "from metrics import BinaryMetrics, Runner\n",
    "from stats import Stats\n",
    "from dice import DICE\n",
    "\n",
    "device = 'cuda:0'\n",
    "result_dfs = {}"
   ]
  },
  {
   "attachments": {},
   "cell_type": "markdown",
   "metadata": {},
   "source": [
    "## CIFAR-100"
   ]
  },
  {
   "cell_type": "code",
   "execution_count": 4,
   "metadata": {},
   "outputs": [],
   "source": [
    "densenet = DenseNet3(100, 100, 12, reduction=0.5, bottleneck=True, dropRate=0.0, normalizer=None, p=None, info=None)\n",
    "checkpoint = torch.load(\"./checkpoints/CIFAR-100/densenet/checkpoint_100.pth.tar\", map_location=device)\n",
    "densenet.load_state_dict(checkpoint['state_dict'])\n",
    "densenet.eval()\n",
    "\n",
    "model = DICE(densenet, device, mode='energy')"
   ]
  },
  {
   "attachments": {},
   "cell_type": "markdown",
   "metadata": {},
   "source": [
    "* With Sparsity $p=90$"
   ]
  },
  {
   "cell_type": "code",
   "execution_count": 5,
   "metadata": {},
   "outputs": [
    {
     "data": {
      "application/vnd.jupyter.widget-view+json": {
       "model_id": "8a4e9c9bb13d482bbaf8db96ca4ea0f8",
       "version_major": 2,
       "version_minor": 0
      },
      "text/plain": [
       "  0%|          | 0/20 [00:00<?, ?it/s]"
      ]
     },
     "metadata": {},
     "output_type": "display_data"
    }
   ],
   "source": [
    "return_nodes = {\n",
    "  'view': 'feature',\n",
    "  # 'fc': 'logit',\n",
    "}\n",
    "s = Stats(densenet, return_nodes, device)\n",
    "s.run(dataloaders['CIFAR-100'])\n",
    "\n",
    "# avg_features = torch.stack([s.compute(target=i)['feature'] for i in range(100)])\n",
    "# model.set_dice_(avg_features.to(device), p=90)\n",
    "# std_features = torch.stack([s.compute(target=i, std=True)[1]['feature'] for i in range(100)])\n",
    "# model.set_dice_(std_features.to(device), p=90)\n",
    "std_features = s.compute(std=True)[1]['feature']\n",
    "model.set_dice_(std_features.to(device), p=90)"
   ]
  },
  {
   "cell_type": "code",
   "execution_count": 6,
   "metadata": {},
   "outputs": [
    {
     "data": {
      "application/vnd.jupyter.widget-view+json": {
       "model_id": "d5ae45b2a0744b329763cb1cf6b6a7a4",
       "version_major": 2,
       "version_minor": 0
      },
      "text/plain": [
       "In-dist:   0%|          | 0/20 [00:00<?, ?it/s]"
      ]
     },
     "metadata": {},
     "output_type": "display_data"
    },
    {
     "name": "stderr",
     "output_type": "stream",
     "text": [
      "/home/bckim/miniconda3/envs/jax/lib/python3.10/site-packages/torchmetrics/utilities/prints.py:36: UserWarning: No negative samples in targets, false positive value should be meaningless. Returning zero tensor in false positive score\n",
      "  warnings.warn(*args, **kwargs)\n"
     ]
    },
    {
     "data": {
      "application/vnd.jupyter.widget-view+json": {
       "model_id": "9dd5e62c43e5425dbfec0b83ecdb12fc",
       "version_major": 2,
       "version_minor": 0
      },
      "text/plain": [
       "Out-of-dist:   0%|          | 0/20 [00:00<?, ?it/s]"
      ]
     },
     "metadata": {},
     "output_type": "display_data"
    },
    {
     "name": "stderr",
     "output_type": "stream",
     "text": [
      "/home/bckim/miniconda3/envs/jax/lib/python3.10/site-packages/torchmetrics/utilities/prints.py:36: UserWarning: No positive samples in targets, true positive value should be meaningless. Returning zero tensor in true positive score\n",
      "  warnings.warn(*args, **kwargs)\n"
     ]
    },
    {
     "data": {
      "application/vnd.jupyter.widget-view+json": {
       "model_id": "0e1401c79ab14c468d437f3c72c65e63",
       "version_major": 2,
       "version_minor": 0
      },
      "text/plain": [
       "Out-of-dist:   0%|          | 0/20 [00:00<?, ?it/s]"
      ]
     },
     "metadata": {},
     "output_type": "display_data"
    },
    {
     "data": {
      "application/vnd.jupyter.widget-view+json": {
       "model_id": "0451dd1d1d8d42789c1c4dd87050e753",
       "version_major": 2,
       "version_minor": 0
      },
      "text/plain": [
       "Out-of-dist:   0%|          | 0/20 [00:00<?, ?it/s]"
      ]
     },
     "metadata": {},
     "output_type": "display_data"
    },
    {
     "data": {
      "application/vnd.jupyter.widget-view+json": {
       "model_id": "097f9eb351954fabb012f74075f86d5e",
       "version_major": 2,
       "version_minor": 0
      },
      "text/plain": [
       "Out-of-dist:   0%|          | 0/18 [00:00<?, ?it/s]"
      ]
     },
     "metadata": {},
     "output_type": "display_data"
    },
    {
     "data": {
      "application/vnd.jupyter.widget-view+json": {
       "model_id": "52e5714fd6604cd68ba79dd19c719e21",
       "version_major": 2,
       "version_minor": 0
      },
      "text/plain": [
       "Out-of-dist:   0%|          | 0/12 [00:00<?, ?it/s]"
      ]
     },
     "metadata": {},
     "output_type": "display_data"
    },
    {
     "data": {
      "application/vnd.jupyter.widget-view+json": {
       "model_id": "8526c447817848c78c53babd1533c0be",
       "version_major": 2,
       "version_minor": 0
      },
      "text/plain": [
       "Out-of-dist:   0%|          | 0/642 [00:00<?, ?it/s]"
      ]
     },
     "metadata": {},
     "output_type": "display_data"
    }
   ],
   "source": [
    "dice_metrics = BinaryMetrics()\n",
    "dice = Runner(model, dice_metrics, dataloaders['CIFAR-100'], device)\n",
    "\n",
    "dict_dice_metrics = {}\n",
    "for nm_dl in ood_dls:\n",
    "  dict_dice_metrics[nm_dl] = dice.run(dataloaders[nm_dl])\n",
    "\n",
    "dice_df = pd.DataFrame(dict_dice_metrics)\n",
    "dice_df['Avg.'] = dice_df.mean(axis=1)\n",
    "result_dfs['CIFAR-100_dice'] = dice_df\n",
    "\n",
    "# dice_df.T[['FPR@95', 'AUROC', 'AUPR_In']]"
   ]
  },
  {
   "attachments": {},
   "cell_type": "markdown",
   "metadata": {},
   "source": [
    "## CIFAR-10"
   ]
  },
  {
   "cell_type": "code",
   "execution_count": 7,
   "metadata": {},
   "outputs": [],
   "source": [
    "densenet = DenseNet3(100, 10, 12, reduction=0.5, bottleneck=True, dropRate=0.0, normalizer=None, p=None, info=None)\n",
    "checkpoint = torch.load(\"./checkpoints/CIFAR-10/densenet/checkpoint_100.pth.tar\", map_location=device)\n",
    "densenet.load_state_dict(checkpoint['state_dict'])\n",
    "densenet.eval()\n",
    "\n",
    "model = DICE(densenet, device, mode='energy')"
   ]
  },
  {
   "attachments": {},
   "cell_type": "markdown",
   "metadata": {},
   "source": [
    "* With Sparsity $p=90$"
   ]
  },
  {
   "cell_type": "code",
   "execution_count": 8,
   "metadata": {},
   "outputs": [
    {
     "data": {
      "application/vnd.jupyter.widget-view+json": {
       "model_id": "6cfd3d2f53e54686b5746005c21fe6cf",
       "version_major": 2,
       "version_minor": 0
      },
      "text/plain": [
       "  0%|          | 0/20 [00:00<?, ?it/s]"
      ]
     },
     "metadata": {},
     "output_type": "display_data"
    }
   ],
   "source": [
    "return_nodes = {\n",
    "  'view': 'feature',\n",
    "  # 'fc': 'logit',\n",
    "}\n",
    "s = Stats(densenet, return_nodes, device)\n",
    "s.run(dataloaders['CIFAR-10'])\n",
    "\n",
    "# avg_features = torch.stack([s.compute(target=i)['feature'] for i in range(10)])\n",
    "# model.set_dice_(avg_features.to(device), p=90)\n",
    "# std_features = torch.stack([s.compute(target=i, std=True)[1]['feature'] for i in range(10)])\n",
    "# model.set_dice_(std_features.to(device), p=90)\n",
    "std_features = s.compute(std=True)[1]['feature']\n",
    "model.set_dice_(std_features.to(device), p=90)"
   ]
  },
  {
   "cell_type": "code",
   "execution_count": 9,
   "metadata": {},
   "outputs": [
    {
     "data": {
      "application/vnd.jupyter.widget-view+json": {
       "model_id": "38537a2de5d7497da12c8a2f4c1a1e4d",
       "version_major": 2,
       "version_minor": 0
      },
      "text/plain": [
       "In-dist:   0%|          | 0/20 [00:00<?, ?it/s]"
      ]
     },
     "metadata": {},
     "output_type": "display_data"
    },
    {
     "name": "stderr",
     "output_type": "stream",
     "text": [
      "/home/bckim/miniconda3/envs/jax/lib/python3.10/site-packages/torchmetrics/utilities/prints.py:36: UserWarning: No negative samples in targets, false positive value should be meaningless. Returning zero tensor in false positive score\n",
      "  warnings.warn(*args, **kwargs)\n"
     ]
    },
    {
     "data": {
      "application/vnd.jupyter.widget-view+json": {
       "model_id": "b978ac06ca46448788f69d8382f1d9ed",
       "version_major": 2,
       "version_minor": 0
      },
      "text/plain": [
       "Out-of-dist:   0%|          | 0/20 [00:00<?, ?it/s]"
      ]
     },
     "metadata": {},
     "output_type": "display_data"
    },
    {
     "name": "stderr",
     "output_type": "stream",
     "text": [
      "/home/bckim/miniconda3/envs/jax/lib/python3.10/site-packages/torchmetrics/utilities/prints.py:36: UserWarning: No positive samples in targets, true positive value should be meaningless. Returning zero tensor in true positive score\n",
      "  warnings.warn(*args, **kwargs)\n"
     ]
    },
    {
     "data": {
      "application/vnd.jupyter.widget-view+json": {
       "model_id": "7977a596dcc74036bbc7a58569c0582c",
       "version_major": 2,
       "version_minor": 0
      },
      "text/plain": [
       "Out-of-dist:   0%|          | 0/20 [00:00<?, ?it/s]"
      ]
     },
     "metadata": {},
     "output_type": "display_data"
    },
    {
     "data": {
      "application/vnd.jupyter.widget-view+json": {
       "model_id": "0d1460acf4ad48eeb2b0045816a35345",
       "version_major": 2,
       "version_minor": 0
      },
      "text/plain": [
       "Out-of-dist:   0%|          | 0/20 [00:00<?, ?it/s]"
      ]
     },
     "metadata": {},
     "output_type": "display_data"
    },
    {
     "data": {
      "application/vnd.jupyter.widget-view+json": {
       "model_id": "eee126c37756446a97ca4f96b4112dea",
       "version_major": 2,
       "version_minor": 0
      },
      "text/plain": [
       "Out-of-dist:   0%|          | 0/18 [00:00<?, ?it/s]"
      ]
     },
     "metadata": {},
     "output_type": "display_data"
    },
    {
     "data": {
      "application/vnd.jupyter.widget-view+json": {
       "model_id": "85dbf3bd255d4105b5ac11e6111ef21c",
       "version_major": 2,
       "version_minor": 0
      },
      "text/plain": [
       "Out-of-dist:   0%|          | 0/12 [00:00<?, ?it/s]"
      ]
     },
     "metadata": {},
     "output_type": "display_data"
    },
    {
     "data": {
      "application/vnd.jupyter.widget-view+json": {
       "model_id": "bf7c57a90fe6462db460af07b4ec18ef",
       "version_major": 2,
       "version_minor": 0
      },
      "text/plain": [
       "Out-of-dist:   0%|          | 0/642 [00:00<?, ?it/s]"
      ]
     },
     "metadata": {},
     "output_type": "display_data"
    }
   ],
   "source": [
    "dice_metrics = BinaryMetrics()\n",
    "dice = Runner(model, dice_metrics, dataloaders['CIFAR-10'], device)\n",
    "\n",
    "dict_dice_metrics = {}\n",
    "for nm_dl in ood_dls:\n",
    "  dict_dice_metrics[nm_dl] = dice.run(dataloaders[nm_dl])\n",
    "\n",
    "dice_df = pd.DataFrame(dict_dice_metrics)\n",
    "dice_df['Avg.'] = dice_df.mean(axis=1)\n",
    "result_dfs['CIFAR-10_dice'] = dice_df\n",
    "\n",
    "# dice_df.T[['FPR@95', 'AUROC', 'AUPR_In']]"
   ]
  },
  {
   "attachments": {},
   "cell_type": "markdown",
   "metadata": {},
   "source": [
    "## Results"
   ]
  },
  {
   "cell_type": "code",
   "execution_count": 10,
   "metadata": {},
   "outputs": [
    {
     "data": {
      "text/html": [
       "<div>\n",
       "<style scoped>\n",
       "    .dataframe tbody tr th:only-of-type {\n",
       "        vertical-align: middle;\n",
       "    }\n",
       "\n",
       "    .dataframe tbody tr th {\n",
       "        vertical-align: top;\n",
       "    }\n",
       "\n",
       "    .dataframe thead th {\n",
       "        text-align: right;\n",
       "    }\n",
       "</style>\n",
       "<table border=\"1\" class=\"dataframe\">\n",
       "  <thead>\n",
       "    <tr style=\"text-align: right;\">\n",
       "      <th></th>\n",
       "      <th>FPR@95</th>\n",
       "      <th>AUROC</th>\n",
       "      <th>AUPR_In</th>\n",
       "    </tr>\n",
       "  </thead>\n",
       "  <tbody>\n",
       "    <tr>\n",
       "      <th>SVHN</th>\n",
       "      <td>0.607800</td>\n",
       "      <td>0.884362</td>\n",
       "      <td>0.902689</td>\n",
       "    </tr>\n",
       "    <tr>\n",
       "      <th>LSUN</th>\n",
       "      <td>0.009500</td>\n",
       "      <td>0.997497</td>\n",
       "      <td>0.997506</td>\n",
       "    </tr>\n",
       "    <tr>\n",
       "      <th>LSUN_resize</th>\n",
       "      <td>0.520900</td>\n",
       "      <td>0.892435</td>\n",
       "      <td>0.902281</td>\n",
       "    </tr>\n",
       "    <tr>\n",
       "      <th>iSUN</th>\n",
       "      <td>0.493894</td>\n",
       "      <td>0.895941</td>\n",
       "      <td>0.910864</td>\n",
       "    </tr>\n",
       "    <tr>\n",
       "      <th>dtd</th>\n",
       "      <td>0.604433</td>\n",
       "      <td>0.775184</td>\n",
       "      <td>0.796065</td>\n",
       "    </tr>\n",
       "    <tr>\n",
       "      <th>places365</th>\n",
       "      <td>0.793306</td>\n",
       "      <td>0.782958</td>\n",
       "      <td>0.148863</td>\n",
       "    </tr>\n",
       "    <tr>\n",
       "      <th>Avg.</th>\n",
       "      <td>0.504972</td>\n",
       "      <td>0.871396</td>\n",
       "      <td>0.776378</td>\n",
       "    </tr>\n",
       "  </tbody>\n",
       "</table>\n",
       "</div>"
      ],
      "text/plain": [
       "               FPR@95     AUROC   AUPR_In\n",
       "SVHN         0.607800  0.884362  0.902689\n",
       "LSUN         0.009500  0.997497  0.997506\n",
       "LSUN_resize  0.520900  0.892435  0.902281\n",
       "iSUN         0.493894  0.895941  0.910864\n",
       "dtd          0.604433  0.775184  0.796065\n",
       "places365    0.793306  0.782958  0.148863\n",
       "Avg.         0.504972  0.871396  0.776378"
      ]
     },
     "execution_count": 10,
     "metadata": {},
     "output_type": "execute_result"
    }
   ],
   "source": [
    "result_dfs['CIFAR-100_dice'].T[['FPR@95', 'AUROC', 'AUPR_In']]"
   ]
  },
  {
   "cell_type": "code",
   "execution_count": 11,
   "metadata": {},
   "outputs": [
    {
     "data": {
      "text/html": [
       "<div>\n",
       "<style scoped>\n",
       "    .dataframe tbody tr th:only-of-type {\n",
       "        vertical-align: middle;\n",
       "    }\n",
       "\n",
       "    .dataframe tbody tr th {\n",
       "        vertical-align: top;\n",
       "    }\n",
       "\n",
       "    .dataframe thead th {\n",
       "        text-align: right;\n",
       "    }\n",
       "</style>\n",
       "<table border=\"1\" class=\"dataframe\">\n",
       "  <thead>\n",
       "    <tr style=\"text-align: right;\">\n",
       "      <th></th>\n",
       "      <th>FPR@95</th>\n",
       "      <th>AUROC</th>\n",
       "      <th>AUPR_In</th>\n",
       "    </tr>\n",
       "  </thead>\n",
       "  <tbody>\n",
       "    <tr>\n",
       "      <th>SVHN</th>\n",
       "      <td>0.295700</td>\n",
       "      <td>0.946619</td>\n",
       "      <td>0.952029</td>\n",
       "    </tr>\n",
       "    <tr>\n",
       "      <th>LSUN</th>\n",
       "      <td>0.003800</td>\n",
       "      <td>0.998989</td>\n",
       "      <td>0.998999</td>\n",
       "    </tr>\n",
       "    <tr>\n",
       "      <th>LSUN_resize</th>\n",
       "      <td>0.043900</td>\n",
       "      <td>0.990308</td>\n",
       "      <td>0.991158</td>\n",
       "    </tr>\n",
       "    <tr>\n",
       "      <th>iSUN</th>\n",
       "      <td>0.051317</td>\n",
       "      <td>0.989727</td>\n",
       "      <td>0.991648</td>\n",
       "    </tr>\n",
       "    <tr>\n",
       "      <th>dtd</th>\n",
       "      <td>0.457092</td>\n",
       "      <td>0.869977</td>\n",
       "      <td>0.888359</td>\n",
       "    </tr>\n",
       "    <tr>\n",
       "      <th>places365</th>\n",
       "      <td>0.449796</td>\n",
       "      <td>0.901538</td>\n",
       "      <td>0.332931</td>\n",
       "    </tr>\n",
       "    <tr>\n",
       "      <th>Avg.</th>\n",
       "      <td>0.216934</td>\n",
       "      <td>0.949526</td>\n",
       "      <td>0.859187</td>\n",
       "    </tr>\n",
       "  </tbody>\n",
       "</table>\n",
       "</div>"
      ],
      "text/plain": [
       "               FPR@95     AUROC   AUPR_In\n",
       "SVHN         0.295700  0.946619  0.952029\n",
       "LSUN         0.003800  0.998989  0.998999\n",
       "LSUN_resize  0.043900  0.990308  0.991158\n",
       "iSUN         0.051317  0.989727  0.991648\n",
       "dtd          0.457092  0.869977  0.888359\n",
       "places365    0.449796  0.901538  0.332931\n",
       "Avg.         0.216934  0.949526  0.859187"
      ]
     },
     "execution_count": 11,
     "metadata": {},
     "output_type": "execute_result"
    }
   ],
   "source": [
    "result_dfs['CIFAR-10_dice'].T[['FPR@95', 'AUROC', 'AUPR_In']]"
   ]
  }
 ],
 "metadata": {
  "kernelspec": {
   "display_name": "jax",
   "language": "python",
   "name": "python3"
  },
  "language_info": {
   "codemirror_mode": {
    "name": "ipython",
    "version": 3
   },
   "file_extension": ".py",
   "mimetype": "text/x-python",
   "name": "python",
   "nbconvert_exporter": "python",
   "pygments_lexer": "ipython3",
   "version": "3.10.9"
  },
  "orig_nbformat": 4,
  "vscode": {
   "interpreter": {
    "hash": "3fa6689b546259a140f700df87133380835e0a96e9af08af581bf45c0ff0ee88"
   }
  }
 },
 "nbformat": 4,
 "nbformat_minor": 2
}
