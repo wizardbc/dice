{
 "cells": [
  {
   "cell_type": "code",
   "execution_count": null,
   "metadata": {},
   "outputs": [],
   "source": []
  }
 ],
 "metadata": {
  "kernelspec": {
   "display_name": "jax",
   "language": "python",
   "name": "python3"
  },
  "language_info": {
   "name": "python",
   "version": "3.10.9"
  },
  "orig_nbformat": 4,
  "vscode": {
   "interpreter": {
    "hash": "3fa6689b546259a140f700df87133380835e0a96e9af08af581bf45c0ff0ee88"
   }
  }
 },
 "nbformat": 4,
 "nbformat_minor": 2
}
